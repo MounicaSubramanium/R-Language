{
  "nbformat": 4,
  "nbformat_minor": 0,
  "metadata": {
    "colab": {
      "name": "Final Assignment",
      "provenance": [],
      "collapsed_sections": [],
      "machine_shape": "hm",
      "include_colab_link": true
    },
    "kernelspec": {
      "name": "python3",
      "display_name": "Python 3"
    }
  },
  "cells": [
    {
      "cell_type": "markdown",
      "metadata": {
        "id": "view-in-github",
        "colab_type": "text"
      },
      "source": [
        "<a href=\"https://colab.research.google.com/github/MounicaSubramanium/R-Language/blob/master/Final_Assignment.ipynb\" target=\"_parent\"><img src=\"https://colab.research.google.com/assets/colab-badge.svg\" alt=\"Open In Colab\"/></a>"
      ]
    },
    {
      "cell_type": "markdown",
      "metadata": {
        "id": "qaTUTrqJK9b6",
        "colab_type": "text"
      },
      "source": [
        ">[QPID Machine Learning/Data Science Challenge](#scrollTo=0rfF7yE_Nzsx)\n",
        "\n",
        ">>[Introduction](#scrollTo=rm6JUOo3PkQ3)\n",
        "\n",
        ">>>[Problem Statement](#scrollTo=tcXSWw-895ez)\n",
        "\n",
        ">>[Details](#scrollTo=GZh7-oC8ELQh)\n",
        "\n",
        ">>>[Downloading the Dataset](#scrollTo=NkkA0ZzePwI8)\n",
        "\n",
        ">>>[Dataset Description](#scrollTo=mEXwMJQ-VWoR)\n",
        "\n",
        ">>>[Hints](#scrollTo=Tg8y-zLlxZNQ)\n",
        "\n",
        ">>>[Import Libraries](#scrollTo=JBt8Ino7PGDz)\n",
        "\n",
        ">>>[Code Samples](#scrollTo=i38zIcCZXg33)\n",
        "\n",
        ">>[Tasks](#scrollTo=TJTdm_qNYqqb)\n",
        "\n",
        ">>>[Part 1: Modeling](#scrollTo=2hcyIkRSXg82)\n",
        "\n",
        ">>>[Part 2: Additional Questions](#scrollTo=8VSLpzIMXg_a)"
      ]
    },
    {
      "cell_type": "markdown",
      "metadata": {
        "id": "iTBlKBCxLEaN",
        "colab_type": "text"
      },
      "source": [
        "## Introduction"
      ]
    },
    {
      "cell_type": "markdown",
      "metadata": {
        "id": "njDD_lgpLLOe",
        "colab_type": "text"
      },
      "source": [
        "We'd like to get a better sense of your approach to and intuition for machine learning, natural language processing, data science, as well as your other technical and analytical skills. To that end, we'd like you to complete this ML challenge. \n",
        "\n",
        "In this challenge, we provide you with some code samples using `pandas` and `scikit-learn`. You may use other python libraries as well as reference online resources to complete this challenge.\n",
        "\n",
        "This is an interactive Jupyter notebook that allows you to write, comment on, and execute python code directly on Google's servers. If you are new to Jupyter notebooks, you can read more about them here: [https://jupyter.org/](https://jupyter.org/). **Please edit this notebook directly** and take as much time as you feel is reasonable to complete this exercise. \n"
      ]
    },
    {
      "cell_type": "markdown",
      "metadata": {
        "id": "w-A-xcNkLLRq",
        "colab_type": "text"
      },
      "source": [
        "\n",
        "**Please email nick.botchan@evicore.com, vpartridge@evicore.com when you are done so that we can review the changes you've made to this notebook.**"
      ]
    },
    {
      "cell_type": "markdown",
      "metadata": {
        "id": "6ezzrfp-LLVH",
        "colab_type": "text"
      },
      "source": [
        "### Problem Statement\n",
        "The goal of this notebook is to develop a model that predicts whether self-reported severity of [fibromyalgia](https://en.wikipedia.org/wiki/Fibromyalgia) **IMPROVED**, **WORSENED**, or stayed the **SAME** over a variable period of time for patients who have this condition. Below are instructions about how to download the data, as well as some sample code that generates such predictions. \n",
        "\n",
        "**Your goal is to improve on this model and show us how you think through such a problem.**"
      ]
    },
    {
      "cell_type": "markdown",
      "metadata": {
        "id": "0HMr72JiLLZS",
        "colab_type": "text"
      },
      "source": [
        "## Tasks\n",
        "\n",
        "This challenge consists of two parts: modeling and addressing additional questions. The first part is to train a model and predict the change in status of fibromyalgia. The second part is to answer some questions in regards to your approach. \n"
      ]
    },
    {
      "cell_type": "markdown",
      "metadata": {
        "id": "OLZE8DcRLcGB",
        "colab_type": "text"
      },
      "source": [
        "### Part 1: Modeling\n",
        "\n",
        "\n",
        "\n",
        "1.   We will evaluate your results on a held-out test set. Therefore, please make sure that your code is clearly documented, so that we can easily run **your code** against our test set. The test set is formatted exactly the same as the dataset set we provided. **You will not be judged solely on the performance of the model.** We are also interested in your creativity and problem solving approach.  \n",
        "2.   Please report on how well the model did. You may choose to whatever metrics you find appropriate.\n"
      ]
    },
    {
      "cell_type": "markdown",
      "metadata": {
        "id": "WGMbncjZLcJS",
        "colab_type": "text"
      },
      "source": [
        "### Part 2: Additional Questions\n",
        "\n",
        "Please answer the following questions at the bottom of the notebook when you have completed part 1:\n",
        "\n",
        "1.   If you've explored the data, please describe your observations about the dataset. \n",
        "2.   What approach (i.e. modeling & evaluation) did you use?\n",
        "3.   What features have you tried (please also include the ones that you do not include in your final model)?\n",
        "4.   Why did you use this approach?\n",
        "5.   How would you improve your model if you had more time?"
      ]
    },
    {
      "cell_type": "markdown",
      "metadata": {
        "id": "mFnqU7IlLcTU",
        "colab_type": "text"
      },
      "source": [
        "## The Dataset"
      ]
    },
    {
      "cell_type": "markdown",
      "metadata": {
        "id": "nHwSVwdULn65",
        "colab_type": "text"
      },
      "source": [
        "### Downloading the Dataset\n",
        "\n",
        "The following is a function to download the datasets and then import it as a pandas `DataFrame` object. \n",
        "\n",
        "You may need to sign in with your Google account when prompted."
      ]
    },
    {
      "cell_type": "code",
      "metadata": {
        "id": "TP9VnXWjmwGZ",
        "colab_type": "code",
        "colab": {}
      },
      "source": [
        "from pydrive.auth import GoogleAuth\n",
        "from pydrive.drive import GoogleDrive\n",
        "from google.colab import auth\n",
        "from oauth2client.client import GoogleCredentials\n",
        "\n",
        "import pandas as pd\n",
        "import io\n",
        "import json"
      ],
      "execution_count": 0,
      "outputs": []
    },
    {
      "cell_type": "code",
      "metadata": {
        "id": "4pCUwmVsOZXJ",
        "colab_type": "code",
        "colab": {}
      },
      "source": [
        "# Authenticate and create the PyDrive client.\n",
        "# This only needs to be done once per notebook.\n",
        "def download_dataset(file_id):\n",
        "  auth.authenticate_user()\n",
        "  gauth = GoogleAuth()\n",
        "  gauth.credentials = GoogleCredentials.get_application_default()\n",
        "  drive = GoogleDrive(gauth)\n",
        "\n",
        "  # Download a file based on its file ID.\n",
        "  downloaded = drive.CreateFile({'id': file_id})\n",
        "  content = downloaded.GetContentString()\n",
        "  \n",
        "  return pd.read_csv(io.StringIO(content))\n",
        "  "
      ],
      "execution_count": 0,
      "outputs": []
    },
    {
      "cell_type": "markdown",
      "metadata": {
        "id": "dLg0L0KvLuuq",
        "colab_type": "text"
      },
      "source": [
        "### Dataset Description\n",
        "\n",
        "The dataset you will be using is a subset of the Chronic Illness dataset on Kaggle: https://www.kaggle.com/flaredown/flaredown-autoimmune-symptom-tracker\n",
        "\n",
        "\n",
        "\n",
        "Flaredown is an app that helps patients of chronic autoimmune and invisible illnesses improve their symptoms by avoiding triggers and evaluating their treatments. Each day, patients track their symptom severity, treatments and doses, and any potential environmental triggers (foods, stress, allergens, etc) they encounter.\n",
        "\n",
        "**About the data**\n",
        "\n",
        "Instead of coupling symptoms to a particular illness, Flaredown asks users to create their unique set of conditions, symptoms and treatments (“**trackables**”). They can then “check-in” each day and record the severity of symptoms and conditions, the doses of treatments, and “tag” the day with any unexpected environmental factors.\n",
        "\n",
        "**Condition**: an illness or diagnosis, for example Rheumatoid Arthritis, rated on a scale of **0 (not active) to 4 (extremely active)**.\n",
        "\n",
        "**Symptom**: self-explanatory, also rated on a 0–4 scale.\n",
        "\n",
        "**Treatment**: anything a patient uses to improve their symptoms, along with an optional dose, which is a string that describes how much they took during the day. For instance “3 x 5mg”.\n",
        "\n",
        "**Tag**: a string representing an environmental factor that does not occur every day, for example “ate dairy” or “rainy day”.\n",
        "\n",
        "**Food**: food items were seeded from the publicly-available USDA food database. Users have also added many food items manually.\n",
        "\n",
        "**Weather**: weather is pulled automatically for the user's postal code from the Dark Sky API. Weather parameters include a description, precipitation intensity, humidity, pressure, and min/max temperatures for the day.\n",
        "\n",
        "If users do not see a symptom, treatment, tag, or food in our database (for instance “Abdominal Pain” as a symptom) they may add it by simply naming it. This means that the data requires some cleaning, but it is patient-centered and indicates their primary concerns.\n",
        "\n"
      ]
    },
    {
      "cell_type": "markdown",
      "metadata": {
        "id": "lTNguYeuLzf4",
        "colab_type": "text"
      },
      "source": [
        "The following is a snippet of what the original dataset looks like:"
      ]
    },
    {
      "cell_type": "code",
      "metadata": {
        "id": "hCE5lGxeOiXq",
        "colab_type": "code",
        "colab": {}
      },
      "source": [
        "sample_file_id = '1r4afwYJ3JC_8kJFMKbYea_7vnnXaFb1r'\n",
        "sample_df = download_dataset(sample_file_id)"
      ],
      "execution_count": 0,
      "outputs": []
    },
    {
      "cell_type": "code",
      "metadata": {
        "id": "9evNAEQSOjCi",
        "colab_type": "code",
        "outputId": "aba823f5-dab0-425b-fd9c-4494952b17d3",
        "colab": {
          "base_uri": "https://localhost:8080/",
          "height": 355
        }
      },
      "source": [
        "sample_df.head(10)"
      ],
      "execution_count": 7,
      "outputs": [
        {
          "output_type": "execute_result",
          "data": {
            "text/html": [
              "<div>\n",
              "<style scoped>\n",
              "    .dataframe tbody tr th:only-of-type {\n",
              "        vertical-align: middle;\n",
              "    }\n",
              "\n",
              "    .dataframe tbody tr th {\n",
              "        vertical-align: top;\n",
              "    }\n",
              "\n",
              "    .dataframe thead th {\n",
              "        text-align: right;\n",
              "    }\n",
              "</style>\n",
              "<table border=\"1\" class=\"dataframe\">\n",
              "  <thead>\n",
              "    <tr style=\"text-align: right;\">\n",
              "      <th></th>\n",
              "      <th>user_id</th>\n",
              "      <th>age</th>\n",
              "      <th>sex</th>\n",
              "      <th>country</th>\n",
              "      <th>checkin_date</th>\n",
              "      <th>trackable_id</th>\n",
              "      <th>trackable_type</th>\n",
              "      <th>trackable_name</th>\n",
              "      <th>trackable_value</th>\n",
              "    </tr>\n",
              "  </thead>\n",
              "  <tbody>\n",
              "    <tr>\n",
              "      <th>0</th>\n",
              "      <td>QEVuQwEA3f/zxWRp83ISPfOlrlHpHg==</td>\n",
              "      <td>NaN</td>\n",
              "      <td>NaN</td>\n",
              "      <td>NaN</td>\n",
              "      <td>5/26/15</td>\n",
              "      <td>99</td>\n",
              "      <td>Condition</td>\n",
              "      <td>Back pain</td>\n",
              "      <td>1</td>\n",
              "    </tr>\n",
              "    <tr>\n",
              "      <th>1</th>\n",
              "      <td>QEVuQwEA3f/zxWRp83ISPfOlrlHpHg==</td>\n",
              "      <td>NaN</td>\n",
              "      <td>NaN</td>\n",
              "      <td>NaN</td>\n",
              "      <td>5/26/15</td>\n",
              "      <td>199</td>\n",
              "      <td>Condition</td>\n",
              "      <td>Chest pain</td>\n",
              "      <td>0</td>\n",
              "    </tr>\n",
              "    <tr>\n",
              "      <th>2</th>\n",
              "      <td>QEVuQwEA3f/zxWRp83ISPfOlrlHpHg==</td>\n",
              "      <td>NaN</td>\n",
              "      <td>NaN</td>\n",
              "      <td>NaN</td>\n",
              "      <td>5/26/15</td>\n",
              "      <td>582</td>\n",
              "      <td>Condition</td>\n",
              "      <td>Knee pain</td>\n",
              "      <td>1</td>\n",
              "    </tr>\n",
              "    <tr>\n",
              "      <th>3</th>\n",
              "      <td>QEVuQwEA3f/zxWRp83ISPfOlrlHpHg==</td>\n",
              "      <td>NaN</td>\n",
              "      <td>NaN</td>\n",
              "      <td>NaN</td>\n",
              "      <td>5/26/15</td>\n",
              "      <td>697</td>\n",
              "      <td>Condition</td>\n",
              "      <td>Neck pain</td>\n",
              "      <td>2</td>\n",
              "    </tr>\n",
              "    <tr>\n",
              "      <th>4</th>\n",
              "      <td>QEVuQwEA3f/zxWRp83ISPfOlrlHpHg==</td>\n",
              "      <td>NaN</td>\n",
              "      <td>NaN</td>\n",
              "      <td>NaN</td>\n",
              "      <td>5/26/15</td>\n",
              "      <td>1133</td>\n",
              "      <td>Condition</td>\n",
              "      <td>Rib pain</td>\n",
              "      <td>1</td>\n",
              "    </tr>\n",
              "    <tr>\n",
              "      <th>5</th>\n",
              "      <td>QEVuQwEA3f/zxWRp83ISPfOlrlHpHg==</td>\n",
              "      <td>NaN</td>\n",
              "      <td>NaN</td>\n",
              "      <td>NaN</td>\n",
              "      <td>5/26/15</td>\n",
              "      <td>1134</td>\n",
              "      <td>Condition</td>\n",
              "      <td>Shoulder pain</td>\n",
              "      <td>1</td>\n",
              "    </tr>\n",
              "    <tr>\n",
              "      <th>6</th>\n",
              "      <td>QEVuQwEA3f/zxWRp83ISPfOlrlHpHg==</td>\n",
              "      <td>NaN</td>\n",
              "      <td>NaN</td>\n",
              "      <td>NaN</td>\n",
              "      <td>5/26/15</td>\n",
              "      <td>1135</td>\n",
              "      <td>Condition</td>\n",
              "      <td>Ankle Pain</td>\n",
              "      <td>3</td>\n",
              "    </tr>\n",
              "    <tr>\n",
              "      <th>7</th>\n",
              "      <td>QEVuQwEA3f/zxWRp83ISPfOlrlHpHg==</td>\n",
              "      <td>NaN</td>\n",
              "      <td>NaN</td>\n",
              "      <td>NaN</td>\n",
              "      <td>5/26/15</td>\n",
              "      <td>1136</td>\n",
              "      <td>Condition</td>\n",
              "      <td>Hip Pain</td>\n",
              "      <td>3</td>\n",
              "    </tr>\n",
              "    <tr>\n",
              "      <th>8</th>\n",
              "      <td>QEVuQwEA3f/zxWRp83ISPfOlrlHpHg==</td>\n",
              "      <td>NaN</td>\n",
              "      <td>NaN</td>\n",
              "      <td>NaN</td>\n",
              "      <td>5/26/15</td>\n",
              "      <td>1137</td>\n",
              "      <td>Condition</td>\n",
              "      <td>Stomach Pain</td>\n",
              "      <td>0</td>\n",
              "    </tr>\n",
              "    <tr>\n",
              "      <th>9</th>\n",
              "      <td>QEVuQwEA3f/zxWRp83ISPfOlrlHpHg==</td>\n",
              "      <td>NaN</td>\n",
              "      <td>NaN</td>\n",
              "      <td>NaN</td>\n",
              "      <td>5/26/15</td>\n",
              "      <td>1138</td>\n",
              "      <td>Condition</td>\n",
              "      <td>Face Pain</td>\n",
              "      <td>1</td>\n",
              "    </tr>\n",
              "  </tbody>\n",
              "</table>\n",
              "</div>"
            ],
            "text/plain": [
              "                            user_id  age  ...  trackable_name  trackable_value\n",
              "0  QEVuQwEA3f/zxWRp83ISPfOlrlHpHg==  NaN  ...       Back pain                1\n",
              "1  QEVuQwEA3f/zxWRp83ISPfOlrlHpHg==  NaN  ...      Chest pain                0\n",
              "2  QEVuQwEA3f/zxWRp83ISPfOlrlHpHg==  NaN  ...       Knee pain                1\n",
              "3  QEVuQwEA3f/zxWRp83ISPfOlrlHpHg==  NaN  ...       Neck pain                2\n",
              "4  QEVuQwEA3f/zxWRp83ISPfOlrlHpHg==  NaN  ...        Rib pain                1\n",
              "5  QEVuQwEA3f/zxWRp83ISPfOlrlHpHg==  NaN  ...   Shoulder pain                1\n",
              "6  QEVuQwEA3f/zxWRp83ISPfOlrlHpHg==  NaN  ...      Ankle Pain                3\n",
              "7  QEVuQwEA3f/zxWRp83ISPfOlrlHpHg==  NaN  ...        Hip Pain                3\n",
              "8  QEVuQwEA3f/zxWRp83ISPfOlrlHpHg==  NaN  ...    Stomach Pain                0\n",
              "9  QEVuQwEA3f/zxWRp83ISPfOlrlHpHg==  NaN  ...       Face Pain                1\n",
              "\n",
              "[10 rows x 9 columns]"
            ]
          },
          "metadata": {
            "tags": []
          },
          "execution_count": 7
        }
      ]
    },
    {
      "cell_type": "markdown",
      "metadata": {
        "id": "fenUkg-yL3d-",
        "colab_type": "text"
      },
      "source": [
        "The dataset we provided is a subset of the original dataset, and we grouped all the `trackable_type`, `trackable_name`, and `trackable_value` of a patient/user within a `checkin_date` into one JSON array. \n",
        "\n",
        "For example: those 10 rows in the `DataFrame` above belong to the same user within the same `checkin_date`, so the trackable columns are aggregated into a JSON array as following:"
      ]
    },
    {
      "cell_type": "code",
      "metadata": {
        "id": "PxXqicdzJ9d-",
        "colab_type": "code",
        "outputId": "e624f1b6-4f30-4e4e-c486-81c70508c4b6",
        "colab": {
          "base_uri": "https://localhost:8080/",
          "height": 55
        }
      },
      "source": [
        "sample_df.head(10)[['trackable_type', 'trackable_name', 'trackable_value']].to_json(orient='records')"
      ],
      "execution_count": 8,
      "outputs": [
        {
          "output_type": "execute_result",
          "data": {
            "text/plain": [
              "'[{\"trackable_type\":\"Condition\",\"trackable_name\":\"Back pain\",\"trackable_value\":1},{\"trackable_type\":\"Condition\",\"trackable_name\":\"Chest pain\",\"trackable_value\":0},{\"trackable_type\":\"Condition\",\"trackable_name\":\"Knee pain\",\"trackable_value\":1},{\"trackable_type\":\"Condition\",\"trackable_name\":\"Neck pain\",\"trackable_value\":2},{\"trackable_type\":\"Condition\",\"trackable_name\":\"Rib pain\",\"trackable_value\":1},{\"trackable_type\":\"Condition\",\"trackable_name\":\"Shoulder pain\",\"trackable_value\":1},{\"trackable_type\":\"Condition\",\"trackable_name\":\"Ankle Pain\",\"trackable_value\":3},{\"trackable_type\":\"Condition\",\"trackable_name\":\"Hip Pain\",\"trackable_value\":3},{\"trackable_type\":\"Condition\",\"trackable_name\":\"Stomach Pain\",\"trackable_value\":0},{\"trackable_type\":\"Condition\",\"trackable_name\":\"Face Pain\",\"trackable_value\":1}]'"
            ]
          },
          "metadata": {
            "tags": []
          },
          "execution_count": 8
        }
      ]
    },
    {
      "cell_type": "markdown",
      "metadata": {
        "id": "CoYDd0rOL7C_",
        "colab_type": "text"
      },
      "source": [
        "For this challenge, we want to compare the `trackable_value`, i.e. severity, of the condition of a user between two closest recorded dates in the dataset. (Please run the following code to download the training dataset.)"
      ]
    },
    {
      "cell_type": "code",
      "metadata": {
        "id": "Js4i1JUQJ9uC",
        "colab_type": "code",
        "colab": {}
      },
      "source": [
        "train_file_id = '1hDM1VfaZ7o1moBN1IlcaFExfoE2Jeqgg'\n",
        "dataframe = download_dataset(train_file_id)\n",
        "dataframe['entries_from'] = dataframe.entries_from.apply(json.loads)\n",
        "dataframe['entries_to'] = dataframe.entries_to.apply(json.loads)"
      ],
      "execution_count": 0,
      "outputs": []
    },
    {
      "cell_type": "code",
      "metadata": {
        "id": "i4gHY150J9xi",
        "colab_type": "code",
        "outputId": "d4a606c5-7fdd-425c-ec54-367cd419b299",
        "colab": {
          "base_uri": "https://localhost:8080/",
          "height": 375
        }
      },
      "source": [
        "dataframe.head()"
      ],
      "execution_count": 10,
      "outputs": [
        {
          "output_type": "execute_result",
          "data": {
            "text/html": [
              "<div>\n",
              "<style scoped>\n",
              "    .dataframe tbody tr th:only-of-type {\n",
              "        vertical-align: middle;\n",
              "    }\n",
              "\n",
              "    .dataframe tbody tr th {\n",
              "        vertical-align: top;\n",
              "    }\n",
              "\n",
              "    .dataframe thead th {\n",
              "        text-align: right;\n",
              "    }\n",
              "</style>\n",
              "<table border=\"1\" class=\"dataframe\">\n",
              "  <thead>\n",
              "    <tr style=\"text-align: right;\">\n",
              "      <th></th>\n",
              "      <th>user_id</th>\n",
              "      <th>checkin_date_from</th>\n",
              "      <th>checkin_date_to</th>\n",
              "      <th>status</th>\n",
              "      <th>value_from</th>\n",
              "      <th>value_to</th>\n",
              "      <th>entries_from</th>\n",
              "      <th>entries_to</th>\n",
              "      <th>age</th>\n",
              "      <th>sex</th>\n",
              "      <th>country</th>\n",
              "    </tr>\n",
              "  </thead>\n",
              "  <tbody>\n",
              "    <tr>\n",
              "      <th>0</th>\n",
              "      <td>2939</td>\n",
              "      <td>10/29/17</td>\n",
              "      <td>11/1/17</td>\n",
              "      <td>WORSENED</td>\n",
              "      <td>3</td>\n",
              "      <td>4</td>\n",
              "      <td>[{'trackable_type': 'Symptom', 'trackable_name...</td>\n",
              "      <td>[{'trackable_type': 'Symptom', 'trackable_name...</td>\n",
              "      <td>37</td>\n",
              "      <td>female</td>\n",
              "      <td>CA</td>\n",
              "    </tr>\n",
              "    <tr>\n",
              "      <th>1</th>\n",
              "      <td>5525</td>\n",
              "      <td>9/24/17</td>\n",
              "      <td>9/26/17</td>\n",
              "      <td>IMPROVED</td>\n",
              "      <td>4</td>\n",
              "      <td>3</td>\n",
              "      <td>[{'trackable_type': 'Condition', 'trackable_na...</td>\n",
              "      <td>[{'trackable_type': 'Condition', 'trackable_na...</td>\n",
              "      <td>24</td>\n",
              "      <td>female</td>\n",
              "      <td>GB</td>\n",
              "    </tr>\n",
              "    <tr>\n",
              "      <th>2</th>\n",
              "      <td>2586</td>\n",
              "      <td>6/22/17</td>\n",
              "      <td>6/23/17</td>\n",
              "      <td>SAME</td>\n",
              "      <td>3</td>\n",
              "      <td>3</td>\n",
              "      <td>[{'trackable_type': 'Condition', 'trackable_na...</td>\n",
              "      <td>[{'trackable_type': 'Condition', 'trackable_na...</td>\n",
              "      <td>43</td>\n",
              "      <td>female</td>\n",
              "      <td>US</td>\n",
              "    </tr>\n",
              "    <tr>\n",
              "      <th>3</th>\n",
              "      <td>312</td>\n",
              "      <td>7/29/17</td>\n",
              "      <td>7/30/17</td>\n",
              "      <td>SAME</td>\n",
              "      <td>2</td>\n",
              "      <td>2</td>\n",
              "      <td>[{'trackable_type': 'Condition', 'trackable_na...</td>\n",
              "      <td>[{'trackable_type': 'Condition', 'trackable_na...</td>\n",
              "      <td>23</td>\n",
              "      <td>female</td>\n",
              "      <td>AU</td>\n",
              "    </tr>\n",
              "    <tr>\n",
              "      <th>4</th>\n",
              "      <td>3064</td>\n",
              "      <td>5/30/15</td>\n",
              "      <td>5/31/15</td>\n",
              "      <td>WORSENED</td>\n",
              "      <td>1</td>\n",
              "      <td>2</td>\n",
              "      <td>[{'trackable_type': 'Condition', 'trackable_na...</td>\n",
              "      <td>[{'trackable_type': 'Condition', 'trackable_na...</td>\n",
              "      <td>44</td>\n",
              "      <td>male</td>\n",
              "      <td>FR</td>\n",
              "    </tr>\n",
              "  </tbody>\n",
              "</table>\n",
              "</div>"
            ],
            "text/plain": [
              "   user_id checkin_date_from checkin_date_to  ... age     sex  country\n",
              "0     2939          10/29/17         11/1/17  ...  37  female       CA\n",
              "1     5525           9/24/17         9/26/17  ...  24  female       GB\n",
              "2     2586           6/22/17         6/23/17  ...  43  female       US\n",
              "3      312           7/29/17         7/30/17  ...  23  female       AU\n",
              "4     3064           5/30/15         5/31/15  ...  44    male       FR\n",
              "\n",
              "[5 rows x 11 columns]"
            ]
          },
          "metadata": {
            "tags": []
          },
          "execution_count": 10
        }
      ]
    },
    {
      "cell_type": "markdown",
      "metadata": {
        "id": "wBbT7sTcL_tJ",
        "colab_type": "text"
      },
      "source": [
        "  Columns with the `from` suffix contain the records from the same earlier date, and the ones with the `to` suffix have the records from a later date. `entries_from` and `entries_to` columns are the aggregated JSON arrays mentioned above. \n",
        "  \n",
        "  Take the first row as example, the JSON array in the `entries_from` column contains all the `trackable` entries on the date (10/29/17) in `checkin_data_from` column, whereas that in the `entries_to` column contains all the `trackable` entries on the date (11/1/17) specified in the `checkin_data_to` column. \n",
        "  \n",
        "  The `status` column has three values: `IMPROVED`, `WORSENED`, and `SAME`. If the value in `value_from` is greater than that in `value_to`, that means the condition of a user has worsened between those two check-in dates; if `value_from` is less than `value_to` that means the condition has improved. If those two values are the same, that means the condition has remained the same. \n",
        "  \n",
        "  We ask you to build a model to predict the `status` of a patient's condition, whether it's `WORSERNED`, `IMPROVED`, or `SAME`."
      ]
    },
    {
      "cell_type": "markdown",
      "metadata": {
        "id": "Az7asN1gMEji",
        "colab_type": "text"
      },
      "source": [
        "### Hints\n",
        "\n",
        "We strongly encourage you to look at the values in the `entries_from` and `entries_to` columns and extract useful features from there. And please note that `trackable_value` can be free text. "
      ]
    },
    {
      "cell_type": "markdown",
      "metadata": {
        "id": "cUHEnMx4MEmP",
        "colab_type": "text"
      },
      "source": [
        "## Your Solution \n",
        "\n",
        "The following is a working code sample. You are free to use the following code as part of your solution."
      ]
    },
    {
      "cell_type": "markdown",
      "metadata": {
        "id": "0Ir2hthXMEpF",
        "colab_type": "text"
      },
      "source": [
        "### Import Libraries"
      ]
    },
    {
      "cell_type": "code",
      "metadata": {
        "id": "7s5q5nugOjFj",
        "colab_type": "code",
        "colab": {}
      },
      "source": [
        "from sklearn.base import TransformerMixin\n",
        "from sklearn.pipeline import FeatureUnion, Pipeline\n",
        "from sklearn.naive_bayes import BernoulliNB\n",
        "from sklearn.model_selection import train_test_split\n",
        "from sklearn.metrics import accuracy_score\n",
        "\n",
        "import numpy as np\n",
        "import matplotlib.pyplot as plt\n",
        "import seaborn as sns\n",
        "%matplotlib inline\n",
        "\n",
        "import numpy as np    \n",
        "from sklearn.linear_model import LogisticRegression\n",
        "from sklearn import preprocessing\n",
        "\n",
        "from sklearn.naive_bayes import BernoulliNB\n",
        "from sklearn.model_selection import train_test_split\n",
        "from sklearn.neighbors import KNeighborsClassifier as knn\n",
        "from sklearn import svm\n",
        "from sklearn import metrics"
      ],
      "execution_count": 0,
      "outputs": []
    },
    {
      "cell_type": "markdown",
      "metadata": {
        "id": "tBGwqgHTMXWI",
        "colab_type": "text"
      },
      "source": [
        "### Generate Predictions\n",
        "\n"
      ]
    },
    {
      "cell_type": "code",
      "metadata": {
        "id": "MqSN771cOjIf",
        "colab_type": "code",
        "colab": {}
      },
      "source": [
        "# download the dataset\n",
        "train_file_id = '1hDM1VfaZ7o1moBN1IlcaFExfoE2Jeqgg'\n",
        "dataframe = download_dataset(train_file_id)\n",
        "dataframe['entries_from'] = dataframe.entries_from.apply(json.loads)\n",
        "dataframe['entries_to'] = dataframe.entries_to.apply(json.loads)"
      ],
      "execution_count": 0,
      "outputs": []
    },
    {
      "cell_type": "code",
      "metadata": {
        "id": "McbhKgR7OjLU",
        "colab_type": "code",
        "colab": {}
      },
      "source": [
        "example_df = dataframe.copy()"
      ],
      "execution_count": 0,
      "outputs": []
    },
    {
      "cell_type": "code",
      "metadata": {
        "id": "OLNbnn15OjOP",
        "colab_type": "code",
        "colab": {}
      },
      "source": [
        "def encode_labels(label):\n",
        "    if label == 'IMPROVED':\n",
        "        return 0\n",
        "    elif label == 'WORSENED':\n",
        "        return 1\n",
        "    else:\n",
        "        return 2"
      ],
      "execution_count": 0,
      "outputs": []
    },
    {
      "cell_type": "code",
      "metadata": {
        "id": "c0vxBbjsOjQ8",
        "colab_type": "code",
        "colab": {}
      },
      "source": [
        "class ItemSelector(TransformerMixin):\n",
        "    \"\"\"This class allows you to select a subset of a dataframe based on a given column name.\n",
        "    If as_feature is False, you will need to pass the data to another Transformer to convert it into features; \n",
        "    otherwise, scikit-learn will throw dimension related exception.\n",
        "    If as_feature is True, the column from that dataframe you just pass in will be use as feature directly. \n",
        "    For example, if 'key' is set to 'age' from the dataset, the values from the 'age' column will be used as features\n",
        "    without the need for another Transformer.\n",
        "    \"\"\"\n",
        "    def __init__(self, key, as_feature=False):\n",
        "        self.key = key\n",
        "        self.as_feature = as_feature\n",
        "\n",
        "    def fit(self, x, y=None):\n",
        "        return self\n",
        "\n",
        "    def transform(self, dataframe):\n",
        "        if self.as_feature:\n",
        "            return dataframe[[self.key]]\n",
        "        return dataframe[self.key]"
      ],
      "execution_count": 0,
      "outputs": []
    },
    {
      "cell_type": "code",
      "metadata": {
        "id": "PDoHvjztOjTy",
        "colab_type": "code",
        "colab": {}
      },
      "source": [
        "dataframe['y'] = example_df.status.apply(encode_labels)"
      ],
      "execution_count": 0,
      "outputs": []
    },
    {
      "cell_type": "code",
      "metadata": {
        "id": "dlcPToXxOjWo",
        "colab_type": "code",
        "colab": {}
      },
      "source": [
        "X_train, X_test, y_train, y_test = train_test_split(dataframe, dataframe['y'], train_size=0.8, random_state=23123)"
      ],
      "execution_count": 0,
      "outputs": []
    },
    {
      "cell_type": "code",
      "metadata": {
        "id": "BSehMj10OjZT",
        "colab_type": "code",
        "colab": {}
      },
      "source": [
        "pipeline = Pipeline([\n",
        "        \n",
        "    ('union', FeatureUnion(\n",
        "        transformer_list=[\n",
        "        \n",
        "            ('age', Pipeline([\n",
        "                ('selector', ItemSelector('age', as_feature=True))\n",
        "            ])),\n",
        "            \n",
        "            \n",
        "        ],\n",
        "\n",
        "    )),\n",
        "\n",
        "    # Use a naive bayes classifier on the combined features\n",
        "    ('clf', BernoulliNB()),\n",
        "])\n",
        "\n",
        "\n",
        "pipeline.fit(X_train, y_train)\n",
        "y_pred = pipeline.predict(X_test)"
      ],
      "execution_count": 0,
      "outputs": []
    },
    {
      "cell_type": "code",
      "metadata": {
        "id": "iwzXkfkDOjcr",
        "colab_type": "code",
        "outputId": "936ee548-e42d-4431-db63-83ffb1d52f7a",
        "colab": {
          "base_uri": "https://localhost:8080/",
          "height": 35
        }
      },
      "source": [
        "print(\"the accuracy of the model is \", accuracy_score(y_test, y_pred))"
      ],
      "execution_count": 185,
      "outputs": [
        {
          "output_type": "stream",
          "text": [
            "the accuracy of the model is  0.5065877977368046\n"
          ],
          "name": "stdout"
        }
      ]
    },
    {
      "cell_type": "code",
      "metadata": {
        "id": "gCE0dqqC3ULJ",
        "colab_type": "code",
        "colab": {}
      },
      "source": [
        "# Please write your code here, and create as many code cells as needed."
      ],
      "execution_count": 0,
      "outputs": []
    },
    {
      "cell_type": "markdown",
      "metadata": {
        "id": "Jex9L5S6rsDj",
        "colab_type": "text"
      },
      "source": [
        "### Exploratory Data Analysis\n",
        "\n",
        "Check for null values in the dataframe. Also, look out for the data types of each feature in the data frame. "
      ]
    },
    {
      "cell_type": "code",
      "metadata": {
        "id": "CTTvckQ__8bz",
        "colab_type": "code",
        "colab": {
          "base_uri": "https://localhost:8080/",
          "height": 166
        },
        "outputId": "2bbd6f1f-d16d-4e2c-d5e8-32b1fbcb4eda"
      },
      "source": [
        "df = dataframe"
      ],
      "execution_count": 1,
      "outputs": [
        {
          "output_type": "error",
          "ename": "NameError",
          "evalue": "ignored",
          "traceback": [
            "\u001b[0;31m---------------------------------------------------------------------------\u001b[0m",
            "\u001b[0;31mNameError\u001b[0m                                 Traceback (most recent call last)",
            "\u001b[0;32m<ipython-input-1-5d78bc860948>\u001b[0m in \u001b[0;36m<module>\u001b[0;34m()\u001b[0m\n\u001b[0;32m----> 1\u001b[0;31m \u001b[0mdf\u001b[0m \u001b[0;34m=\u001b[0m \u001b[0mdataframe\u001b[0m\u001b[0;34m\u001b[0m\u001b[0;34m\u001b[0m\u001b[0m\n\u001b[0m",
            "\u001b[0;31mNameError\u001b[0m: name 'dataframe' is not defined"
          ]
        }
      ]
    },
    {
      "cell_type": "code",
      "metadata": {
        "id": "j1O_BDBzKp0l",
        "colab_type": "code",
        "colab": {
          "base_uri": "https://localhost:8080/",
          "height": 225
        },
        "outputId": "4a19a701-9a86-4c3d-9b75-ce00f5cfd8e4"
      },
      "source": [
        "df.isna().sum()"
      ],
      "execution_count": 16,
      "outputs": [
        {
          "output_type": "execute_result",
          "data": {
            "text/plain": [
              "user_id              0\n",
              "checkin_date_from    0\n",
              "checkin_date_to      0\n",
              "status               0\n",
              "value_from           0\n",
              "value_to             0\n",
              "entries_from         0\n",
              "entries_to           0\n",
              "age                  0\n",
              "sex                  0\n",
              "country              0\n",
              "dtype: int64"
            ]
          },
          "metadata": {
            "tags": []
          },
          "execution_count": 16
        }
      ]
    },
    {
      "cell_type": "code",
      "metadata": {
        "id": "wKJNKabGMiJu",
        "colab_type": "code",
        "colab": {
          "base_uri": "https://localhost:8080/",
          "height": 225
        },
        "outputId": "4c6d3755-84af-4f10-f374-aa88a7ca2138"
      },
      "source": [
        "# data type of features \n",
        "df.dtypes"
      ],
      "execution_count": 17,
      "outputs": [
        {
          "output_type": "execute_result",
          "data": {
            "text/plain": [
              "user_id               int64\n",
              "checkin_date_from    object\n",
              "checkin_date_to      object\n",
              "status               object\n",
              "value_from            int64\n",
              "value_to              int64\n",
              "entries_from         object\n",
              "entries_to           object\n",
              "age                   int64\n",
              "sex                  object\n",
              "country              object\n",
              "dtype: object"
            ]
          },
          "metadata": {
            "tags": []
          },
          "execution_count": 17
        }
      ]
    },
    {
      "cell_type": "markdown",
      "metadata": {
        "id": "HONJdNn537U7",
        "colab_type": "text"
      },
      "source": [
        "#### We observe that there are no null values in the given dataframe and the data types of feature varaibles are a mix of object type and integer.\n",
        "\n",
        "Visualize the frequency distribution of data with respect to `Status`, `Age`, `Gender` and `Country` variables of the given data frame.\n"
      ]
    },
    {
      "cell_type": "code",
      "metadata": {
        "id": "VKeotllRMiML",
        "colab_type": "code",
        "colab": {
          "base_uri": "https://localhost:8080/",
          "height": 385
        },
        "outputId": "a4102489-fa79-41a3-a66f-f1baa6a27b55"
      },
      "source": [
        "# frequency distribution of target variable : STATUS\n",
        "\n",
        "plt.figure(figsize=(10,5))\n",
        "df['status'].value_counts().plot(kind='bar')"
      ],
      "execution_count": 90,
      "outputs": [
        {
          "output_type": "execute_result",
          "data": {
            "text/plain": [
              "<matplotlib.axes._subplots.AxesSubplot at 0x7fb9c96237f0>"
            ]
          },
          "metadata": {
            "tags": []
          },
          "execution_count": 90
        },
        {
          "output_type": "display_data",
          "data": {
            "image/png": "[encoded data removed]",
            "text/plain": [
              "<Figure size 720x360 with 1 Axes>"
            ]
          },
          "metadata": {
            "tags": []
          }
        }
      ]
    },
    {
      "cell_type": "markdown",
      "metadata": {
        "id": "ir6-2Cgn4LHz",
        "colab_type": "text"
      },
      "source": [
        "\n",
        "As we visualize the distribution of data with respect to `Status` we observe that, the patients whose condition or symptom hasn't worsened or improved and remained in the same state is high.\n",
        "\n",
        "Also, visualizing the distribution of the data with respect to age of the patients. It is visible that the age group of 20-35 are likely to get this disease `fibromyalgia`. Outlier could be age 43 abd 45 which has a hike in the bar plot."
      ]
    },
    {
      "cell_type": "code",
      "metadata": {
        "id": "lPDNKwsiMiPe",
        "colab_type": "code",
        "colab": {
          "base_uri": "https://localhost:8080/",
          "height": 365
        },
        "outputId": "92caa01d-c7f8-435b-b859-b7333a271706"
      },
      "source": [
        "# Imbalanced classification\n",
        "plt.figure(figsize=(10,5))\n",
        "plt.title(\"bar plot of age\")\n",
        "df['age'].value_counts().plot(kind='bar')"
      ],
      "execution_count": 91,
      "outputs": [
        {
          "output_type": "execute_result",
          "data": {
            "text/plain": [
              "<matplotlib.axes._subplots.AxesSubplot at 0x7fb9c9578518>"
            ]
          },
          "metadata": {
            "tags": []
          },
          "execution_count": 91
        },
        {
          "output_type": "display_data",
          "data": {
            "image/png": "[encoded data removed]",
            "text/plain": [
              "<Figure size 720x360 with 1 Axes>"
            ]
          },
          "metadata": {
            "tags": []
          }
        }
      ]
    },
    {
      "cell_type": "code",
      "metadata": {
        "id": "SK5oziOKsdT1",
        "colab_type": "code",
        "colab": {
          "base_uri": "https://localhost:8080/",
          "height": 35
        },
        "outputId": "192a5f4b-928f-47d9-80c9-f0ea14fb4287"
      },
      "source": [
        "# minimum and maximum age in the dataframe\n",
        "df['age'].min(),example_df['age'].max()"
      ],
      "execution_count": 92,
      "outputs": [
        {
          "output_type": "execute_result",
          "data": {
            "text/plain": [
              "(0.0, 79.0)"
            ]
          },
          "metadata": {
            "tags": []
          },
          "execution_count": 92
        }
      ]
    },
    {
      "cell_type": "markdown",
      "metadata": {
        "id": "2ggZfNyg7JpI",
        "colab_type": "text"
      },
      "source": [
        "There is negative value in age column which is not practically possible so replacing them by NaN."
      ]
    },
    {
      "cell_type": "code",
      "metadata": {
        "id": "thJERHq97kkd",
        "colab_type": "code",
        "colab": {}
      },
      "source": [
        "# ALl negative age is relaced by NaN\n",
        "df = df.assign(age = lambda x: x.age.where(x.age.ge(0)))    "
      ],
      "execution_count": 0,
      "outputs": []
    },
    {
      "cell_type": "markdown",
      "metadata": {
        "id": "hdE7ZHzX8YW4",
        "colab_type": "text"
      },
      "source": [
        "Data visualization with respect to `gender` and `country` is given below."
      ]
    },
    {
      "cell_type": "code",
      "metadata": {
        "id": "DZpiNaxPsdQK",
        "colab_type": "code",
        "colab": {
          "base_uri": "https://localhost:8080/",
          "height": 399
        },
        "outputId": "9b080c45-b21e-42f8-938b-9658e16e6b61"
      },
      "source": [
        "# 4 categories in gender and population of females are comparitively higher than rest\n",
        "plt.figure(figsize=(10,5))\n",
        "df['sex'].value_counts().plot(kind='bar')\n",
        "plt.title(\"bar plot of gender\")"
      ],
      "execution_count": 94,
      "outputs": [
        {
          "output_type": "execute_result",
          "data": {
            "text/plain": [
              "Text(0.5, 1.0, 'bar plot of gender')"
            ]
          },
          "metadata": {
            "tags": []
          },
          "execution_count": 94
        },
        {
          "output_type": "display_data",
          "data": {
            "image/png": "[encoded data removed]",
            "text/plain": [
              "<Figure size 720x360 with 1 Axes>"
            ]
          },
          "metadata": {
            "tags": []
          }
        }
      ]
    },
    {
      "cell_type": "code",
      "metadata": {
        "id": "YSy0gFQusdNr",
        "colab_type": "code",
        "colab": {
          "base_uri": "https://localhost:8080/",
          "height": 343
        },
        "outputId": "00a142c0-49c5-4c80-fd9a-eab0166a8eb0"
      },
      "source": [
        "# top 4 countries from where we have large number of people are: US, GB, CA, AU\n",
        "plt.figure(figsize=(10,5))\n",
        "df['country'].value_counts().plot(kind='bar')"
      ],
      "execution_count": 95,
      "outputs": [
        {
          "output_type": "execute_result",
          "data": {
            "text/plain": [
              "<matplotlib.axes._subplots.AxesSubplot at 0x7fb9c9411b00>"
            ]
          },
          "metadata": {
            "tags": []
          },
          "execution_count": 95
        },
        {
          "output_type": "display_data",
          "data": {
            "image/png": "[encoded data removed]",
            "text/plain": [
              "<Figure size 720x360 with 1 Axes>"
            ]
          },
          "metadata": {
            "tags": []
          }
        }
      ]
    },
    {
      "cell_type": "markdown",
      "metadata": {
        "id": "x-hxw8uvs5Tq",
        "colab_type": "text"
      },
      "source": [
        "#### Gender wise distribution of age\n",
        "\n",
        "The distribution of age for female and male is visualized below and it is visible that women between the age 20 and 35 are vulnerable to the disease than man. Also, significant amount of \"Other\" category people have also been exposed to this disease who also fall under the same age group."
      ]
    },
    {
      "cell_type": "code",
      "metadata": {
        "id": "vbbx4clysdKc",
        "colab_type": "code",
        "colab": {
          "base_uri": "https://localhost:8080/",
          "height": 365
        },
        "outputId": "cc258422-22d2-4707-f179-669a6b9bf292"
      },
      "source": [
        "#age distribution according to genderwise\n",
        "plt.figure(figsize=(12,5))\n",
        "df_ = df[df['sex']=='female'].reset_index(drop=True)\n",
        "plt.title(\"female\")\n",
        "df_['age'].value_counts().plot(kind='bar')"
      ],
      "execution_count": 96,
      "outputs": [
        {
          "output_type": "execute_result",
          "data": {
            "text/plain": [
              "<matplotlib.axes._subplots.AxesSubplot at 0x7fb9d0ea98d0>"
            ]
          },
          "metadata": {
            "tags": []
          },
          "execution_count": 96
        },
        {
          "output_type": "display_data",
          "data": {
            "image/png": "[encoded data removed]",
            "text/plain": [
              "<Figure size 864x360 with 1 Axes>"
            ]
          },
          "metadata": {
            "tags": []
          }
        }
      ]
    },
    {
      "cell_type": "code",
      "metadata": {
        "id": "crBchkUSsdHi",
        "colab_type": "code",
        "colab": {
          "base_uri": "https://localhost:8080/",
          "height": 355
        },
        "outputId": "dfe531da-3963-4593-d407-69150a9dadc9"
      },
      "source": [
        "#age distribution according to genderwise\n",
        "plt.figure(figsize=(12,5))\n",
        "df_ = df[df['sex']=='male'].reset_index(drop=True)\n",
        "plt.title(\"male\")\n",
        "df_['age'].value_counts().plot(kind='bar')"
      ],
      "execution_count": 22,
      "outputs": [
        {
          "output_type": "execute_result",
          "data": {
            "text/plain": [
              "<matplotlib.axes._subplots.AxesSubplot at 0x7fb9d1413a90>"
            ]
          },
          "metadata": {
            "tags": []
          },
          "execution_count": 22
        },
        {
          "output_type": "display_data",
          "data": {
            "image/png": "[encoded data removed]",
            "text/plain": [
              "<Figure size 864x360 with 1 Axes>"
            ]
          },
          "metadata": {
            "tags": []
          }
        }
      ]
    },
    {
      "cell_type": "code",
      "metadata": {
        "id": "7CzwU1gKsdEm",
        "colab_type": "code",
        "colab": {
          "base_uri": "https://localhost:8080/",
          "height": 355
        },
        "outputId": "92e86cf1-d163-489a-da8e-bf2cde1ff1d9"
      },
      "source": [
        "#age distribution according to genderwise\n",
        "plt.figure(figsize=(12,5))\n",
        "df_ = df[df['sex']=='doesnt_say'].reset_index(drop=True)\n",
        "plt.title(\"doesnt_say\")\n",
        "df_['age'].value_counts().plot(kind='bar')"
      ],
      "execution_count": 23,
      "outputs": [
        {
          "output_type": "execute_result",
          "data": {
            "text/plain": [
              "<matplotlib.axes._subplots.AxesSubplot at 0x7fb9dc4ecda0>"
            ]
          },
          "metadata": {
            "tags": []
          },
          "execution_count": 23
        },
        {
          "output_type": "display_data",
          "data": {
            "image/png": "[encoded data removed]",
            "text/plain": [
              "<Figure size 864x360 with 1 Axes>"
            ]
          },
          "metadata": {
            "tags": []
          }
        }
      ]
    },
    {
      "cell_type": "code",
      "metadata": {
        "id": "XqnIgcLasdCA",
        "colab_type": "code",
        "colab": {
          "base_uri": "https://localhost:8080/",
          "height": 355
        },
        "outputId": "f87414c8-37e4-4569-8a24-348f96bccbbd"
      },
      "source": [
        "#age distribution according to genderwise\n",
        "plt.figure(figsize=(12,5))\n",
        "df_ = df[df['sex']=='other'].reset_index(drop=True)\n",
        "plt.title(\"other\")\n",
        "df_['age'].value_counts().plot(kind='bar')"
      ],
      "execution_count": 24,
      "outputs": [
        {
          "output_type": "execute_result",
          "data": {
            "text/plain": [
              "<matplotlib.axes._subplots.AxesSubplot at 0x7fb9d12c72b0>"
            ]
          },
          "metadata": {
            "tags": []
          },
          "execution_count": 24
        },
        {
          "output_type": "display_data",
          "data": {
            "image/png": "[encoded data removed]",
            "text/plain": [
              "<Figure size 864x360 with 1 Axes>"
            ]
          },
          "metadata": {
            "tags": []
          }
        }
      ]
    },
    {
      "cell_type": "markdown",
      "metadata": {
        "id": "FhV8jeY3tQpP",
        "colab_type": "text"
      },
      "source": [
        "#### Age distribution according to `status` of the disease. \n",
        "As a conclusion, age is not looking as a strong factor for deciding status of the person (patient)"
      ]
    },
    {
      "cell_type": "code",
      "metadata": {
        "id": "L3cnMEXksc-9",
        "colab_type": "code",
        "colab": {
          "base_uri": "https://localhost:8080/",
          "height": 355
        },
        "outputId": "a29f4b63-8799-4f90-9cab-27440d35bb1a"
      },
      "source": [
        "plt.figure(figsize=(12,5))\n",
        "plt.title('other')\n",
        "plt.title(\"status:WORSENED\")\n",
        "df_ = df[df['status']=='WORSENED'].reset_index(drop=True)\n",
        "df_['age'].value_counts().plot(kind='bar')"
      ],
      "execution_count": 25,
      "outputs": [
        {
          "output_type": "execute_result",
          "data": {
            "text/plain": [
              "<matplotlib.axes._subplots.AxesSubplot at 0x7fb9d11b6278>"
            ]
          },
          "metadata": {
            "tags": []
          },
          "execution_count": 25
        },
        {
          "output_type": "display_data",
          "data": {
            "image/png": "[encoded data removed]",
            "text/plain": [
              "<Figure size 864x360 with 1 Axes>"
            ]
          },
          "metadata": {
            "tags": []
          }
        }
      ]
    },
    {
      "cell_type": "code",
      "metadata": {
        "id": "iaf92ByCsc71",
        "colab_type": "code",
        "colab": {
          "base_uri": "https://localhost:8080/",
          "height": 355
        },
        "outputId": "1f67328d-2783-49de-8c3b-7ebfab46516e"
      },
      "source": [
        "plt.figure(figsize=(12,5))\n",
        "plt.title(\"status:SAME\")\n",
        "df_ = df[df['status']=='SAME'].reset_index(drop=True)\n",
        "df_['age'].value_counts().plot(kind='bar')"
      ],
      "execution_count": 26,
      "outputs": [
        {
          "output_type": "execute_result",
          "data": {
            "text/plain": [
              "<matplotlib.axes._subplots.AxesSubplot at 0x7fb9d107b2b0>"
            ]
          },
          "metadata": {
            "tags": []
          },
          "execution_count": 26
        },
        {
          "output_type": "display_data",
          "data": {
            "image/png": "[encoded data removed]",
            "text/plain": [
              "<Figure size 864x360 with 1 Axes>"
            ]
          },
          "metadata": {
            "tags": []
          }
        }
      ]
    },
    {
      "cell_type": "code",
      "metadata": {
        "id": "ylueQM0Zsc42",
        "colab_type": "code",
        "colab": {
          "base_uri": "https://localhost:8080/",
          "height": 355
        },
        "outputId": "1138aead-c312-4c71-d2e8-bd583a223c14"
      },
      "source": [
        "plt.figure(figsize=(12,5))\n",
        "plt.title(\"status:IMPROVED\")\n",
        "df_ = df[df['status']=='IMPROVED'].reset_index(drop=True)\n",
        "df_['age'].value_counts().plot(kind='bar')"
      ],
      "execution_count": 27,
      "outputs": [
        {
          "output_type": "execute_result",
          "data": {
            "text/plain": [
              "<matplotlib.axes._subplots.AxesSubplot at 0x7fb9d0fd18d0>"
            ]
          },
          "metadata": {
            "tags": []
          },
          "execution_count": 27
        },
        {
          "output_type": "display_data",
          "data": {
            "image/png": "[encoded data removed]",
            "text/plain": [
              "<Figure size 864x360 with 1 Axes>"
            ]
          },
          "metadata": {
            "tags": []
          }
        }
      ]
    },
    {
      "cell_type": "markdown",
      "metadata": {
        "id": "3HltmDLGtmj6",
        "colab_type": "text"
      },
      "source": [
        "### Feature-Engineering\n",
        "### Making - supervised training dataset\n",
        "\n",
        "The dataframe given has json content in entries_from and entries_to column. This can be cleaned and extracted into many formats that can be used for further analysis and modelling. One such format is explored below. The `trackable_type`, `trackable_name` are extracted from the json and displayed as seperate columns with corresponding `trackable_value` \"from\" and \"to\".\n",
        "\n",
        "The `new_df(df)` function does the above mentioned job.\n",
        "\n",
        "There are various other possible data munging that can be done for this particulate given dataframe to make it even more meaningful."
      ]
    },
    {
      "cell_type": "code",
      "metadata": {
        "id": "KsMnzriJwIAX",
        "colab_type": "code",
        "colab": {
          "base_uri": "https://localhost:8080/",
          "height": 375
        },
        "outputId": "1db59c5b-feb5-4bc4-d6db-35f23a295b75"
      },
      "source": [
        "df.head()"
      ],
      "execution_count": 18,
      "outputs": [
        {
          "output_type": "execute_result",
          "data": {
            "text/html": [
              "<div>\n",
              "<style scoped>\n",
              "    .dataframe tbody tr th:only-of-type {\n",
              "        vertical-align: middle;\n",
              "    }\n",
              "\n",
              "    .dataframe tbody tr th {\n",
              "        vertical-align: top;\n",
              "    }\n",
              "\n",
              "    .dataframe thead th {\n",
              "        text-align: right;\n",
              "    }\n",
              "</style>\n",
              "<table border=\"1\" class=\"dataframe\">\n",
              "  <thead>\n",
              "    <tr style=\"text-align: right;\">\n",
              "      <th></th>\n",
              "      <th>user_id</th>\n",
              "      <th>checkin_date_from</th>\n",
              "      <th>checkin_date_to</th>\n",
              "      <th>status</th>\n",
              "      <th>value_from</th>\n",
              "      <th>value_to</th>\n",
              "      <th>entries_from</th>\n",
              "      <th>entries_to</th>\n",
              "      <th>age</th>\n",
              "      <th>sex</th>\n",
              "      <th>country</th>\n",
              "    </tr>\n",
              "  </thead>\n",
              "  <tbody>\n",
              "    <tr>\n",
              "      <th>0</th>\n",
              "      <td>2939</td>\n",
              "      <td>10/29/17</td>\n",
              "      <td>11/1/17</td>\n",
              "      <td>WORSENED</td>\n",
              "      <td>3</td>\n",
              "      <td>4</td>\n",
              "      <td>[{'trackable_type': 'Symptom', 'trackable_name...</td>\n",
              "      <td>[{'trackable_type': 'Symptom', 'trackable_name...</td>\n",
              "      <td>37</td>\n",
              "      <td>female</td>\n",
              "      <td>CA</td>\n",
              "    </tr>\n",
              "    <tr>\n",
              "      <th>1</th>\n",
              "      <td>5525</td>\n",
              "      <td>9/24/17</td>\n",
              "      <td>9/26/17</td>\n",
              "      <td>IMPROVED</td>\n",
              "      <td>4</td>\n",
              "      <td>3</td>\n",
              "      <td>[{'trackable_type': 'Condition', 'trackable_na...</td>\n",
              "      <td>[{'trackable_type': 'Condition', 'trackable_na...</td>\n",
              "      <td>24</td>\n",
              "      <td>female</td>\n",
              "      <td>GB</td>\n",
              "    </tr>\n",
              "    <tr>\n",
              "      <th>2</th>\n",
              "      <td>2586</td>\n",
              "      <td>6/22/17</td>\n",
              "      <td>6/23/17</td>\n",
              "      <td>SAME</td>\n",
              "      <td>3</td>\n",
              "      <td>3</td>\n",
              "      <td>[{'trackable_type': 'Condition', 'trackable_na...</td>\n",
              "      <td>[{'trackable_type': 'Condition', 'trackable_na...</td>\n",
              "      <td>43</td>\n",
              "      <td>female</td>\n",
              "      <td>US</td>\n",
              "    </tr>\n",
              "    <tr>\n",
              "      <th>3</th>\n",
              "      <td>312</td>\n",
              "      <td>7/29/17</td>\n",
              "      <td>7/30/17</td>\n",
              "      <td>SAME</td>\n",
              "      <td>2</td>\n",
              "      <td>2</td>\n",
              "      <td>[{'trackable_type': 'Condition', 'trackable_na...</td>\n",
              "      <td>[{'trackable_type': 'Condition', 'trackable_na...</td>\n",
              "      <td>23</td>\n",
              "      <td>female</td>\n",
              "      <td>AU</td>\n",
              "    </tr>\n",
              "    <tr>\n",
              "      <th>4</th>\n",
              "      <td>3064</td>\n",
              "      <td>5/30/15</td>\n",
              "      <td>5/31/15</td>\n",
              "      <td>WORSENED</td>\n",
              "      <td>1</td>\n",
              "      <td>2</td>\n",
              "      <td>[{'trackable_type': 'Condition', 'trackable_na...</td>\n",
              "      <td>[{'trackable_type': 'Condition', 'trackable_na...</td>\n",
              "      <td>44</td>\n",
              "      <td>male</td>\n",
              "      <td>FR</td>\n",
              "    </tr>\n",
              "  </tbody>\n",
              "</table>\n",
              "</div>"
            ],
            "text/plain": [
              "   user_id checkin_date_from checkin_date_to  ... age     sex  country\n",
              "0     2939          10/29/17         11/1/17  ...  37  female       CA\n",
              "1     5525           9/24/17         9/26/17  ...  24  female       GB\n",
              "2     2586           6/22/17         6/23/17  ...  43  female       US\n",
              "3      312           7/29/17         7/30/17  ...  23  female       AU\n",
              "4     3064           5/30/15         5/31/15  ...  44    male       FR\n",
              "\n",
              "[5 rows x 11 columns]"
            ]
          },
          "metadata": {
            "tags": []
          },
          "execution_count": 18
        }
      ]
    },
    {
      "cell_type": "code",
      "metadata": {
        "id": "5aTsHwrDsc1c",
        "colab_type": "code",
        "colab": {}
      },
      "source": [
        "DF = pd.DataFrame(columns=['user_id','checkin_date_from',\n",
        "                         'checkin_date_to','age', 'sex','country','status',\n",
        "                          'tracktable_type','tracktable_name','tracktable_value_from',\n",
        "                          'tracktable_value_to',\n",
        "                           ])"
      ],
      "execution_count": 0,
      "outputs": []
    },
    {
      "cell_type": "code",
      "metadata": {
        "id": "4EpVTF0CttWh",
        "colab_type": "code",
        "colab": {}
      },
      "source": [
        "\"\"\" \n",
        "new_df(df) function is taking the json columns from the datafram and returns three seperate columns by extracting values from JSON. \n",
        "We are creating anempty dataframe of columns in \"DF\". Then inside the new_df(df) function, creating three empty dictionary from_sym2val ={},\n",
        "val2key = {}, to_sym2val = {}. We continue reading the values from entires_from and entries_to columns into these dictionaries\n",
        "In from_sym2val dict and to_sym2val dict, the key is trackable_name and the value is trackable_value\n",
        "In val2key dict, the key is trackable_name again and the value is trackable_type\n",
        "In the key_set, all trackable_names (basically all keys) are present\n",
        "we are then appending the extracted values to the rest of the dataframe and returning the new dataframe.\n",
        "\"\"\"\n",
        "def new_df(df): \n",
        "    try:\n",
        "\n",
        "        df2 = pd.DataFrame(columns=['user_id','checkin_date_from',\n",
        "                         'checkin_date_to','age', 'sex','country','status',\n",
        "                          'tracktable_type','tracktable_name','tracktable_value_from',\n",
        "                          'tracktable_value_to',\n",
        "                           ])\n",
        "        json1_data = df['entries_from']\n",
        "\n",
        "        json2_data = df['entries_to']\n",
        "\n",
        "        from_sym2val ={}\n",
        "        val2key = {}\n",
        "        to_sym2val = {}\n",
        "\n",
        "\n",
        "        for j in json1_data:\n",
        "            from_sym2val[j['trackable_name']] = j['trackable_value']\n",
        "            val2key[j['trackable_name']] = j['trackable_type']\n",
        "\n",
        "        for j in json2_data:\n",
        "            to_sym2val[j['trackable_name']] = j['trackable_value']\n",
        "            val2key[j['trackable_name']] = j['trackable_type']\n",
        "\n",
        "        keys_set = list(set(list(from_sym2val.keys())+list(to_sym2val.keys())))\n",
        "        for k in keys_set:\n",
        "            values =[df['user_id'],df['checkin_date_from'],df['checkin_date_to'],\n",
        "            df['age'],df['sex'],df['country'],df['status']]\n",
        "            values.append(val2key[k])\n",
        "            values.append(k)\n",
        "            if k in from_sym2val.keys():\n",
        "                values.append(from_sym2val[k])\n",
        "            else:\n",
        "                values.append(np.NaN)\n",
        "            if k in to_sym2val.keys():    \n",
        "                values.append(to_sym2val[k])\n",
        "            else:\n",
        "                values.append(np.NaN)\n",
        "\n",
        "            df2 = df2.append(pd.Series(values,index=['user_id','checkin_date_from',\n",
        "                             'checkin_date_to','age', 'sex','country','status',\n",
        "                              'tracktable_type','tracktable_name','tracktable_value_from',\n",
        "                              'tracktable_value_to',\n",
        "                               ]),ignore_index=True)\n",
        "        return df2\n",
        "    except Exception as err:\n",
        "        print(err)\n",
        "\n",
        "        return pd.DataFrame(columns=['user_id','checkin_date_from',\n",
        "                         'checkin_date_to','age', 'sex','country','status',\n",
        "                          'tracktable_type','tracktable_name','tracktable_value_from',\n",
        "                          'tracktable_value_to',\n",
        "                           ])"
      ],
      "execution_count": 0,
      "outputs": []
    },
    {
      "cell_type": "code",
      "metadata": {
        "id": "mOzDv6ErttTH",
        "colab_type": "code",
        "colab": {}
      },
      "source": [
        "\"\"\" Applying the function to the existing data frame to get a new one\"\"\"\n",
        "\n",
        "dfk = df.apply(new_df,axis=1)"
      ],
      "execution_count": 0,
      "outputs": []
    },
    {
      "cell_type": "code",
      "metadata": {
        "id": "43psDxuXttQJ",
        "colab_type": "code",
        "colab": {}
      },
      "source": [
        "for i in range(dfk.shape[0]):\n",
        "    try:\n",
        "        DF = pd.concat([DF,dfk[i]])\n",
        "    except Exception as err:\n",
        "        print(err)\n",
        "        pass"
      ],
      "execution_count": 0,
      "outputs": []
    },
    {
      "cell_type": "code",
      "metadata": {
        "id": "55cypvRCttNm",
        "colab_type": "code",
        "colab": {}
      },
      "source": [
        " DF2 = DF.reset_index(drop=True)"
      ],
      "execution_count": 0,
      "outputs": []
    },
    {
      "cell_type": "code",
      "metadata": {
        "id": "-DO66XHsFao-",
        "colab_type": "code",
        "colab": {}
      },
      "source": [
        "DF2.to_csv('Final_train.csv',index= False)"
      ],
      "execution_count": 0,
      "outputs": []
    },
    {
      "cell_type": "code",
      "metadata": {
        "id": "rmQ-HQ9aFdEz",
        "colab_type": "code",
        "colab": {}
      },
      "source": [
        "DF2 = pd.read_csv(\"Final_train.csv\", low_memory=False)\n",
        "DF2 = DF2.sample(frac=1).reset_index(drop=True)"
      ],
      "execution_count": 0,
      "outputs": []
    },
    {
      "cell_type": "code",
      "metadata": {
        "id": "3y1xr8LsujTu",
        "colab_type": "code",
        "colab": {
          "base_uri": "https://localhost:8080/",
          "height": 239
        },
        "outputId": "b324eec8-33c0-4fe0-c6b4-d40062d4cf0b"
      },
      "source": [
        "DF2.head()"
      ],
      "execution_count": 26,
      "outputs": [
        {
          "output_type": "execute_result",
          "data": {
            "text/html": [
              "<div>\n",
              "<style scoped>\n",
              "    .dataframe tbody tr th:only-of-type {\n",
              "        vertical-align: middle;\n",
              "    }\n",
              "\n",
              "    .dataframe tbody tr th {\n",
              "        vertical-align: top;\n",
              "    }\n",
              "\n",
              "    .dataframe thead th {\n",
              "        text-align: right;\n",
              "    }\n",
              "</style>\n",
              "<table border=\"1\" class=\"dataframe\">\n",
              "  <thead>\n",
              "    <tr style=\"text-align: right;\">\n",
              "      <th></th>\n",
              "      <th>user_id</th>\n",
              "      <th>checkin_date_from</th>\n",
              "      <th>checkin_date_to</th>\n",
              "      <th>age</th>\n",
              "      <th>sex</th>\n",
              "      <th>country</th>\n",
              "      <th>status</th>\n",
              "      <th>tracktable_type</th>\n",
              "      <th>tracktable_name</th>\n",
              "      <th>tracktable_value_from</th>\n",
              "      <th>tracktable_value_to</th>\n",
              "    </tr>\n",
              "  </thead>\n",
              "  <tbody>\n",
              "    <tr>\n",
              "      <th>0</th>\n",
              "      <td>8680</td>\n",
              "      <td>9/13/17</td>\n",
              "      <td>9/14/17</td>\n",
              "      <td>32</td>\n",
              "      <td>female</td>\n",
              "      <td>US</td>\n",
              "      <td>IMPROVED</td>\n",
              "      <td>Weather</td>\n",
              "      <td>precip_intensity</td>\n",
              "      <td>0.001</td>\n",
              "      <td>0.0004</td>\n",
              "    </tr>\n",
              "    <tr>\n",
              "      <th>1</th>\n",
              "      <td>1694</td>\n",
              "      <td>10/13/17</td>\n",
              "      <td>10/14/17</td>\n",
              "      <td>34</td>\n",
              "      <td>female</td>\n",
              "      <td>US</td>\n",
              "      <td>SAME</td>\n",
              "      <td>Condition</td>\n",
              "      <td>Depression</td>\n",
              "      <td>1</td>\n",
              "      <td>1</td>\n",
              "    </tr>\n",
              "    <tr>\n",
              "      <th>2</th>\n",
              "      <td>12316</td>\n",
              "      <td>3/12/17</td>\n",
              "      <td>3/13/17</td>\n",
              "      <td>35</td>\n",
              "      <td>female</td>\n",
              "      <td>AF</td>\n",
              "      <td>SAME</td>\n",
              "      <td>Weather</td>\n",
              "      <td>pressure</td>\n",
              "      <td>1019.0</td>\n",
              "      <td>1023.0</td>\n",
              "    </tr>\n",
              "    <tr>\n",
              "      <th>3</th>\n",
              "      <td>312</td>\n",
              "      <td>8/1/17</td>\n",
              "      <td>8/4/17</td>\n",
              "      <td>23</td>\n",
              "      <td>female</td>\n",
              "      <td>AU</td>\n",
              "      <td>IMPROVED</td>\n",
              "      <td>Treatment</td>\n",
              "      <td>Mersyndol</td>\n",
              "      <td>500mg paracetamol 9.6mg codeine</td>\n",
              "      <td>500mg paracetamol 9.6mg codeine</td>\n",
              "    </tr>\n",
              "    <tr>\n",
              "      <th>4</th>\n",
              "      <td>611</td>\n",
              "      <td>9/18/16</td>\n",
              "      <td>9/19/16</td>\n",
              "      <td>46</td>\n",
              "      <td>female</td>\n",
              "      <td>US</td>\n",
              "      <td>IMPROVED</td>\n",
              "      <td>Symptom</td>\n",
              "      <td>Bumps on tongue</td>\n",
              "      <td>0</td>\n",
              "      <td>0</td>\n",
              "    </tr>\n",
              "  </tbody>\n",
              "</table>\n",
              "</div>"
            ],
            "text/plain": [
              "   user_id  ...              tracktable_value_to\n",
              "0     8680  ...                           0.0004\n",
              "1     1694  ...                                1\n",
              "2    12316  ...                           1023.0\n",
              "3      312  ...  500mg paracetamol 9.6mg codeine\n",
              "4      611  ...                                0\n",
              "\n",
              "[5 rows x 11 columns]"
            ]
          },
          "metadata": {
            "tags": []
          },
          "execution_count": 26
        }
      ]
    },
    {
      "cell_type": "code",
      "metadata": {
        "id": "pPHmKpEYttEY",
        "colab_type": "code",
        "colab": {
          "base_uri": "https://localhost:8080/",
          "height": 35
        },
        "outputId": "1e7d7d73-dfc3-490d-8e41-b756cc158a93"
      },
      "source": [
        "DF2.shape"
      ],
      "execution_count": 27,
      "outputs": [
        {
          "output_type": "execute_result",
          "data": {
            "text/plain": [
              "(223619, 11)"
            ]
          },
          "metadata": {
            "tags": []
          },
          "execution_count": 27
        }
      ]
    },
    {
      "cell_type": "code",
      "metadata": {
        "id": "t5epmiYuttBI",
        "colab_type": "code",
        "colab": {
          "base_uri": "https://localhost:8080/",
          "height": 225
        },
        "outputId": "131b7eb2-7762-4731-bbe4-09322fa47c41"
      },
      "source": [
        "DF2.dtypes"
      ],
      "execution_count": 28,
      "outputs": [
        {
          "output_type": "execute_result",
          "data": {
            "text/plain": [
              "user_id                   int64\n",
              "checkin_date_from        object\n",
              "checkin_date_to          object\n",
              "age                       int64\n",
              "sex                      object\n",
              "country                  object\n",
              "status                   object\n",
              "tracktable_type          object\n",
              "tracktable_name          object\n",
              "tracktable_value_from    object\n",
              "tracktable_value_to      object\n",
              "dtype: object"
            ]
          },
          "metadata": {
            "tags": []
          },
          "execution_count": 28
        }
      ]
    },
    {
      "cell_type": "code",
      "metadata": {
        "id": "Beq_eNGUts95",
        "colab_type": "code",
        "colab": {
          "base_uri": "https://localhost:8080/",
          "height": 225
        },
        "outputId": "7ab9b1d1-e7a5-485a-e394-04ef608b7372"
      },
      "source": [
        "DF2.isna().sum()"
      ],
      "execution_count": 29,
      "outputs": [
        {
          "output_type": "execute_result",
          "data": {
            "text/plain": [
              "user_id                      0\n",
              "checkin_date_from            0\n",
              "checkin_date_to              0\n",
              "age                          0\n",
              "sex                          0\n",
              "country                      0\n",
              "status                       0\n",
              "tracktable_type              0\n",
              "tracktable_name              0\n",
              "tracktable_value_from    10085\n",
              "tracktable_value_to       7111\n",
              "dtype: int64"
            ]
          },
          "metadata": {
            "tags": []
          },
          "execution_count": 29
        }
      ]
    },
    {
      "cell_type": "markdown",
      "metadata": {
        "id": "7oaKdpIDx6as",
        "colab_type": "text"
      },
      "source": [
        "NaN values is in `tracktable_value_from` and `tracktable_value_to` this indicates that `tracktable_name` is not present on that date therefore filling NaN with 0. NaN can be imputed with mean or median as well."
      ]
    },
    {
      "cell_type": "code",
      "metadata": {
        "id": "QcpDMYfrEr9Q",
        "colab_type": "code",
        "colab": {
          "base_uri": "https://localhost:8080/",
          "height": 225
        },
        "outputId": "f568bb77-85c6-4a12-b2ec-0465510a4c5b"
      },
      "source": [
        "DF2.nunique()"
      ],
      "execution_count": 31,
      "outputs": [
        {
          "output_type": "execute_result",
          "data": {
            "text/plain": [
              "user_id                   987\n",
              "checkin_date_from         869\n",
              "checkin_date_to           875\n",
              "age                        55\n",
              "sex                         4\n",
              "country                    35\n",
              "status                      3\n",
              "tracktable_type             4\n",
              "tracktable_name          3351\n",
              "tracktable_value_from    1676\n",
              "tracktable_value_to      1664\n",
              "dtype: int64"
            ]
          },
          "metadata": {
            "tags": []
          },
          "execution_count": 31
        }
      ]
    },
    {
      "cell_type": "markdown",
      "metadata": {
        "id": "EQLnRgBvx8e7",
        "colab_type": "text"
      },
      "source": [
        "### Data Preprocessing\n",
        "\n",
        "Now, we are tring to calculate the difference between or the number of days between the checkin date (`checkin_date_from`) and check out date (`checkin_date_to`) so it gives an idea about how long the patient has been in the hospital. This can also contribute to the prediction of severity of the disease."
      ]
    },
    {
      "cell_type": "code",
      "metadata": {
        "id": "2Ec7vVcRts6y",
        "colab_type": "code",
        "colab": {
          "base_uri": "https://localhost:8080/",
          "height": 202
        },
        "outputId": "2a01c053-a0f9-44e4-f7b1-018082510739"
      },
      "source": [
        "#convert to date type and adding number of days\n",
        "dframe = DF2.copy()\n",
        "\n",
        "dframe.fillna(0,inplace=True)\n",
        "\n",
        "dframe['checkin_date_from']= pd.to_datetime(dframe['checkin_date_from']) \n",
        "\n",
        "dframe['checkin_date_to']= pd.to_datetime(dframe['checkin_date_to']) \n",
        "\n",
        "dframe['Days'] = (dframe['checkin_date_to'] - dframe['checkin_date_from']).dt.days\n",
        "\n",
        "dframe.drop(['checkin_date_from','checkin_date_to'],axis=1,inplace=True)\n",
        "\n",
        "dframe.head()\n"
      ],
      "execution_count": 32,
      "outputs": [
        {
          "output_type": "execute_result",
          "data": {
            "text/html": [
              "<div>\n",
              "<style scoped>\n",
              "    .dataframe tbody tr th:only-of-type {\n",
              "        vertical-align: middle;\n",
              "    }\n",
              "\n",
              "    .dataframe tbody tr th {\n",
              "        vertical-align: top;\n",
              "    }\n",
              "\n",
              "    .dataframe thead th {\n",
              "        text-align: right;\n",
              "    }\n",
              "</style>\n",
              "<table border=\"1\" class=\"dataframe\">\n",
              "  <thead>\n",
              "    <tr style=\"text-align: right;\">\n",
              "      <th></th>\n",
              "      <th>user_id</th>\n",
              "      <th>age</th>\n",
              "      <th>sex</th>\n",
              "      <th>country</th>\n",
              "      <th>status</th>\n",
              "      <th>tracktable_type</th>\n",
              "      <th>tracktable_name</th>\n",
              "      <th>tracktable_value_from</th>\n",
              "      <th>tracktable_value_to</th>\n",
              "      <th>Days</th>\n",
              "    </tr>\n",
              "  </thead>\n",
              "  <tbody>\n",
              "    <tr>\n",
              "      <th>0</th>\n",
              "      <td>8680</td>\n",
              "      <td>32</td>\n",
              "      <td>female</td>\n",
              "      <td>US</td>\n",
              "      <td>IMPROVED</td>\n",
              "      <td>Weather</td>\n",
              "      <td>precip_intensity</td>\n",
              "      <td>0.001</td>\n",
              "      <td>0.0004</td>\n",
              "      <td>1</td>\n",
              "    </tr>\n",
              "    <tr>\n",
              "      <th>1</th>\n",
              "      <td>1694</td>\n",
              "      <td>34</td>\n",
              "      <td>female</td>\n",
              "      <td>US</td>\n",
              "      <td>SAME</td>\n",
              "      <td>Condition</td>\n",
              "      <td>Depression</td>\n",
              "      <td>1</td>\n",
              "      <td>1</td>\n",
              "      <td>1</td>\n",
              "    </tr>\n",
              "    <tr>\n",
              "      <th>2</th>\n",
              "      <td>12316</td>\n",
              "      <td>35</td>\n",
              "      <td>female</td>\n",
              "      <td>AF</td>\n",
              "      <td>SAME</td>\n",
              "      <td>Weather</td>\n",
              "      <td>pressure</td>\n",
              "      <td>1019.0</td>\n",
              "      <td>1023.0</td>\n",
              "      <td>1</td>\n",
              "    </tr>\n",
              "    <tr>\n",
              "      <th>3</th>\n",
              "      <td>312</td>\n",
              "      <td>23</td>\n",
              "      <td>female</td>\n",
              "      <td>AU</td>\n",
              "      <td>IMPROVED</td>\n",
              "      <td>Treatment</td>\n",
              "      <td>Mersyndol</td>\n",
              "      <td>500mg paracetamol 9.6mg codeine</td>\n",
              "      <td>500mg paracetamol 9.6mg codeine</td>\n",
              "      <td>3</td>\n",
              "    </tr>\n",
              "    <tr>\n",
              "      <th>4</th>\n",
              "      <td>611</td>\n",
              "      <td>46</td>\n",
              "      <td>female</td>\n",
              "      <td>US</td>\n",
              "      <td>IMPROVED</td>\n",
              "      <td>Symptom</td>\n",
              "      <td>Bumps on tongue</td>\n",
              "      <td>0</td>\n",
              "      <td>0</td>\n",
              "      <td>1</td>\n",
              "    </tr>\n",
              "  </tbody>\n",
              "</table>\n",
              "</div>"
            ],
            "text/plain": [
              "   user_id  age  ...              tracktable_value_to Days\n",
              "0     8680   32  ...                           0.0004    1\n",
              "1     1694   34  ...                                1    1\n",
              "2    12316   35  ...                           1023.0    1\n",
              "3      312   23  ...  500mg paracetamol 9.6mg codeine    3\n",
              "4      611   46  ...                                0    1\n",
              "\n",
              "[5 rows x 10 columns]"
            ]
          },
          "metadata": {
            "tags": []
          },
          "execution_count": 32
        }
      ]
    },
    {
      "cell_type": "markdown",
      "metadata": {
        "id": "8guxvSVjLxqY",
        "colab_type": "text"
      },
      "source": [
        "Dropping `trackable_type` - `treatment` and `weather`.\n",
        "\n",
        "`trackable_type` - `treatment` is very crucial in predicting the severity of the disease as it helps in unvieling the truth whether the treatement has improved the status of the patient or worsened or remained the same. But I am dropping it as it doesn't really fit in the dataframe that we have developed over here. "
      ]
    },
    {
      "cell_type": "code",
      "metadata": {
        "id": "9HImSwYuyKim",
        "colab_type": "code",
        "colab": {}
      },
      "source": [
        "#since value is not convertible to float\n",
        "dframe.drop( dframe[dframe['tracktable_type']=='Treatment'].index,inplace=True)\n",
        "\n",
        "#since value is not convertible to float\n",
        "dframe.drop( dframe[dframe['tracktable_type']=='Weather'].index,inplace=True)\n",
        "\n",
        "dframe.reset_index(drop=True,inplace=True)\n",
        "\n",
        "dframe['tracktable_value_from'] = dframe['tracktable_value_from'].astype(float)\n",
        "dframe['tracktable_value_to'] = dframe['tracktable_value_to'].astype(float)"
      ],
      "execution_count": 0,
      "outputs": []
    },
    {
      "cell_type": "code",
      "metadata": {
        "id": "mogrlbeZyKfo",
        "colab_type": "code",
        "colab": {
          "base_uri": "https://localhost:8080/",
          "height": 35
        },
        "outputId": "74ebcea2-4904-4503-8d83-57579174e18a"
      },
      "source": [
        "dframe.shape"
      ],
      "execution_count": 34,
      "outputs": [
        {
          "output_type": "execute_result",
          "data": {
            "text/plain": [
              "(168492, 10)"
            ]
          },
          "metadata": {
            "tags": []
          },
          "execution_count": 34
        }
      ]
    },
    {
      "cell_type": "code",
      "metadata": {
        "id": "couAHLnCyKdT",
        "colab_type": "code",
        "colab": {
          "base_uri": "https://localhost:8080/",
          "height": 202
        },
        "outputId": "d2bf4522-9e0e-4dbf-856d-001e8a11ab7e"
      },
      "source": [
        "dframe.head()"
      ],
      "execution_count": 35,
      "outputs": [
        {
          "output_type": "execute_result",
          "data": {
            "text/html": [
              "<div>\n",
              "<style scoped>\n",
              "    .dataframe tbody tr th:only-of-type {\n",
              "        vertical-align: middle;\n",
              "    }\n",
              "\n",
              "    .dataframe tbody tr th {\n",
              "        vertical-align: top;\n",
              "    }\n",
              "\n",
              "    .dataframe thead th {\n",
              "        text-align: right;\n",
              "    }\n",
              "</style>\n",
              "<table border=\"1\" class=\"dataframe\">\n",
              "  <thead>\n",
              "    <tr style=\"text-align: right;\">\n",
              "      <th></th>\n",
              "      <th>user_id</th>\n",
              "      <th>age</th>\n",
              "      <th>sex</th>\n",
              "      <th>country</th>\n",
              "      <th>status</th>\n",
              "      <th>tracktable_type</th>\n",
              "      <th>tracktable_name</th>\n",
              "      <th>tracktable_value_from</th>\n",
              "      <th>tracktable_value_to</th>\n",
              "      <th>Days</th>\n",
              "    </tr>\n",
              "  </thead>\n",
              "  <tbody>\n",
              "    <tr>\n",
              "      <th>0</th>\n",
              "      <td>1694</td>\n",
              "      <td>34</td>\n",
              "      <td>female</td>\n",
              "      <td>US</td>\n",
              "      <td>SAME</td>\n",
              "      <td>Condition</td>\n",
              "      <td>Depression</td>\n",
              "      <td>1.0</td>\n",
              "      <td>1.0</td>\n",
              "      <td>1</td>\n",
              "    </tr>\n",
              "    <tr>\n",
              "      <th>1</th>\n",
              "      <td>611</td>\n",
              "      <td>46</td>\n",
              "      <td>female</td>\n",
              "      <td>US</td>\n",
              "      <td>IMPROVED</td>\n",
              "      <td>Symptom</td>\n",
              "      <td>Bumps on tongue</td>\n",
              "      <td>0.0</td>\n",
              "      <td>0.0</td>\n",
              "      <td>1</td>\n",
              "    </tr>\n",
              "    <tr>\n",
              "      <th>2</th>\n",
              "      <td>671</td>\n",
              "      <td>25</td>\n",
              "      <td>female</td>\n",
              "      <td>US</td>\n",
              "      <td>SAME</td>\n",
              "      <td>Symptom</td>\n",
              "      <td>Neck and shoulder pain</td>\n",
              "      <td>2.0</td>\n",
              "      <td>2.0</td>\n",
              "      <td>1</td>\n",
              "    </tr>\n",
              "    <tr>\n",
              "      <th>3</th>\n",
              "      <td>3006</td>\n",
              "      <td>31</td>\n",
              "      <td>doesnt_say</td>\n",
              "      <td>CA</td>\n",
              "      <td>WORSENED</td>\n",
              "      <td>Symptom</td>\n",
              "      <td>Insomnia</td>\n",
              "      <td>2.0</td>\n",
              "      <td>1.0</td>\n",
              "      <td>1</td>\n",
              "    </tr>\n",
              "    <tr>\n",
              "      <th>4</th>\n",
              "      <td>7659</td>\n",
              "      <td>32</td>\n",
              "      <td>female</td>\n",
              "      <td>US</td>\n",
              "      <td>WORSENED</td>\n",
              "      <td>Symptom</td>\n",
              "      <td>Tingling in hands and feet</td>\n",
              "      <td>1.0</td>\n",
              "      <td>2.0</td>\n",
              "      <td>1</td>\n",
              "    </tr>\n",
              "  </tbody>\n",
              "</table>\n",
              "</div>"
            ],
            "text/plain": [
              "   user_id  age         sex  ... tracktable_value_from tracktable_value_to Days\n",
              "0     1694   34      female  ...                   1.0                 1.0    1\n",
              "1      611   46      female  ...                   0.0                 0.0    1\n",
              "2      671   25      female  ...                   2.0                 2.0    1\n",
              "3     3006   31  doesnt_say  ...                   2.0                 1.0    1\n",
              "4     7659   32      female  ...                   1.0                 2.0    1\n",
              "\n",
              "[5 rows x 10 columns]"
            ]
          },
          "metadata": {
            "tags": []
          },
          "execution_count": 35
        }
      ]
    },
    {
      "cell_type": "code",
      "metadata": {
        "id": "tssFRT40yKW7",
        "colab_type": "code",
        "colab": {}
      },
      "source": [
        "dframe.fillna(0,inplace=True)"
      ],
      "execution_count": 0,
      "outputs": []
    },
    {
      "cell_type": "markdown",
      "metadata": {
        "id": "XdFRb1W7NW0U",
        "colab_type": "text"
      },
      "source": [
        "Encoding `sex` and `status` labels."
      ]
    },
    {
      "cell_type": "code",
      "metadata": {
        "id": "IFmQXIeMHeBY",
        "colab_type": "code",
        "colab": {}
      },
      "source": [
        "def encode_sex(df):\n",
        "    label =df['sex']\n",
        "    if label == 'female':\n",
        "        return 0\n",
        "    elif label == 'male':\n",
        "        return 1\n",
        "    elif label=='other':\n",
        "        return 2\n",
        "    else:\n",
        "        return 3"
      ],
      "execution_count": 0,
      "outputs": []
    },
    {
      "cell_type": "code",
      "metadata": {
        "id": "hYGWd4nbHgQs",
        "colab_type": "code",
        "colab": {}
      },
      "source": [
        "def encode_labels(df):\n",
        "    label =df['status']\n",
        "    if label == 'IMPROVED':\n",
        "        return 0\n",
        "    elif label == 'WORSENED':\n",
        "        return 1\n",
        "    else:\n",
        "        return 2"
      ],
      "execution_count": 0,
      "outputs": []
    },
    {
      "cell_type": "code",
      "metadata": {
        "id": "-9h2US5TyKTj",
        "colab_type": "code",
        "colab": {
          "base_uri": "https://localhost:8080/",
          "height": 110
        },
        "outputId": "2aa85d16-b9d0-491f-eef4-75d2db69e1e8"
      },
      "source": [
        "train_subset= dframe.copy()\n",
        "\n",
        "train_subset['y'] = train_subset.apply(encode_labels,axis=1)\n",
        "\n",
        "train_subset['gender']= train_subset.apply(encode_sex,axis=1)\n",
        "\n",
        "train_subset.drop(['status','sex'],axis=1,inplace=True)\n",
        "\n",
        "train_subset.head(2)"
      ],
      "execution_count": 39,
      "outputs": [
        {
          "output_type": "execute_result",
          "data": {
            "text/html": [
              "<div>\n",
              "<style scoped>\n",
              "    .dataframe tbody tr th:only-of-type {\n",
              "        vertical-align: middle;\n",
              "    }\n",
              "\n",
              "    .dataframe tbody tr th {\n",
              "        vertical-align: top;\n",
              "    }\n",
              "\n",
              "    .dataframe thead th {\n",
              "        text-align: right;\n",
              "    }\n",
              "</style>\n",
              "<table border=\"1\" class=\"dataframe\">\n",
              "  <thead>\n",
              "    <tr style=\"text-align: right;\">\n",
              "      <th></th>\n",
              "      <th>user_id</th>\n",
              "      <th>age</th>\n",
              "      <th>country</th>\n",
              "      <th>tracktable_type</th>\n",
              "      <th>tracktable_name</th>\n",
              "      <th>tracktable_value_from</th>\n",
              "      <th>tracktable_value_to</th>\n",
              "      <th>Days</th>\n",
              "      <th>y</th>\n",
              "      <th>gender</th>\n",
              "    </tr>\n",
              "  </thead>\n",
              "  <tbody>\n",
              "    <tr>\n",
              "      <th>0</th>\n",
              "      <td>1694</td>\n",
              "      <td>34</td>\n",
              "      <td>US</td>\n",
              "      <td>Condition</td>\n",
              "      <td>Depression</td>\n",
              "      <td>1.0</td>\n",
              "      <td>1.0</td>\n",
              "      <td>1</td>\n",
              "      <td>2</td>\n",
              "      <td>0</td>\n",
              "    </tr>\n",
              "    <tr>\n",
              "      <th>1</th>\n",
              "      <td>611</td>\n",
              "      <td>46</td>\n",
              "      <td>US</td>\n",
              "      <td>Symptom</td>\n",
              "      <td>Bumps on tongue</td>\n",
              "      <td>0.0</td>\n",
              "      <td>0.0</td>\n",
              "      <td>1</td>\n",
              "      <td>0</td>\n",
              "      <td>0</td>\n",
              "    </tr>\n",
              "  </tbody>\n",
              "</table>\n",
              "</div>"
            ],
            "text/plain": [
              "   user_id  age country tracktable_type  ... tracktable_value_to  Days  y  gender\n",
              "0     1694   34      US       Condition  ...                 1.0     1  2       0\n",
              "1      611   46      US         Symptom  ...                 0.0     1  0       0\n",
              "\n",
              "[2 rows x 10 columns]"
            ]
          },
          "metadata": {
            "tags": []
          },
          "execution_count": 39
        }
      ]
    },
    {
      "cell_type": "code",
      "metadata": {
        "id": "fn-E8xnUyKQr",
        "colab_type": "code",
        "colab": {}
      },
      "source": [
        "#since country is very less responsible for status\n",
        "train_subset.drop(['country' ],axis=1,inplace=True)\n"
      ],
      "execution_count": 0,
      "outputs": []
    },
    {
      "cell_type": "code",
      "metadata": {
        "id": "-VIUhRbGyKNa",
        "colab_type": "code",
        "colab": {}
      },
      "source": [
        "le_type = preprocessing.LabelEncoder()\n",
        "le_name = preprocessing.LabelEncoder()\n",
        "\n",
        "le_type.fit(train_subset['tracktable_type'])\n",
        "\n",
        "train_subset['tracktable_type']=le_type.transform(train_subset['tracktable_type']) \n",
        "\n",
        "le_name.fit(train_subset['tracktable_name'])\n",
        "train_subset['tracktable_name']=le_name.transform(train_subset['tracktable_name']) \n"
      ],
      "execution_count": 0,
      "outputs": []
    },
    {
      "cell_type": "code",
      "metadata": {
        "id": "s3HBtlGaOK_q",
        "colab_type": "code",
        "colab": {
          "base_uri": "https://localhost:8080/",
          "height": 202
        },
        "outputId": "7f6cf887-99c3-450f-f65d-01bc7eabf1d9"
      },
      "source": [
        "train_subset.head()"
      ],
      "execution_count": 42,
      "outputs": [
        {
          "output_type": "execute_result",
          "data": {
            "text/html": [
              "<div>\n",
              "<style scoped>\n",
              "    .dataframe tbody tr th:only-of-type {\n",
              "        vertical-align: middle;\n",
              "    }\n",
              "\n",
              "    .dataframe tbody tr th {\n",
              "        vertical-align: top;\n",
              "    }\n",
              "\n",
              "    .dataframe thead th {\n",
              "        text-align: right;\n",
              "    }\n",
              "</style>\n",
              "<table border=\"1\" class=\"dataframe\">\n",
              "  <thead>\n",
              "    <tr style=\"text-align: right;\">\n",
              "      <th></th>\n",
              "      <th>user_id</th>\n",
              "      <th>age</th>\n",
              "      <th>tracktable_type</th>\n",
              "      <th>tracktable_name</th>\n",
              "      <th>tracktable_value_from</th>\n",
              "      <th>tracktable_value_to</th>\n",
              "      <th>Days</th>\n",
              "      <th>y</th>\n",
              "      <th>gender</th>\n",
              "    </tr>\n",
              "  </thead>\n",
              "  <tbody>\n",
              "    <tr>\n",
              "      <th>0</th>\n",
              "      <td>1694</td>\n",
              "      <td>34</td>\n",
              "      <td>0</td>\n",
              "      <td>340</td>\n",
              "      <td>1.0</td>\n",
              "      <td>1.0</td>\n",
              "      <td>1</td>\n",
              "      <td>2</td>\n",
              "      <td>0</td>\n",
              "    </tr>\n",
              "    <tr>\n",
              "      <th>1</th>\n",
              "      <td>611</td>\n",
              "      <td>46</td>\n",
              "      <td>1</td>\n",
              "      <td>186</td>\n",
              "      <td>0.0</td>\n",
              "      <td>0.0</td>\n",
              "      <td>1</td>\n",
              "      <td>0</td>\n",
              "      <td>0</td>\n",
              "    </tr>\n",
              "    <tr>\n",
              "      <th>2</th>\n",
              "      <td>671</td>\n",
              "      <td>25</td>\n",
              "      <td>1</td>\n",
              "      <td>1005</td>\n",
              "      <td>2.0</td>\n",
              "      <td>2.0</td>\n",
              "      <td>1</td>\n",
              "      <td>2</td>\n",
              "      <td>0</td>\n",
              "    </tr>\n",
              "    <tr>\n",
              "      <th>3</th>\n",
              "      <td>3006</td>\n",
              "      <td>31</td>\n",
              "      <td>1</td>\n",
              "      <td>754</td>\n",
              "      <td>2.0</td>\n",
              "      <td>1.0</td>\n",
              "      <td>1</td>\n",
              "      <td>1</td>\n",
              "      <td>3</td>\n",
              "    </tr>\n",
              "    <tr>\n",
              "      <th>4</th>\n",
              "      <td>7659</td>\n",
              "      <td>32</td>\n",
              "      <td>1</td>\n",
              "      <td>1504</td>\n",
              "      <td>1.0</td>\n",
              "      <td>2.0</td>\n",
              "      <td>1</td>\n",
              "      <td>1</td>\n",
              "      <td>0</td>\n",
              "    </tr>\n",
              "  </tbody>\n",
              "</table>\n",
              "</div>"
            ],
            "text/plain": [
              "   user_id  age  tracktable_type  ...  Days  y  gender\n",
              "0     1694   34                0  ...     1  2       0\n",
              "1      611   46                1  ...     1  0       0\n",
              "2      671   25                1  ...     1  2       0\n",
              "3     3006   31                1  ...     1  1       3\n",
              "4     7659   32                1  ...     1  1       0\n",
              "\n",
              "[5 rows x 9 columns]"
            ]
          },
          "metadata": {
            "tags": []
          },
          "execution_count": 42
        }
      ]
    },
    {
      "cell_type": "markdown",
      "metadata": {
        "id": "NNCHN1g6ybDP",
        "colab_type": "text"
      },
      "source": [
        "### Training"
      ]
    },
    {
      "cell_type": "code",
      "metadata": {
        "id": "iJhMBbQVyKKh",
        "colab_type": "code",
        "colab": {}
      },
      "source": [
        "X_train, X_test, y_train, y_test = train_test_split(train_subset, train_subset['y'],\n",
        "                                                    train_size=0.7,shuffle=True, random_state=23123)"
      ],
      "execution_count": 0,
      "outputs": []
    },
    {
      "cell_type": "code",
      "metadata": {
        "id": "X-kx1UehyKHv",
        "colab_type": "code",
        "colab": {
          "base_uri": "https://localhost:8080/",
          "height": 69
        },
        "outputId": "bafd33a3-35ca-433c-8435-62fdea77200d"
      },
      "source": [
        "KNN = knn(n_neighbors=10)\n",
        "KNN.fit(X_train ,y_train )"
      ],
      "execution_count": 44,
      "outputs": [
        {
          "output_type": "execute_result",
          "data": {
            "text/plain": [
              "KNeighborsClassifier(algorithm='auto', leaf_size=30, metric='minkowski',\n",
              "                     metric_params=None, n_jobs=None, n_neighbors=10, p=2,\n",
              "                     weights='uniform')"
            ]
          },
          "metadata": {
            "tags": []
          },
          "execution_count": 44
        }
      ]
    },
    {
      "cell_type": "code",
      "metadata": {
        "id": "eiHfw51ryKBQ",
        "colab_type": "code",
        "colab": {
          "base_uri": "https://localhost:8080/",
          "height": 72
        },
        "outputId": "411f84ad-8feb-4645-d3af-a8359f3917e5"
      },
      "source": [
        "#trained on 10000 rows only since computation is taking high time\n",
        "\n",
        "\n",
        "SVM = svm.SVC(cache_size=170000)\n",
        "# SVM.fit(X_train[:10000] ,y_train[:10000] )\n",
        "SVM.fit(X_train ,y_train)"
      ],
      "execution_count": 0,
      "outputs": [
        {
          "output_type": "stream",
          "text": [
            "/usr/local/lib/python3.6/dist-packages/sklearn/svm/base.py:193: FutureWarning: The default value of gamma will change from 'auto' to 'scale' in version 0.22 to account better for unscaled features. Set gamma explicitly to 'auto' or 'scale' to avoid this warning.\n",
            "  \"avoid this warning.\", FutureWarning)\n"
          ],
          "name": "stderr"
        }
      ]
    },
    {
      "cell_type": "markdown",
      "metadata": {
        "id": "9wwxX-5Uyh0t",
        "colab_type": "text"
      },
      "source": [
        "### Accuracy and confusion matrix plots"
      ]
    },
    {
      "cell_type": "code",
      "metadata": {
        "id": "rY9LEb_kyJ-3",
        "colab_type": "code",
        "colab": {}
      },
      "source": [
        "def plot_confusion_matrix(cm, classes,\n",
        "                          normalize= True,\n",
        "                          title='Confusion matrix',\n",
        "                          cmap=plt.cm.Blues):\n",
        "    \"\"\"\n",
        "    This function prints and plots the confusion matrix.\n",
        "    Normalization can be applied by setting `normalize=True`.\n",
        "    \"\"\"\n",
        "    import itertools\n",
        "    if normalize:\n",
        "        cm = cm.astype('float') / cm.sum(axis=1)[:, np.newaxis]\n",
        "        print(\"Normalized confusion matrix\")\n",
        "    else:\n",
        "        print('Confusion matrix, without normalization')\n",
        "\n",
        "    print(cm)\n",
        "\n",
        "    plt.imshow(cm, interpolation='nearest', cmap=cmap)\n",
        "    plt.title(title)\n",
        "    plt.colorbar()\n",
        "    tick_marks = np.arange(len(classes))\n",
        "    plt.xticks(tick_marks, classes, rotation=45)\n",
        "    plt.yticks(tick_marks, classes)\n",
        "\n",
        "    fmt = '.2f' if normalize else 'd'\n",
        "    thresh = cm.max() / 2.\n",
        "    for i, j in itertools.product(range(cm.shape[0]), range(cm.shape[1])):\n",
        "        plt.text(j, i, format(cm[i, j], fmt),\n",
        "                 horizontalalignment=\"center\",\n",
        "                 color=\"white\" if cm[i, j] > thresh else \"black\")\n",
        "\n",
        "    plt.ylabel('True label')\n",
        "    plt.xlabel('Predicted label')\n",
        "    plt.tight_layout()"
      ],
      "execution_count": 0,
      "outputs": []
    },
    {
      "cell_type": "markdown",
      "metadata": {
        "id": "_hBd63XTymEL",
        "colab_type": "text"
      },
      "source": [
        "### KNN"
      ]
    },
    {
      "cell_type": "code",
      "metadata": {
        "id": "eSuhP0_DyJ7I",
        "colab_type": "code",
        "colab": {
          "base_uri": "https://localhost:8080/",
          "height": 69
        },
        "outputId": "5928744c-2645-4211-9d90-b0527f3fb752"
      },
      "source": [
        "train_subset.columns"
      ],
      "execution_count": 163,
      "outputs": [
        {
          "output_type": "execute_result",
          "data": {
            "text/plain": [
              "Index(['user_id', 'age', 'tracktable_type', 'tracktable_name',\n",
              "       'tracktable_value_from', 'tracktable_value_to', 'Days', 'y', 'gender'],\n",
              "      dtype='object')"
            ]
          },
          "metadata": {
            "tags": []
          },
          "execution_count": 163
        }
      ]
    },
    {
      "cell_type": "code",
      "metadata": {
        "id": "FU1_CHJIyJ4N",
        "colab_type": "code",
        "colab": {}
      },
      "source": [
        "y_pred =KNN.predict(X_test)"
      ],
      "execution_count": 0,
      "outputs": []
    },
    {
      "cell_type": "code",
      "metadata": {
        "id": "i9zhBl3Lyprj",
        "colab_type": "code",
        "colab": {
          "base_uri": "https://localhost:8080/",
          "height": 35
        },
        "outputId": "b671f9b8-0705-4e65-91e5-46f8ba631a0b"
      },
      "source": [
        " print(\"the accuracy of the KNN model is  \", accuracy_score(y_test, y_pred))"
      ],
      "execution_count": 165,
      "outputs": [
        {
          "output_type": "stream",
          "text": [
            "the accuracy of the KNN model is   0.705843950304661\n"
          ],
          "name": "stdout"
        }
      ]
    },
    {
      "cell_type": "code",
      "metadata": {
        "id": "d-jM25O8yry6",
        "colab_type": "code",
        "colab": {
          "base_uri": "https://localhost:8080/",
          "height": 361
        },
        "outputId": "d294fcce-e8ba-46c2-9745-174a0e7eed91"
      },
      "source": [
        "cnf_matrix = metrics.confusion_matrix(y_test, y_pred,labels=[0,  1, 2])\n",
        "np.set_printoptions(precision=2)\n",
        "\n",
        "# Plot non-normalized confusion matrix\n",
        "plt.figure()\n",
        "plot_confusion_matrix(cnf_matrix, classes=[0,1,2],\n",
        "                      title='For KNN :Confusion matrix, with normalization')\n"
      ],
      "execution_count": 166,
      "outputs": [
        {
          "output_type": "stream",
          "text": [
            "Normalized confusion matrix\n",
            "[[0.6  0.15 0.26]\n",
            " [0.15 0.46 0.38]\n",
            " [0.05 0.07 0.88]]\n"
          ],
          "name": "stdout"
        },
        {
          "output_type": "display_data",
          "data": {
            "image/png": "[encoded data removed]",
            "text/plain": [
              "<Figure size 432x288 with 2 Axes>"
            ]
          },
          "metadata": {
            "tags": []
          }
        }
      ]
    },
    {
      "cell_type": "markdown",
      "metadata": {
        "id": "xjf-gJIJyueN",
        "colab_type": "text"
      },
      "source": [
        "### SVM"
      ]
    },
    {
      "cell_type": "code",
      "metadata": {
        "id": "7iMzEDoGys8S",
        "colab_type": "code",
        "colab": {}
      },
      "source": [
        "y_pred =SVM.predict(X_test)"
      ],
      "execution_count": 0,
      "outputs": []
    },
    {
      "cell_type": "code",
      "metadata": {
        "id": "2S57pW15ys5O",
        "colab_type": "code",
        "colab": {
          "base_uri": "https://localhost:8080/",
          "height": 35
        },
        "outputId": "9e14449d-4be7-4923-8585-cac1bc95f60b"
      },
      "source": [
        "print(\"the accuracy of the  SVM model is  \", accuracy_score(y_test, y_pred))"
      ],
      "execution_count": 168,
      "outputs": [
        {
          "output_type": "stream",
          "text": [
            "the accuracy of the  SVM model is   0.5380628313682044\n"
          ],
          "name": "stdout"
        }
      ]
    },
    {
      "cell_type": "code",
      "metadata": {
        "id": "z9eTFf6cys2m",
        "colab_type": "code",
        "colab": {
          "base_uri": "https://localhost:8080/",
          "height": 361
        },
        "outputId": "6f5c97e0-d0da-4e28-fdba-47e01774e5e4"
      },
      "source": [
        "cnf_matrix = metrics.confusion_matrix(y_test, y_pred,labels=[0,  1, 2])\n",
        "np.set_printoptions(precision=2)\n",
        "\n",
        "# Plot non-normalized confusion matrix\n",
        "plt.figure()\n",
        "plot_confusion_matrix(cnf_matrix, classes=[0,1,2],\n",
        "                      title='For SVM :Confusion matrix, with  normalization')\n"
      ],
      "execution_count": 169,
      "outputs": [
        {
          "output_type": "stream",
          "text": [
            "Normalized confusion matrix\n",
            "[[0.22 0.13 0.66]\n",
            " [0.11 0.13 0.76]\n",
            " [0.03 0.07 0.9 ]]\n"
          ],
          "name": "stdout"
        },
        {
          "output_type": "display_data",
          "data": {
            "image/png": "[encoded data removed]",
            "text/plain": [
              "<Figure size 432x288 with 2 Axes>"
            ]
          },
          "metadata": {
            "tags": []
          }
        }
      ]
    },
    {
      "cell_type": "markdown",
      "metadata": {
        "id": "1g34S-knMfkc",
        "colab_type": "text"
      },
      "source": [
        "### Additional Questions\n",
        "\n",
        "Please answer the following questions:\n",
        "\n",
        "#### 1.   If you've explored the data, please describe your observations about the dataset.\n",
        "\n",
        "- The disease mostly affect women\n",
        "- People of 20-35 age seemed to be vulnerable to this disease \n",
        "- Top 4 countries from where we have large number of people with this disease diagnosed US, GB, CA, AU.\n",
        "- Country is not having the affect on the target(status), \n",
        "- Age also did not seem to be a strong factor in affecting the status of person.\n",
        "\n",
        "#### 2.   What approach (i.e. modeling & evaluation) did you use?\n",
        "\n",
        "- Used supervised machine learning algorithm (K nearest neighbor and Support Vector Machine) for modeling and accuracy score for its evaluation.\n",
        "- Also computed confusion matrix.\n",
        "- \n",
        "\n",
        "3.   What features have you tried (please also include the ones that you do not include in your final model)?\n",
        "4.   What tradeoffs did you consider? Why did you use this approach?\n",
        "5.   How would you improve your model if you had more time?\n",
        "\n"
      ]
    }
  ]
}