{
  "nbformat": 4,
  "nbformat_minor": 0,
  "metadata": {
    "colab": {
      "name": "Final Assignment",
      "provenance": [],
      "collapsed_sections": [],
      "machine_shape": "hm",
      "include_colab_link": true
    },
    "kernelspec": {
      "name": "python3",
      "display_name": "Python 3"
    }
  },
  "cells": [
    {
      "cell_type": "markdown",
      "metadata": {
        "id": "view-in-github",
        "colab_type": "text"
      },
      "source": [
        "<a href=\"https://colab.research.google.com/github/MounicaSubramanium/R-Language/blob/master/Final_Assignment.ipynb\" target=\"_parent\"><img src=\"https://colab.research.google.com/assets/colab-badge.svg\" alt=\"Open In Colab\"/></a>"
      ]
    },
    {
      "cell_type": "markdown",
      "metadata": {
        "id": "qaTUTrqJK9b6",
        "colab_type": "text"
      },
      "source": [
        ">[QPID Machine Learning/Data Science Challenge](#scrollTo=0rfF7yE_Nzsx)\n",
        "\n",
        ">>[Introduction](#scrollTo=rm6JUOo3PkQ3)\n",
        "\n",
        ">>>[Problem Statement](#scrollTo=tcXSWw-895ez)\n",
        "\n",
        ">>[Details](#scrollTo=GZh7-oC8ELQh)\n",
        "\n",
        ">>>[Downloading the Dataset](#scrollTo=NkkA0ZzePwI8)\n",
        "\n",
        ">>>[Dataset Description](#scrollTo=mEXwMJQ-VWoR)\n",
        "\n",
        ">>>[Hints](#scrollTo=Tg8y-zLlxZNQ)\n",
        "\n",
        ">>>[Import Libraries](#scrollTo=JBt8Ino7PGDz)\n",
        "\n",
        ">>>[Code Samples](#scrollTo=i38zIcCZXg33)\n",
        "\n",
        ">>[Tasks](#scrollTo=TJTdm_qNYqqb)\n",
        "\n",
        ">>>[Part 1: Modeling](#scrollTo=2hcyIkRSXg82)\n",
        "\n",
        ">>>[Part 2: Additional Questions](#scrollTo=8VSLpzIMXg_a)"
      ]
    },
    {
      "cell_type": "markdown",
      "metadata": {
        "id": "iTBlKBCxLEaN",
        "colab_type": "text"
      },
      "source": [
        "## Introduction"
      ]
    },
    {
      "cell_type": "markdown",
      "metadata": {
        "id": "njDD_lgpLLOe",
        "colab_type": "text"
      },
      "source": [
        "We'd like to get a better sense of your approach to and intuition for machine learning, natural language processing, data science, as well as your other technical and analytical skills. To that end, we'd like you to complete this ML challenge. \n",
        "\n",
        "In this challenge, we provide you with some code samples using `pandas` and `scikit-learn`. You may use other python libraries as well as reference online resources to complete this challenge.\n",
        "\n",
        "This is an interactive Jupyter notebook that allows you to write, comment on, and execute python code directly on Google's servers. If you are new to Jupyter notebooks, you can read more about them here: [https://jupyter.org/](https://jupyter.org/). **Please edit this notebook directly** and take as much time as you feel is reasonable to complete this exercise. \n"
      ]
    },
    {
      "cell_type": "markdown",
      "metadata": {
        "id": "w-A-xcNkLLRq",
        "colab_type": "text"
      },
      "source": [
        "\n",
        "**Please email nick.botchan@evicore.com, vpartridge@evicore.com when you are done so that we can review the changes you've made to this notebook.**"
      ]
    },
    {
      "cell_type": "markdown",
      "metadata": {
        "id": "6ezzrfp-LLVH",
        "colab_type": "text"
      },
      "source": [
        "### Problem Statement\n",
        "The goal of this notebook is to develop a model that predicts whether self-reported severity of [fibromyalgia](https://en.wikipedia.org/wiki/Fibromyalgia) **IMPROVED**, **WORSENED**, or stayed the **SAME** over a variable period of time for patients who have this condition. Below are instructions about how to download the data, as well as some sample code that generates such predictions. \n",
        "\n",
        "**Your goal is to improve on this model and show us how you think through such a problem.**"
      ]
    },
    {
      "cell_type": "markdown",
      "metadata": {
        "id": "0HMr72JiLLZS",
        "colab_type": "text"
      },
      "source": [
        "## Tasks\n",
        "\n",
        "This challenge consists of two parts: modeling and addressing additional questions. The first part is to train a model and predict the change in status of fibromyalgia. The second part is to answer some questions in regards to your approach. \n"
      ]
    },
    {
      "cell_type": "markdown",
      "metadata": {
        "id": "OLZE8DcRLcGB",
        "colab_type": "text"
      },
      "source": [
        "### Part 1: Modeling\n",
        "\n",
        "\n",
        "\n",
        "1.   We will evaluate your results on a held-out test set. Therefore, please make sure that your code is clearly documented, so that we can easily run **your code** against our test set. The test set is formatted exactly the same as the dataset set we provided. **You will not be judged solely on the performance of the model.** We are also interested in your creativity and problem solving approach.  \n",
        "2.   Please report on how well the model did. You may choose to whatever metrics you find appropriate.\n"
      ]
    },
    {
      "cell_type": "markdown",
      "metadata": {
        "id": "WGMbncjZLcJS",
        "colab_type": "text"
      },
      "source": [
        "### Part 2: Additional Questions\n",
        "\n",
        "Please answer the following questions at the bottom of the notebook when you have completed part 1:\n",
        "\n",
        "1.   If you've explored the data, please describe your observations about the dataset. \n",
        "2.   What approach (i.e. modeling & evaluation) did you use?\n",
        "3.   What features have you tried (please also include the ones that you do not include in your final model)?\n",
        "4.   Why did you use this approach?\n",
        "5.   How would you improve your model if you had more time?"
      ]
    },
    {
      "cell_type": "markdown",
      "metadata": {
        "id": "mFnqU7IlLcTU",
        "colab_type": "text"
      },
      "source": [
        "## The Dataset"
      ]
    },
    {
      "cell_type": "markdown",
      "metadata": {
        "id": "nHwSVwdULn65",
        "colab_type": "text"
      },
      "source": [
        "### Downloading the Dataset\n",
        "\n",
        "The following is a function to download the datasets and then import it as a pandas `DataFrame` object. \n",
        "\n",
        "You may need to sign in with your Google account when prompted."
      ]
    },
    {
      "cell_type": "code",
      "metadata": {
        "id": "TP9VnXWjmwGZ",
        "colab_type": "code",
        "colab": {}
      },
      "source": [
        "from pydrive.auth import GoogleAuth\n",
        "from pydrive.drive import GoogleDrive\n",
        "from google.colab import auth\n",
        "from oauth2client.client import GoogleCredentials\n",
        "\n",
        "import pandas as pd\n",
        "import io\n",
        "import json"
      ],
      "execution_count": 0,
      "outputs": []
    },
    {
      "cell_type": "code",
      "metadata": {
        "id": "4pCUwmVsOZXJ",
        "colab_type": "code",
        "colab": {}
      },
      "source": [
        "# Authenticate and create the PyDrive client.\n",
        "# This only needs to be done once per notebook.\n",
        "def download_dataset(file_id):\n",
        "  auth.authenticate_user()\n",
        "  gauth = GoogleAuth()\n",
        "  gauth.credentials = GoogleCredentials.get_application_default()\n",
        "  drive = GoogleDrive(gauth)\n",
        "\n",
        "  # Download a file based on its file ID.\n",
        "  downloaded = drive.CreateFile({'id': file_id})\n",
        "  content = downloaded.GetContentString()\n",
        "  \n",
        "  return pd.read_csv(io.StringIO(content))\n",
        "  "
      ],
      "execution_count": 0,
      "outputs": []
    },
    {
      "cell_type": "markdown",
      "metadata": {
        "id": "dLg0L0KvLuuq",
        "colab_type": "text"
      },
      "source": [
        "### Dataset Description\n",
        "\n",
        "The dataset you will be using is a subset of the Chronic Illness dataset on Kaggle: https://www.kaggle.com/flaredown/flaredown-autoimmune-symptom-tracker\n",
        "\n",
        "\n",
        "\n",
        "Flaredown is an app that helps patients of chronic autoimmune and invisible illnesses improve their symptoms by avoiding triggers and evaluating their treatments. Each day, patients track their symptom severity, treatments and doses, and any potential environmental triggers (foods, stress, allergens, etc) they encounter.\n",
        "\n",
        "**About the data**\n",
        "\n",
        "Instead of coupling symptoms to a particular illness, Flaredown asks users to create their unique set of conditions, symptoms and treatments (“**trackables**”). They can then “check-in” each day and record the severity of symptoms and conditions, the doses of treatments, and “tag” the day with any unexpected environmental factors.\n",
        "\n",
        "**Condition**: an illness or diagnosis, for example Rheumatoid Arthritis, rated on a scale of **0 (not active) to 4 (extremely active)**.\n",
        "\n",
        "**Symptom**: self-explanatory, also rated on a 0–4 scale.\n",
        "\n",
        "**Treatment**: anything a patient uses to improve their symptoms, along with an optional dose, which is a string that describes how much they took during the day. For instance “3 x 5mg”.\n",
        "\n",
        "**Tag**: a string representing an environmental factor that does not occur every day, for example “ate dairy” or “rainy day”.\n",
        "\n",
        "**Food**: food items were seeded from the publicly-available USDA food database. Users have also added many food items manually.\n",
        "\n",
        "**Weather**: weather is pulled automatically for the user's postal code from the Dark Sky API. Weather parameters include a description, precipitation intensity, humidity, pressure, and min/max temperatures for the day.\n",
        "\n",
        "If users do not see a symptom, treatment, tag, or food in our database (for instance “Abdominal Pain” as a symptom) they may add it by simply naming it. This means that the data requires some cleaning, but it is patient-centered and indicates their primary concerns.\n",
        "\n"
      ]
    },
    {
      "cell_type": "markdown",
      "metadata": {
        "id": "lTNguYeuLzf4",
        "colab_type": "text"
      },
      "source": [
        "The following is a snippet of what the original dataset looks like:"
      ]
    },
    {
      "cell_type": "code",
      "metadata": {
        "id": "hCE5lGxeOiXq",
        "colab_type": "code",
        "colab": {}
      },
      "source": [
        "sample_file_id = '1r4afwYJ3JC_8kJFMKbYea_7vnnXaFb1r'\n",
        "sample_df = download_dataset(sample_file_id)"
      ],
      "execution_count": 0,
      "outputs": []
    },
    {
      "cell_type": "code",
      "metadata": {
        "id": "9evNAEQSOjCi",
        "colab_type": "code",
        "outputId": "035e2367-4617-4e58-8346-10e66d4edd6f",
        "colab": {
          "base_uri": "https://localhost:8080/",
          "height": 355
        }
      },
      "source": [
        "sample_df.head(10)"
      ],
      "execution_count": 5,
      "outputs": [
        {
          "output_type": "execute_result",
          "data": {
            "text/html": [
              "<div>\n",
              "<style scoped>\n",
              "    .dataframe tbody tr th:only-of-type {\n",
              "        vertical-align: middle;\n",
              "    }\n",
              "\n",
              "    .dataframe tbody tr th {\n",
              "        vertical-align: top;\n",
              "    }\n",
              "\n",
              "    .dataframe thead th {\n",
              "        text-align: right;\n",
              "    }\n",
              "</style>\n",
              "<table border=\"1\" class=\"dataframe\">\n",
              "  <thead>\n",
              "    <tr style=\"text-align: right;\">\n",
              "      <th></th>\n",
              "      <th>user_id</th>\n",
              "      <th>age</th>\n",
              "      <th>sex</th>\n",
              "      <th>country</th>\n",
              "      <th>checkin_date</th>\n",
              "      <th>trackable_id</th>\n",
              "      <th>trackable_type</th>\n",
              "      <th>trackable_name</th>\n",
              "      <th>trackable_value</th>\n",
              "    </tr>\n",
              "  </thead>\n",
              "  <tbody>\n",
              "    <tr>\n",
              "      <th>0</th>\n",
              "      <td>QEVuQwEA3f/zxWRp83ISPfOlrlHpHg==</td>\n",
              "      <td>NaN</td>\n",
              "      <td>NaN</td>\n",
              "      <td>NaN</td>\n",
              "      <td>5/26/15</td>\n",
              "      <td>99</td>\n",
              "      <td>Condition</td>\n",
              "      <td>Back pain</td>\n",
              "      <td>1</td>\n",
              "    </tr>\n",
              "    <tr>\n",
              "      <th>1</th>\n",
              "      <td>QEVuQwEA3f/zxWRp83ISPfOlrlHpHg==</td>\n",
              "      <td>NaN</td>\n",
              "      <td>NaN</td>\n",
              "      <td>NaN</td>\n",
              "      <td>5/26/15</td>\n",
              "      <td>199</td>\n",
              "      <td>Condition</td>\n",
              "      <td>Chest pain</td>\n",
              "      <td>0</td>\n",
              "    </tr>\n",
              "    <tr>\n",
              "      <th>2</th>\n",
              "      <td>QEVuQwEA3f/zxWRp83ISPfOlrlHpHg==</td>\n",
              "      <td>NaN</td>\n",
              "      <td>NaN</td>\n",
              "      <td>NaN</td>\n",
              "      <td>5/26/15</td>\n",
              "      <td>582</td>\n",
              "      <td>Condition</td>\n",
              "      <td>Knee pain</td>\n",
              "      <td>1</td>\n",
              "    </tr>\n",
              "    <tr>\n",
              "      <th>3</th>\n",
              "      <td>QEVuQwEA3f/zxWRp83ISPfOlrlHpHg==</td>\n",
              "      <td>NaN</td>\n",
              "      <td>NaN</td>\n",
              "      <td>NaN</td>\n",
              "      <td>5/26/15</td>\n",
              "      <td>697</td>\n",
              "      <td>Condition</td>\n",
              "      <td>Neck pain</td>\n",
              "      <td>2</td>\n",
              "    </tr>\n",
              "    <tr>\n",
              "      <th>4</th>\n",
              "      <td>QEVuQwEA3f/zxWRp83ISPfOlrlHpHg==</td>\n",
              "      <td>NaN</td>\n",
              "      <td>NaN</td>\n",
              "      <td>NaN</td>\n",
              "      <td>5/26/15</td>\n",
              "      <td>1133</td>\n",
              "      <td>Condition</td>\n",
              "      <td>Rib pain</td>\n",
              "      <td>1</td>\n",
              "    </tr>\n",
              "    <tr>\n",
              "      <th>5</th>\n",
              "      <td>QEVuQwEA3f/zxWRp83ISPfOlrlHpHg==</td>\n",
              "      <td>NaN</td>\n",
              "      <td>NaN</td>\n",
              "      <td>NaN</td>\n",
              "      <td>5/26/15</td>\n",
              "      <td>1134</td>\n",
              "      <td>Condition</td>\n",
              "      <td>Shoulder pain</td>\n",
              "      <td>1</td>\n",
              "    </tr>\n",
              "    <tr>\n",
              "      <th>6</th>\n",
              "      <td>QEVuQwEA3f/zxWRp83ISPfOlrlHpHg==</td>\n",
              "      <td>NaN</td>\n",
              "      <td>NaN</td>\n",
              "      <td>NaN</td>\n",
              "      <td>5/26/15</td>\n",
              "      <td>1135</td>\n",
              "      <td>Condition</td>\n",
              "      <td>Ankle Pain</td>\n",
              "      <td>3</td>\n",
              "    </tr>\n",
              "    <tr>\n",
              "      <th>7</th>\n",
              "      <td>QEVuQwEA3f/zxWRp83ISPfOlrlHpHg==</td>\n",
              "      <td>NaN</td>\n",
              "      <td>NaN</td>\n",
              "      <td>NaN</td>\n",
              "      <td>5/26/15</td>\n",
              "      <td>1136</td>\n",
              "      <td>Condition</td>\n",
              "      <td>Hip Pain</td>\n",
              "      <td>3</td>\n",
              "    </tr>\n",
              "    <tr>\n",
              "      <th>8</th>\n",
              "      <td>QEVuQwEA3f/zxWRp83ISPfOlrlHpHg==</td>\n",
              "      <td>NaN</td>\n",
              "      <td>NaN</td>\n",
              "      <td>NaN</td>\n",
              "      <td>5/26/15</td>\n",
              "      <td>1137</td>\n",
              "      <td>Condition</td>\n",
              "      <td>Stomach Pain</td>\n",
              "      <td>0</td>\n",
              "    </tr>\n",
              "    <tr>\n",
              "      <th>9</th>\n",
              "      <td>QEVuQwEA3f/zxWRp83ISPfOlrlHpHg==</td>\n",
              "      <td>NaN</td>\n",
              "      <td>NaN</td>\n",
              "      <td>NaN</td>\n",
              "      <td>5/26/15</td>\n",
              "      <td>1138</td>\n",
              "      <td>Condition</td>\n",
              "      <td>Face Pain</td>\n",
              "      <td>1</td>\n",
              "    </tr>\n",
              "  </tbody>\n",
              "</table>\n",
              "</div>"
            ],
            "text/plain": [
              "                            user_id  age  ...  trackable_name  trackable_value\n",
              "0  QEVuQwEA3f/zxWRp83ISPfOlrlHpHg==  NaN  ...       Back pain                1\n",
              "1  QEVuQwEA3f/zxWRp83ISPfOlrlHpHg==  NaN  ...      Chest pain                0\n",
              "2  QEVuQwEA3f/zxWRp83ISPfOlrlHpHg==  NaN  ...       Knee pain                1\n",
              "3  QEVuQwEA3f/zxWRp83ISPfOlrlHpHg==  NaN  ...       Neck pain                2\n",
              "4  QEVuQwEA3f/zxWRp83ISPfOlrlHpHg==  NaN  ...        Rib pain                1\n",
              "5  QEVuQwEA3f/zxWRp83ISPfOlrlHpHg==  NaN  ...   Shoulder pain                1\n",
              "6  QEVuQwEA3f/zxWRp83ISPfOlrlHpHg==  NaN  ...      Ankle Pain                3\n",
              "7  QEVuQwEA3f/zxWRp83ISPfOlrlHpHg==  NaN  ...        Hip Pain                3\n",
              "8  QEVuQwEA3f/zxWRp83ISPfOlrlHpHg==  NaN  ...    Stomach Pain                0\n",
              "9  QEVuQwEA3f/zxWRp83ISPfOlrlHpHg==  NaN  ...       Face Pain                1\n",
              "\n",
              "[10 rows x 9 columns]"
            ]
          },
          "metadata": {
            "tags": []
          },
          "execution_count": 5
        }
      ]
    },
    {
      "cell_type": "markdown",
      "metadata": {
        "id": "fenUkg-yL3d-",
        "colab_type": "text"
      },
      "source": [
        "The dataset we provided is a subset of the original dataset, and we grouped all the `trackable_type`, `trackable_name`, and `trackable_value` of a patient/user within a `checkin_date` into one JSON array. \n",
        "\n",
        "For example: those 10 rows in the `DataFrame` above belong to the same user within the same `checkin_date`, so the trackable columns are aggregated into a JSON array as following:"
      ]
    },
    {
      "cell_type": "code",
      "metadata": {
        "id": "PxXqicdzJ9d-",
        "colab_type": "code",
        "outputId": "3ceb4fef-df96-4c94-96a9-ba86ccf5e4d0",
        "colab": {
          "base_uri": "https://localhost:8080/",
          "height": 55
        }
      },
      "source": [
        "sample_df.head(10)[['trackable_type', 'trackable_name', 'trackable_value']].to_json(orient='records')"
      ],
      "execution_count": 6,
      "outputs": [
        {
          "output_type": "execute_result",
          "data": {
            "text/plain": [
              "'[{\"trackable_type\":\"Condition\",\"trackable_name\":\"Back pain\",\"trackable_value\":1},{\"trackable_type\":\"Condition\",\"trackable_name\":\"Chest pain\",\"trackable_value\":0},{\"trackable_type\":\"Condition\",\"trackable_name\":\"Knee pain\",\"trackable_value\":1},{\"trackable_type\":\"Condition\",\"trackable_name\":\"Neck pain\",\"trackable_value\":2},{\"trackable_type\":\"Condition\",\"trackable_name\":\"Rib pain\",\"trackable_value\":1},{\"trackable_type\":\"Condition\",\"trackable_name\":\"Shoulder pain\",\"trackable_value\":1},{\"trackable_type\":\"Condition\",\"trackable_name\":\"Ankle Pain\",\"trackable_value\":3},{\"trackable_type\":\"Condition\",\"trackable_name\":\"Hip Pain\",\"trackable_value\":3},{\"trackable_type\":\"Condition\",\"trackable_name\":\"Stomach Pain\",\"trackable_value\":0},{\"trackable_type\":\"Condition\",\"trackable_name\":\"Face Pain\",\"trackable_value\":1}]'"
            ]
          },
          "metadata": {
            "tags": []
          },
          "execution_count": 6
        }
      ]
    },
    {
      "cell_type": "markdown",
      "metadata": {
        "id": "CoYDd0rOL7C_",
        "colab_type": "text"
      },
      "source": [
        "For this challenge, we want to compare the `trackable_value`, i.e. severity, of the condition of a user between two closest recorded dates in the dataset. (Please run the following code to download the training dataset.)"
      ]
    },
    {
      "cell_type": "code",
      "metadata": {
        "id": "Js4i1JUQJ9uC",
        "colab_type": "code",
        "colab": {}
      },
      "source": [
        "train_file_id = '1hDM1VfaZ7o1moBN1IlcaFExfoE2Jeqgg'\n",
        "dataframe = download_dataset(train_file_id)\n",
        "dataframe['entries_from'] = dataframe.entries_from.apply(json.loads)\n",
        "dataframe['entries_to'] = dataframe.entries_to.apply(json.loads)"
      ],
      "execution_count": 0,
      "outputs": []
    },
    {
      "cell_type": "code",
      "metadata": {
        "id": "i4gHY150J9xi",
        "colab_type": "code",
        "outputId": "7bf11b18-9869-4377-b7ef-3e0bf10efd2e",
        "colab": {
          "base_uri": "https://localhost:8080/",
          "height": 375
        }
      },
      "source": [
        "dataframe.head()"
      ],
      "execution_count": 8,
      "outputs": [
        {
          "output_type": "execute_result",
          "data": {
            "text/html": [
              "<div>\n",
              "<style scoped>\n",
              "    .dataframe tbody tr th:only-of-type {\n",
              "        vertical-align: middle;\n",
              "    }\n",
              "\n",
              "    .dataframe tbody tr th {\n",
              "        vertical-align: top;\n",
              "    }\n",
              "\n",
              "    .dataframe thead th {\n",
              "        text-align: right;\n",
              "    }\n",
              "</style>\n",
              "<table border=\"1\" class=\"dataframe\">\n",
              "  <thead>\n",
              "    <tr style=\"text-align: right;\">\n",
              "      <th></th>\n",
              "      <th>user_id</th>\n",
              "      <th>checkin_date_from</th>\n",
              "      <th>checkin_date_to</th>\n",
              "      <th>status</th>\n",
              "      <th>value_from</th>\n",
              "      <th>value_to</th>\n",
              "      <th>entries_from</th>\n",
              "      <th>entries_to</th>\n",
              "      <th>age</th>\n",
              "      <th>sex</th>\n",
              "      <th>country</th>\n",
              "    </tr>\n",
              "  </thead>\n",
              "  <tbody>\n",
              "    <tr>\n",
              "      <th>0</th>\n",
              "      <td>2939</td>\n",
              "      <td>10/29/17</td>\n",
              "      <td>11/1/17</td>\n",
              "      <td>WORSENED</td>\n",
              "      <td>3</td>\n",
              "      <td>4</td>\n",
              "      <td>[{'trackable_type': 'Symptom', 'trackable_name...</td>\n",
              "      <td>[{'trackable_type': 'Symptom', 'trackable_name...</td>\n",
              "      <td>37</td>\n",
              "      <td>female</td>\n",
              "      <td>CA</td>\n",
              "    </tr>\n",
              "    <tr>\n",
              "      <th>1</th>\n",
              "      <td>5525</td>\n",
              "      <td>9/24/17</td>\n",
              "      <td>9/26/17</td>\n",
              "      <td>IMPROVED</td>\n",
              "      <td>4</td>\n",
              "      <td>3</td>\n",
              "      <td>[{'trackable_type': 'Condition', 'trackable_na...</td>\n",
              "      <td>[{'trackable_type': 'Condition', 'trackable_na...</td>\n",
              "      <td>24</td>\n",
              "      <td>female</td>\n",
              "      <td>GB</td>\n",
              "    </tr>\n",
              "    <tr>\n",
              "      <th>2</th>\n",
              "      <td>2586</td>\n",
              "      <td>6/22/17</td>\n",
              "      <td>6/23/17</td>\n",
              "      <td>SAME</td>\n",
              "      <td>3</td>\n",
              "      <td>3</td>\n",
              "      <td>[{'trackable_type': 'Condition', 'trackable_na...</td>\n",
              "      <td>[{'trackable_type': 'Condition', 'trackable_na...</td>\n",
              "      <td>43</td>\n",
              "      <td>female</td>\n",
              "      <td>US</td>\n",
              "    </tr>\n",
              "    <tr>\n",
              "      <th>3</th>\n",
              "      <td>312</td>\n",
              "      <td>7/29/17</td>\n",
              "      <td>7/30/17</td>\n",
              "      <td>SAME</td>\n",
              "      <td>2</td>\n",
              "      <td>2</td>\n",
              "      <td>[{'trackable_type': 'Condition', 'trackable_na...</td>\n",
              "      <td>[{'trackable_type': 'Condition', 'trackable_na...</td>\n",
              "      <td>23</td>\n",
              "      <td>female</td>\n",
              "      <td>AU</td>\n",
              "    </tr>\n",
              "    <tr>\n",
              "      <th>4</th>\n",
              "      <td>3064</td>\n",
              "      <td>5/30/15</td>\n",
              "      <td>5/31/15</td>\n",
              "      <td>WORSENED</td>\n",
              "      <td>1</td>\n",
              "      <td>2</td>\n",
              "      <td>[{'trackable_type': 'Condition', 'trackable_na...</td>\n",
              "      <td>[{'trackable_type': 'Condition', 'trackable_na...</td>\n",
              "      <td>44</td>\n",
              "      <td>male</td>\n",
              "      <td>FR</td>\n",
              "    </tr>\n",
              "  </tbody>\n",
              "</table>\n",
              "</div>"
            ],
            "text/plain": [
              "   user_id checkin_date_from checkin_date_to  ... age     sex  country\n",
              "0     2939          10/29/17         11/1/17  ...  37  female       CA\n",
              "1     5525           9/24/17         9/26/17  ...  24  female       GB\n",
              "2     2586           6/22/17         6/23/17  ...  43  female       US\n",
              "3      312           7/29/17         7/30/17  ...  23  female       AU\n",
              "4     3064           5/30/15         5/31/15  ...  44    male       FR\n",
              "\n",
              "[5 rows x 11 columns]"
            ]
          },
          "metadata": {
            "tags": []
          },
          "execution_count": 8
        }
      ]
    },
    {
      "cell_type": "markdown",
      "metadata": {
        "id": "wBbT7sTcL_tJ",
        "colab_type": "text"
      },
      "source": [
        "  Columns with the `from` suffix contain the records from the same earlier date, and the ones with the `to` suffix have the records from a later date. `entries_from` and `entries_to` columns are the aggregated JSON arrays mentioned above. \n",
        "  \n",
        "  Take the first row as example, the JSON array in the `entries_from` column contains all the `trackable` entries on the date (10/29/17) in `checkin_data_from` column, whereas that in the `entries_to` column contains all the `trackable` entries on the date (11/1/17) specified in the `checkin_data_to` column. \n",
        "  \n",
        "  The `status` column has three values: `IMPROVED`, `WORSENED`, and `SAME`. If the value in `value_from` is greater than that in `value_to`, that means the condition of a user has worsened between those two check-in dates; if `value_from` is less than `value_to` that means the condition has improved. If those two values are the same, that means the condition has remained the same. \n",
        "  \n",
        "  We ask you to build a model to predict the `status` of a patient's condition, whether it's `WORSERNED`, `IMPROVED`, or `SAME`."
      ]
    },
    {
      "cell_type": "markdown",
      "metadata": {
        "id": "Az7asN1gMEji",
        "colab_type": "text"
      },
      "source": [
        "### Hints\n",
        "\n",
        "We strongly encourage you to look at the values in the `entries_from` and `entries_to` columns and extract useful features from there. And please note that `trackable_value` can be free text. "
      ]
    },
    {
      "cell_type": "markdown",
      "metadata": {
        "id": "cUHEnMx4MEmP",
        "colab_type": "text"
      },
      "source": [
        "## Your Solution \n",
        "\n",
        "The following is a working code sample. You are free to use the following code as part of your solution."
      ]
    },
    {
      "cell_type": "markdown",
      "metadata": {
        "id": "0Ir2hthXMEpF",
        "colab_type": "text"
      },
      "source": [
        "### Import Libraries"
      ]
    },
    {
      "cell_type": "code",
      "metadata": {
        "id": "7s5q5nugOjFj",
        "colab_type": "code",
        "colab": {}
      },
      "source": [
        "from sklearn.base import TransformerMixin\n",
        "from sklearn.pipeline import FeatureUnion, Pipeline\n",
        "from sklearn.naive_bayes import BernoulliNB\n",
        "from sklearn.model_selection import train_test_split\n",
        "from sklearn.metrics import accuracy_score\n",
        "\n",
        "import numpy as np\n",
        "import matplotlib.pyplot as plt\n",
        "import seaborn as sns\n",
        "%matplotlib inline\n",
        "\n",
        "import numpy as np    \n",
        "from sklearn.linear_model import LogisticRegression\n",
        "from sklearn import preprocessing\n",
        "\n",
        "from sklearn.naive_bayes import BernoulliNB\n",
        "from sklearn.model_selection import train_test_split\n",
        "from sklearn.neighbors import KNeighborsClassifier as knn\n",
        "from sklearn import svm\n",
        "from sklearn import metrics"
      ],
      "execution_count": 0,
      "outputs": []
    },
    {
      "cell_type": "markdown",
      "metadata": {
        "id": "tBGwqgHTMXWI",
        "colab_type": "text"
      },
      "source": [
        "### Generate Predictions\n",
        "\n"
      ]
    },
    {
      "cell_type": "code",
      "metadata": {
        "id": "MqSN771cOjIf",
        "colab_type": "code",
        "colab": {}
      },
      "source": [
        "# download the dataset\n",
        "train_file_id = '1hDM1VfaZ7o1moBN1IlcaFExfoE2Jeqgg'\n",
        "dataframe = download_dataset(train_file_id)\n",
        "dataframe['entries_from'] = dataframe.entries_from.apply(json.loads)\n",
        "dataframe['entries_to'] = dataframe.entries_to.apply(json.loads)"
      ],
      "execution_count": 0,
      "outputs": []
    },
    {
      "cell_type": "code",
      "metadata": {
        "id": "McbhKgR7OjLU",
        "colab_type": "code",
        "colab": {}
      },
      "source": [
        "example_df = dataframe.copy()"
      ],
      "execution_count": 0,
      "outputs": []
    },
    {
      "cell_type": "code",
      "metadata": {
        "id": "OLNbnn15OjOP",
        "colab_type": "code",
        "colab": {}
      },
      "source": [
        "def encode_labels(label):\n",
        "    if label == 'IMPROVED':\n",
        "        return 0\n",
        "    elif label == 'WORSENED':\n",
        "        return 1\n",
        "    else:\n",
        "        return 2"
      ],
      "execution_count": 0,
      "outputs": []
    },
    {
      "cell_type": "code",
      "metadata": {
        "id": "c0vxBbjsOjQ8",
        "colab_type": "code",
        "colab": {}
      },
      "source": [
        "class ItemSelector(TransformerMixin):\n",
        "    \"\"\"This class allows you to select a subset of a dataframe based on a given column name.\n",
        "    If as_feature is False, you will need to pass the data to another Transformer to convert it into features; \n",
        "    otherwise, scikit-learn will throw dimension related exception.\n",
        "    If as_feature is True, the column from that dataframe you just pass in will be use as feature directly. \n",
        "    For example, if 'key' is set to 'age' from the dataset, the values from the 'age' column will be used as features\n",
        "    without the need for another Transformer.\n",
        "    \"\"\"\n",
        "    def __init__(self, key, as_feature=False):\n",
        "        self.key = key\n",
        "        self.as_feature = as_feature\n",
        "\n",
        "    def fit(self, x, y=None):\n",
        "        return self\n",
        "\n",
        "    def transform(self, dataframe):\n",
        "        if self.as_feature:\n",
        "            return dataframe[[self.key]]\n",
        "        return dataframe[self.key]"
      ],
      "execution_count": 0,
      "outputs": []
    },
    {
      "cell_type": "code",
      "metadata": {
        "id": "PDoHvjztOjTy",
        "colab_type": "code",
        "colab": {}
      },
      "source": [
        "dataframe['y'] = example_df.status.apply(encode_labels)"
      ],
      "execution_count": 0,
      "outputs": []
    },
    {
      "cell_type": "code",
      "metadata": {
        "id": "dlcPToXxOjWo",
        "colab_type": "code",
        "colab": {}
      },
      "source": [
        "X_train, X_test, y_train, y_test = train_test_split(dataframe, dataframe['y'], train_size=0.8, random_state=23123)"
      ],
      "execution_count": 0,
      "outputs": []
    },
    {
      "cell_type": "code",
      "metadata": {
        "id": "BSehMj10OjZT",
        "colab_type": "code",
        "colab": {}
      },
      "source": [
        "pipeline = Pipeline([\n",
        "        \n",
        "    ('union', FeatureUnion(\n",
        "        transformer_list=[\n",
        "        \n",
        "            ('age', Pipeline([\n",
        "                ('selector', ItemSelector('age', as_feature=True))\n",
        "            ])),\n",
        "            \n",
        "            \n",
        "        ],\n",
        "\n",
        "    )),\n",
        "\n",
        "    # Use a naive bayes classifier on the combined features\n",
        "    ('clf', BernoulliNB()),\n",
        "])\n",
        "\n",
        "\n",
        "pipeline.fit(X_train, y_train)\n",
        "y_pred = pipeline.predict(X_test)"
      ],
      "execution_count": 0,
      "outputs": []
    },
    {
      "cell_type": "code",
      "metadata": {
        "id": "iwzXkfkDOjcr",
        "colab_type": "code",
        "outputId": "78b67b13-2af4-4818-e527-b7343fb98196",
        "colab": {
          "base_uri": "https://localhost:8080/",
          "height": 35
        }
      },
      "source": [
        "print(\"the accuracy of the model is \", accuracy_score(y_test, y_pred))"
      ],
      "execution_count": 17,
      "outputs": [
        {
          "output_type": "stream",
          "text": [
            "the accuracy of the model is  0.4935822637106184\n"
          ],
          "name": "stdout"
        }
      ]
    },
    {
      "cell_type": "code",
      "metadata": {
        "id": "gCE0dqqC3ULJ",
        "colab_type": "code",
        "colab": {}
      },
      "source": [
        "# Please write your code here, and create as many code cells as needed."
      ],
      "execution_count": 0,
      "outputs": []
    },
    {
      "cell_type": "markdown",
      "metadata": {
        "id": "Jex9L5S6rsDj",
        "colab_type": "text"
      },
      "source": [
        "### Exploratory Data Analysis\n",
        "\n",
        "Check for null values in the dataframe. Also, look out for the data types of each feature in the data frame. "
      ]
    },
    {
      "cell_type": "code",
      "metadata": {
        "id": "CTTvckQ__8bz",
        "colab_type": "code",
        "colab": {}
      },
      "source": [
        "df = dataframe"
      ],
      "execution_count": 0,
      "outputs": []
    },
    {
      "cell_type": "code",
      "metadata": {
        "id": "j1O_BDBzKp0l",
        "colab_type": "code",
        "colab": {
          "base_uri": "https://localhost:8080/",
          "height": 225
        },
        "outputId": "4a19a701-9a86-4c3d-9b75-ce00f5cfd8e4"
      },
      "source": [
        "df.isna().sum()"
      ],
      "execution_count": 16,
      "outputs": [
        {
          "output_type": "execute_result",
          "data": {
            "text/plain": [
              "user_id              0\n",
              "checkin_date_from    0\n",
              "checkin_date_to      0\n",
              "status               0\n",
              "value_from           0\n",
              "value_to             0\n",
              "entries_from         0\n",
              "entries_to           0\n",
              "age                  0\n",
              "sex                  0\n",
              "country              0\n",
              "dtype: int64"
            ]
          },
          "metadata": {
            "tags": []
          },
          "execution_count": 16
        }
      ]
    },
    {
      "cell_type": "code",
      "metadata": {
        "id": "axy1Xnh4KP40",
        "colab_type": "code",
        "colab": {}
      },
      "source": [
        "df = df.drop(columns = ['y'])"
      ],
      "execution_count": 0,
      "outputs": []
    },
    {
      "cell_type": "code",
      "metadata": {
        "id": "wKJNKabGMiJu",
        "colab_type": "code",
        "colab": {
          "base_uri": "https://localhost:8080/",
          "height": 225
        },
        "outputId": "ab589b8c-f94e-4274-9dcf-d5b5f7bdf175"
      },
      "source": [
        "# data type of features \n",
        "df.dtypes"
      ],
      "execution_count": 22,
      "outputs": [
        {
          "output_type": "execute_result",
          "data": {
            "text/plain": [
              "user_id               int64\n",
              "checkin_date_from    object\n",
              "checkin_date_to      object\n",
              "status               object\n",
              "value_from            int64\n",
              "value_to              int64\n",
              "entries_from         object\n",
              "entries_to           object\n",
              "age                   int64\n",
              "sex                  object\n",
              "country              object\n",
              "dtype: object"
            ]
          },
          "metadata": {
            "tags": []
          },
          "execution_count": 22
        }
      ]
    },
    {
      "cell_type": "markdown",
      "metadata": {
        "id": "HONJdNn537U7",
        "colab_type": "text"
      },
      "source": [
        "#### We observe that there are no null values in the given dataframe and the data types of feature varaibles are a mix of object type and integer.\n",
        "\n",
        "Visualize the frequency distribution of data with respect to `Status`, `Age`, `Gender` and `Country` variables of the given data frame.\n"
      ]
    },
    {
      "cell_type": "code",
      "metadata": {
        "id": "VKeotllRMiML",
        "colab_type": "code",
        "colab": {
          "base_uri": "https://localhost:8080/",
          "height": 385
        },
        "outputId": "6386a8e4-a71d-429c-a584-e5fb1c564c81"
      },
      "source": [
        "# frequency distribution of target variable : STATUS\n",
        "\n",
        "plt.figure(figsize=(10,5))\n",
        "df['status'].value_counts().plot(kind='bar')"
      ],
      "execution_count": 23,
      "outputs": [
        {
          "output_type": "execute_result",
          "data": {
            "text/plain": [
              "<matplotlib.axes._subplots.AxesSubplot at 0x7f12622e5160>"
            ]
          },
          "metadata": {
            "tags": []
          },
          "execution_count": 23
        },
        {
          "output_type": "display_data",
          "data": {
            "image/png": "[encoded data removed]",
            "text/plain": [
              "<Figure size 720x360 with 1 Axes>"
            ]
          },
          "metadata": {
            "tags": []
          }
        }
      ]
    },
    {
      "cell_type": "markdown",
      "metadata": {
        "id": "ir6-2Cgn4LHz",
        "colab_type": "text"
      },
      "source": [
        "\n",
        "As we visualize the distribution of data with respect to `Status` we observe that, the patients whose condition or symptom hasn't worsened or improved and remained in the same state is high.\n",
        "\n",
        "Also, visualizing the distribution of the data with respect to age of the patients. It is visible that the age group of 20-35 are likely to get this disease `fibromyalgia`. Outlier could be age 43 abd 45 which has a hike in the bar plot."
      ]
    },
    {
      "cell_type": "code",
      "metadata": {
        "id": "lPDNKwsiMiPe",
        "colab_type": "code",
        "colab": {
          "base_uri": "https://localhost:8080/",
          "height": 355
        },
        "outputId": "81fbbd0b-2902-4816-90e6-02b19be2f235"
      },
      "source": [
        "# Imbalanced classification\n",
        "plt.figure(figsize=(10,5))\n",
        "plt.title(\"bar plot of age\")\n",
        "df['age'].value_counts().plot(kind='bar')"
      ],
      "execution_count": 24,
      "outputs": [
        {
          "output_type": "execute_result",
          "data": {
            "text/plain": [
              "<matplotlib.axes._subplots.AxesSubplot at 0x7f12622e5438>"
            ]
          },
          "metadata": {
            "tags": []
          },
          "execution_count": 24
        },
        {
          "output_type": "display_data",
          "data": {
            "image/png": "[encoded data removed]",
            "text/plain": [
              "<Figure size 720x360 with 1 Axes>"
            ]
          },
          "metadata": {
            "tags": []
          }
        }
      ]
    },
    {
      "cell_type": "code",
      "metadata": {
        "id": "SK5oziOKsdT1",
        "colab_type": "code",
        "colab": {
          "base_uri": "https://localhost:8080/",
          "height": 35
        },
        "outputId": "32789203-01d4-4fd3-a502-b5d2fd2a45ef"
      },
      "source": [
        "# minimum and maximum age in the dataframe\n",
        "df['age'].min(),example_df['age'].max()"
      ],
      "execution_count": 25,
      "outputs": [
        {
          "output_type": "execute_result",
          "data": {
            "text/plain": [
              "(-1, 79)"
            ]
          },
          "metadata": {
            "tags": []
          },
          "execution_count": 25
        }
      ]
    },
    {
      "cell_type": "markdown",
      "metadata": {
        "id": "2ggZfNyg7JpI",
        "colab_type": "text"
      },
      "source": [
        "There is negative value in age column which is not practically possible so replacing them by NaN."
      ]
    },
    {
      "cell_type": "code",
      "metadata": {
        "id": "thJERHq97kkd",
        "colab_type": "code",
        "colab": {}
      },
      "source": [
        "# ALl negative age is relaced by NaN\n",
        "df = df.assign(age = lambda x: x.age.where(x.age.ge(0)))    "
      ],
      "execution_count": 0,
      "outputs": []
    },
    {
      "cell_type": "markdown",
      "metadata": {
        "id": "hdE7ZHzX8YW4",
        "colab_type": "text"
      },
      "source": [
        "Data visualization with respect to `gender` and `country` is given below."
      ]
    },
    {
      "cell_type": "code",
      "metadata": {
        "id": "DZpiNaxPsdQK",
        "colab_type": "code",
        "colab": {
          "base_uri": "https://localhost:8080/",
          "height": 399
        },
        "outputId": "5cc986d1-6fd3-4b6e-8bb2-fdc3e4406896"
      },
      "source": [
        "# 4 categories in gender and population of females are comparitively higher than rest\n",
        "plt.figure(figsize=(10,5))\n",
        "df['sex'].value_counts().plot(kind='bar')\n",
        "plt.title(\"bar plot of gender\")"
      ],
      "execution_count": 27,
      "outputs": [
        {
          "output_type": "execute_result",
          "data": {
            "text/plain": [
              "Text(0.5, 1.0, 'bar plot of gender')"
            ]
          },
          "metadata": {
            "tags": []
          },
          "execution_count": 27
        },
        {
          "output_type": "display_data",
          "data": {
            "image/png": "[encoded data removed]",
            "text/plain": [
              "<Figure size 720x360 with 1 Axes>"
            ]
          },
          "metadata": {
            "tags": []
          }
        }
      ]
    },
    {
      "cell_type": "code",
      "metadata": {
        "id": "YSy0gFQusdNr",
        "colab_type": "code",
        "colab": {
          "base_uri": "https://localhost:8080/",
          "height": 343
        },
        "outputId": "b01bd578-653d-49be-f243-85d518a5c2e6"
      },
      "source": [
        "# top 4 countries from where we have large number of people are: US, GB, CA, AU\n",
        "plt.figure(figsize=(10,5))\n",
        "df['country'].value_counts().plot(kind='bar')"
      ],
      "execution_count": 28,
      "outputs": [
        {
          "output_type": "execute_result",
          "data": {
            "text/plain": [
              "<matplotlib.axes._subplots.AxesSubplot at 0x7f1261c20ef0>"
            ]
          },
          "metadata": {
            "tags": []
          },
          "execution_count": 28
        },
        {
          "output_type": "display_data",
          "data": {
            "image/png": "[encoded data removed]",
            "text/plain": [
              "<Figure size 720x360 with 1 Axes>"
            ]
          },
          "metadata": {
            "tags": []
          }
        }
      ]
    },
    {
      "cell_type": "markdown",
      "metadata": {
        "id": "x-hxw8uvs5Tq",
        "colab_type": "text"
      },
      "source": [
        "#### Gender wise distribution of age\n",
        "\n",
        "The distribution of age for female and male is visualized below and it is visible that women between the age 20 and 35 are vulnerable to the disease than men. Also, significant amount of \"Other\" category people have also been exposed to this disease who also fall under the same age group."
      ]
    },
    {
      "cell_type": "code",
      "metadata": {
        "id": "vbbx4clysdKc",
        "colab_type": "code",
        "colab": {
          "base_uri": "https://localhost:8080/",
          "height": 365
        },
        "outputId": "4095234e-3b96-42e8-b342-3d4b008057ba"
      },
      "source": [
        "#age distribution according to genderwise\n",
        "plt.figure(figsize=(12,5))\n",
        "df_ = df[df['sex']=='female'].reset_index(drop=True)\n",
        "plt.title(\"female\")\n",
        "df_['age'].value_counts().plot(kind='bar')"
      ],
      "execution_count": 29,
      "outputs": [
        {
          "output_type": "execute_result",
          "data": {
            "text/plain": [
              "<matplotlib.axes._subplots.AxesSubplot at 0x7f125f9962b0>"
            ]
          },
          "metadata": {
            "tags": []
          },
          "execution_count": 29
        },
        {
          "output_type": "display_data",
          "data": {
            "image/png": "[encoded data removed]",
            "text/plain": [
              "<Figure size 864x360 with 1 Axes>"
            ]
          },
          "metadata": {
            "tags": []
          }
        }
      ]
    },
    {
      "cell_type": "code",
      "metadata": {
        "id": "crBchkUSsdHi",
        "colab_type": "code",
        "colab": {
          "base_uri": "https://localhost:8080/",
          "height": 365
        },
        "outputId": "616b4dab-09d2-437e-d1c7-8cb44c09bd5e"
      },
      "source": [
        "#age distribution according to genderwise\n",
        "plt.figure(figsize=(12,5))\n",
        "df_ = df[df['sex']=='male'].reset_index(drop=True)\n",
        "plt.title(\"male\")\n",
        "df_['age'].value_counts().plot(kind='bar')"
      ],
      "execution_count": 30,
      "outputs": [
        {
          "output_type": "execute_result",
          "data": {
            "text/plain": [
              "<matplotlib.axes._subplots.AxesSubplot at 0x7f12707a6fd0>"
            ]
          },
          "metadata": {
            "tags": []
          },
          "execution_count": 30
        },
        {
          "output_type": "display_data",
          "data": {
            "image/png": "[encoded data removed]",
            "text/plain": [
              "<Figure size 864x360 with 1 Axes>"
            ]
          },
          "metadata": {
            "tags": []
          }
        }
      ]
    },
    {
      "cell_type": "code",
      "metadata": {
        "id": "7CzwU1gKsdEm",
        "colab_type": "code",
        "colab": {
          "base_uri": "https://localhost:8080/",
          "height": 365
        },
        "outputId": "fca5166f-f094-4d88-c43c-8a316c12db00"
      },
      "source": [
        "#age distribution according to genderwise\n",
        "plt.figure(figsize=(12,5))\n",
        "df_ = df[df['sex']=='doesnt_say'].reset_index(drop=True)\n",
        "plt.title(\"doesnt_say\")\n",
        "df_['age'].value_counts().plot(kind='bar')"
      ],
      "execution_count": 31,
      "outputs": [
        {
          "output_type": "execute_result",
          "data": {
            "text/plain": [
              "<matplotlib.axes._subplots.AxesSubplot at 0x7f1270531a90>"
            ]
          },
          "metadata": {
            "tags": []
          },
          "execution_count": 31
        },
        {
          "output_type": "display_data",
          "data": {
            "image/png": "[encoded data removed]",
            "text/plain": [
              "<Figure size 864x360 with 1 Axes>"
            ]
          },
          "metadata": {
            "tags": []
          }
        }
      ]
    },
    {
      "cell_type": "code",
      "metadata": {
        "id": "XqnIgcLasdCA",
        "colab_type": "code",
        "colab": {
          "base_uri": "https://localhost:8080/",
          "height": 365
        },
        "outputId": "1c245c7b-b6a6-4c3a-b9f0-af7099d0a4f4"
      },
      "source": [
        "#age distribution according to genderwise\n",
        "plt.figure(figsize=(12,5))\n",
        "df_ = df[df['sex']=='other'].reset_index(drop=True)\n",
        "plt.title(\"other\")\n",
        "df_['age'].value_counts().plot(kind='bar')"
      ],
      "execution_count": 32,
      "outputs": [
        {
          "output_type": "execute_result",
          "data": {
            "text/plain": [
              "<matplotlib.axes._subplots.AxesSubplot at 0x7f125f682b38>"
            ]
          },
          "metadata": {
            "tags": []
          },
          "execution_count": 32
        },
        {
          "output_type": "display_data",
          "data": {
            "image/png": "[encoded data removed]",
            "text/plain": [
              "<Figure size 864x360 with 1 Axes>"
            ]
          },
          "metadata": {
            "tags": []
          }
        }
      ]
    },
    {
      "cell_type": "markdown",
      "metadata": {
        "id": "FhV8jeY3tQpP",
        "colab_type": "text"
      },
      "source": [
        "#### Age distribution according to `status` of the disease. \n",
        "As a conclusion, age is not looking as a strong factor for deciding status of the person (patient). It's strange but people at the age of 20-35 are in all three status categories. \n"
      ]
    },
    {
      "cell_type": "code",
      "metadata": {
        "id": "L3cnMEXksc-9",
        "colab_type": "code",
        "colab": {
          "base_uri": "https://localhost:8080/",
          "height": 365
        },
        "outputId": "73a7241c-995d-4e26-8164-03f09aa180b2"
      },
      "source": [
        "plt.figure(figsize=(12,5))\n",
        "plt.title('other')\n",
        "plt.title(\"status:WORSENED\")\n",
        "df_ = df[df['status']=='WORSENED'].reset_index(drop=True)\n",
        "df_['age'].value_counts().plot(kind='bar')"
      ],
      "execution_count": 33,
      "outputs": [
        {
          "output_type": "execute_result",
          "data": {
            "text/plain": [
              "<matplotlib.axes._subplots.AxesSubplot at 0x7f125f5cf5c0>"
            ]
          },
          "metadata": {
            "tags": []
          },
          "execution_count": 33
        },
        {
          "output_type": "display_data",
          "data": {
            "image/png": "[encoded data removed]",
            "text/plain": [
              "<Figure size 864x360 with 1 Axes>"
            ]
          },
          "metadata": {
            "tags": []
          }
        }
      ]
    },
    {
      "cell_type": "code",
      "metadata": {
        "id": "iaf92ByCsc71",
        "colab_type": "code",
        "colab": {
          "base_uri": "https://localhost:8080/",
          "height": 365
        },
        "outputId": "f280c890-a79c-4a4c-93da-d4aa24abdfc0"
      },
      "source": [
        "plt.figure(figsize=(12,5))\n",
        "plt.title(\"status:SAME\")\n",
        "df_ = df[df['status']=='SAME'].reset_index(drop=True)\n",
        "df_['age'].value_counts().plot(kind='bar')"
      ],
      "execution_count": 34,
      "outputs": [
        {
          "output_type": "execute_result",
          "data": {
            "text/plain": [
              "<matplotlib.axes._subplots.AxesSubplot at 0x7f125f427b00>"
            ]
          },
          "metadata": {
            "tags": []
          },
          "execution_count": 34
        },
        {
          "output_type": "display_data",
          "data": {
            "image/png": "[encoded data removed]",
            "text/plain": [
              "<Figure size 864x360 with 1 Axes>"
            ]
          },
          "metadata": {
            "tags": []
          }
        }
      ]
    },
    {
      "cell_type": "code",
      "metadata": {
        "id": "ylueQM0Zsc42",
        "colab_type": "code",
        "colab": {
          "base_uri": "https://localhost:8080/",
          "height": 365
        },
        "outputId": "91365881-b4e8-48cf-a1d5-3305e22e0ac7"
      },
      "source": [
        "plt.figure(figsize=(12,5))\n",
        "plt.title(\"status:IMPROVED\")\n",
        "df_ = df[df['status']=='IMPROVED'].reset_index(drop=True)\n",
        "df_['age'].value_counts().plot(kind='bar')"
      ],
      "execution_count": 35,
      "outputs": [
        {
          "output_type": "execute_result",
          "data": {
            "text/plain": [
              "<matplotlib.axes._subplots.AxesSubplot at 0x7f125f3112e8>"
            ]
          },
          "metadata": {
            "tags": []
          },
          "execution_count": 35
        },
        {
          "output_type": "display_data",
          "data": {
            "image/png": "[encoded data removed]",
            "text/plain": [
              "<Figure size 864x360 with 1 Axes>"
            ]
          },
          "metadata": {
            "tags": []
          }
        }
      ]
    },
    {
      "cell_type": "markdown",
      "metadata": {
        "id": "3HltmDLGtmj6",
        "colab_type": "text"
      },
      "source": [
        "### Feature-Engineering\n",
        "### Making - supervised training dataset\n",
        "\n",
        "The dataframe given has json content in entries_from and entries_to column. This can be cleaned and extracted into many formats that can be used for further analysis and modelling. One such format is explored below. The `trackable_type`, `trackable_name` are extracted from the json and displayed as seperate columns with corresponding `trackable_value` \"from\" and \"to\".\n",
        "\n",
        "The `new_df(df)` function does the above mentioned job.\n",
        "\n",
        "There are various other possible data munging that can be done for this particulate given dataframe to make it even more meaningful. We will discuss this towards the end."
      ]
    },
    {
      "cell_type": "code",
      "metadata": {
        "id": "KsMnzriJwIAX",
        "colab_type": "code",
        "colab": {
          "base_uri": "https://localhost:8080/",
          "height": 375
        },
        "outputId": "1db59c5b-feb5-4bc4-d6db-35f23a295b75"
      },
      "source": [
        "df.head()"
      ],
      "execution_count": 18,
      "outputs": [
        {
          "output_type": "execute_result",
          "data": {
            "text/html": [
              "<div>\n",
              "<style scoped>\n",
              "    .dataframe tbody tr th:only-of-type {\n",
              "        vertical-align: middle;\n",
              "    }\n",
              "\n",
              "    .dataframe tbody tr th {\n",
              "        vertical-align: top;\n",
              "    }\n",
              "\n",
              "    .dataframe thead th {\n",
              "        text-align: right;\n",
              "    }\n",
              "</style>\n",
              "<table border=\"1\" class=\"dataframe\">\n",
              "  <thead>\n",
              "    <tr style=\"text-align: right;\">\n",
              "      <th></th>\n",
              "      <th>user_id</th>\n",
              "      <th>checkin_date_from</th>\n",
              "      <th>checkin_date_to</th>\n",
              "      <th>status</th>\n",
              "      <th>value_from</th>\n",
              "      <th>value_to</th>\n",
              "      <th>entries_from</th>\n",
              "      <th>entries_to</th>\n",
              "      <th>age</th>\n",
              "      <th>sex</th>\n",
              "      <th>country</th>\n",
              "    </tr>\n",
              "  </thead>\n",
              "  <tbody>\n",
              "    <tr>\n",
              "      <th>0</th>\n",
              "      <td>2939</td>\n",
              "      <td>10/29/17</td>\n",
              "      <td>11/1/17</td>\n",
              "      <td>WORSENED</td>\n",
              "      <td>3</td>\n",
              "      <td>4</td>\n",
              "      <td>[{'trackable_type': 'Symptom', 'trackable_name...</td>\n",
              "      <td>[{'trackable_type': 'Symptom', 'trackable_name...</td>\n",
              "      <td>37</td>\n",
              "      <td>female</td>\n",
              "      <td>CA</td>\n",
              "    </tr>\n",
              "    <tr>\n",
              "      <th>1</th>\n",
              "      <td>5525</td>\n",
              "      <td>9/24/17</td>\n",
              "      <td>9/26/17</td>\n",
              "      <td>IMPROVED</td>\n",
              "      <td>4</td>\n",
              "      <td>3</td>\n",
              "      <td>[{'trackable_type': 'Condition', 'trackable_na...</td>\n",
              "      <td>[{'trackable_type': 'Condition', 'trackable_na...</td>\n",
              "      <td>24</td>\n",
              "      <td>female</td>\n",
              "      <td>GB</td>\n",
              "    </tr>\n",
              "    <tr>\n",
              "      <th>2</th>\n",
              "      <td>2586</td>\n",
              "      <td>6/22/17</td>\n",
              "      <td>6/23/17</td>\n",
              "      <td>SAME</td>\n",
              "      <td>3</td>\n",
              "      <td>3</td>\n",
              "      <td>[{'trackable_type': 'Condition', 'trackable_na...</td>\n",
              "      <td>[{'trackable_type': 'Condition', 'trackable_na...</td>\n",
              "      <td>43</td>\n",
              "      <td>female</td>\n",
              "      <td>US</td>\n",
              "    </tr>\n",
              "    <tr>\n",
              "      <th>3</th>\n",
              "      <td>312</td>\n",
              "      <td>7/29/17</td>\n",
              "      <td>7/30/17</td>\n",
              "      <td>SAME</td>\n",
              "      <td>2</td>\n",
              "      <td>2</td>\n",
              "      <td>[{'trackable_type': 'Condition', 'trackable_na...</td>\n",
              "      <td>[{'trackable_type': 'Condition', 'trackable_na...</td>\n",
              "      <td>23</td>\n",
              "      <td>female</td>\n",
              "      <td>AU</td>\n",
              "    </tr>\n",
              "    <tr>\n",
              "      <th>4</th>\n",
              "      <td>3064</td>\n",
              "      <td>5/30/15</td>\n",
              "      <td>5/31/15</td>\n",
              "      <td>WORSENED</td>\n",
              "      <td>1</td>\n",
              "      <td>2</td>\n",
              "      <td>[{'trackable_type': 'Condition', 'trackable_na...</td>\n",
              "      <td>[{'trackable_type': 'Condition', 'trackable_na...</td>\n",
              "      <td>44</td>\n",
              "      <td>male</td>\n",
              "      <td>FR</td>\n",
              "    </tr>\n",
              "  </tbody>\n",
              "</table>\n",
              "</div>"
            ],
            "text/plain": [
              "   user_id checkin_date_from checkin_date_to  ... age     sex  country\n",
              "0     2939          10/29/17         11/1/17  ...  37  female       CA\n",
              "1     5525           9/24/17         9/26/17  ...  24  female       GB\n",
              "2     2586           6/22/17         6/23/17  ...  43  female       US\n",
              "3      312           7/29/17         7/30/17  ...  23  female       AU\n",
              "4     3064           5/30/15         5/31/15  ...  44    male       FR\n",
              "\n",
              "[5 rows x 11 columns]"
            ]
          },
          "metadata": {
            "tags": []
          },
          "execution_count": 18
        }
      ]
    },
    {
      "cell_type": "code",
      "metadata": {
        "id": "5aTsHwrDsc1c",
        "colab_type": "code",
        "colab": {}
      },
      "source": [
        "DF = pd.DataFrame(columns=['user_id','checkin_date_from',\n",
        "                         'checkin_date_to','age', 'sex','country','status',\n",
        "                          'tracktable_type','tracktable_name','tracktable_value_from',\n",
        "                          'tracktable_value_to',\n",
        "                           ])"
      ],
      "execution_count": 0,
      "outputs": []
    },
    {
      "cell_type": "code",
      "metadata": {
        "id": "4EpVTF0CttWh",
        "colab_type": "code",
        "colab": {}
      },
      "source": [
        "\"\"\" \n",
        "new_df(df) function is taking the json columns from the datafram and returns three seperate columns by extracting values from JSON. \n",
        "We are creating anempty dataframe of columns in \"DF\". Then inside the new_df(df) function, creating three empty dictionary from_sym2val ={},\n",
        "val2key = {}, to_sym2val = {}. We continue reading the values from entires_from and entries_to columns into these dictionaries\n",
        "In from_sym2val dict and to_sym2val dict, the key is trackable_name and the value is trackable_value\n",
        "In val2key dict, the key is trackable_name again and the value is trackable_type\n",
        "In the key_set, all trackable_names (basically all keys) are present\n",
        "we are then appending the extracted values to the rest of the dataframe and returning the new dataframe.\n",
        "\"\"\"\n",
        "def new_df(df): \n",
        "    try:\n",
        "\n",
        "        df2 = pd.DataFrame(columns=['user_id','checkin_date_from',\n",
        "                         'checkin_date_to','age', 'sex','country','status',\n",
        "                          'tracktable_type','tracktable_name','tracktable_value_from',\n",
        "                          'tracktable_value_to',\n",
        "                           ])\n",
        "        json1_data = df['entries_from']\n",
        "\n",
        "        json2_data = df['entries_to']\n",
        "\n",
        "        from_sym2val ={}\n",
        "        val2key = {}\n",
        "        to_sym2val = {}\n",
        "\n",
        "\n",
        "        for j in json1_data:\n",
        "            from_sym2val[j['trackable_name']] = j['trackable_value']\n",
        "            val2key[j['trackable_name']] = j['trackable_type']\n",
        "\n",
        "        for j in json2_data:\n",
        "            to_sym2val[j['trackable_name']] = j['trackable_value']\n",
        "            val2key[j['trackable_name']] = j['trackable_type']\n",
        "\n",
        "        keys_set = list(set(list(from_sym2val.keys())+list(to_sym2val.keys())))\n",
        "        for k in keys_set:\n",
        "            values =[df['user_id'],df['checkin_date_from'],df['checkin_date_to'],\n",
        "            df['age'],df['sex'],df['country'],df['status']]\n",
        "            values.append(val2key[k])\n",
        "            values.append(k)\n",
        "            if k in from_sym2val.keys():\n",
        "                values.append(from_sym2val[k])\n",
        "            else:\n",
        "                values.append(np.NaN)\n",
        "            if k in to_sym2val.keys():    \n",
        "                values.append(to_sym2val[k])\n",
        "            else:\n",
        "                values.append(np.NaN)\n",
        "\n",
        "            df2 = df2.append(pd.Series(values,index=['user_id','checkin_date_from',\n",
        "                             'checkin_date_to','age', 'sex','country','status',\n",
        "                              'tracktable_type','tracktable_name','tracktable_value_from',\n",
        "                              'tracktable_value_to',\n",
        "                               ]),ignore_index=True)\n",
        "        return df2\n",
        "    except Exception as err:\n",
        "        print(err)\n",
        "\n",
        "        return pd.DataFrame(columns=['user_id','checkin_date_from',\n",
        "                         'checkin_date_to','age', 'sex','country','status',\n",
        "                          'tracktable_type','tracktable_name','tracktable_value_from',\n",
        "                          'tracktable_value_to',\n",
        "                           ])"
      ],
      "execution_count": 0,
      "outputs": []
    },
    {
      "cell_type": "code",
      "metadata": {
        "id": "mOzDv6ErttTH",
        "colab_type": "code",
        "colab": {}
      },
      "source": [
        "\"\"\" \n",
        "Applying the function to the existing data frame to get a new one\n",
        "Computation could take 20-25 minutes as we have large data set\n",
        "\"\"\"\n",
        "\n",
        "dfk = df.apply(new_df,axis=1)"
      ],
      "execution_count": 0,
      "outputs": []
    },
    {
      "cell_type": "code",
      "metadata": {
        "id": "43psDxuXttQJ",
        "colab_type": "code",
        "colab": {}
      },
      "source": [
        "for i in range(dfk.shape[0]):\n",
        "    try:\n",
        "        DF = pd.concat([DF,dfk[i]])\n",
        "    except Exception as err:\n",
        "        print(err)\n",
        "        pass"
      ],
      "execution_count": 0,
      "outputs": []
    },
    {
      "cell_type": "code",
      "metadata": {
        "id": "55cypvRCttNm",
        "colab_type": "code",
        "colab": {}
      },
      "source": [
        " DF2 = DF.reset_index(drop=True)"
      ],
      "execution_count": 0,
      "outputs": []
    },
    {
      "cell_type": "code",
      "metadata": {
        "id": "-DO66XHsFao-",
        "colab_type": "code",
        "colab": {}
      },
      "source": [
        "DF2.to_csv('Final_train.csv',index= False)"
      ],
      "execution_count": 0,
      "outputs": []
    },
    {
      "cell_type": "code",
      "metadata": {
        "id": "rmQ-HQ9aFdEz",
        "colab_type": "code",
        "colab": {}
      },
      "source": [
        "DF2 = pd.read_csv(\"Final_train.csv\", low_memory=False)\n",
        "DF2 = DF2.sample(frac=1).reset_index(drop=True)"
      ],
      "execution_count": 0,
      "outputs": []
    },
    {
      "cell_type": "code",
      "metadata": {
        "id": "3y1xr8LsujTu",
        "colab_type": "code",
        "colab": {
          "base_uri": "https://localhost:8080/",
          "height": 222
        },
        "outputId": "07e97758-0021-4499-bc30-bb70eda0006a"
      },
      "source": [
        "DF2.head()"
      ],
      "execution_count": 44,
      "outputs": [
        {
          "output_type": "execute_result",
          "data": {
            "text/html": [
              "<div>\n",
              "<style scoped>\n",
              "    .dataframe tbody tr th:only-of-type {\n",
              "        vertical-align: middle;\n",
              "    }\n",
              "\n",
              "    .dataframe tbody tr th {\n",
              "        vertical-align: top;\n",
              "    }\n",
              "\n",
              "    .dataframe thead th {\n",
              "        text-align: right;\n",
              "    }\n",
              "</style>\n",
              "<table border=\"1\" class=\"dataframe\">\n",
              "  <thead>\n",
              "    <tr style=\"text-align: right;\">\n",
              "      <th></th>\n",
              "      <th>user_id</th>\n",
              "      <th>checkin_date_from</th>\n",
              "      <th>checkin_date_to</th>\n",
              "      <th>age</th>\n",
              "      <th>sex</th>\n",
              "      <th>country</th>\n",
              "      <th>status</th>\n",
              "      <th>tracktable_type</th>\n",
              "      <th>tracktable_name</th>\n",
              "      <th>tracktable_value_from</th>\n",
              "      <th>tracktable_value_to</th>\n",
              "    </tr>\n",
              "  </thead>\n",
              "  <tbody>\n",
              "    <tr>\n",
              "      <th>0</th>\n",
              "      <td>897</td>\n",
              "      <td>9/9/17</td>\n",
              "      <td>9/10/17</td>\n",
              "      <td>21.0</td>\n",
              "      <td>female</td>\n",
              "      <td>US</td>\n",
              "      <td>SAME</td>\n",
              "      <td>Symptom</td>\n",
              "      <td>Back pain</td>\n",
              "      <td>4</td>\n",
              "      <td>4</td>\n",
              "    </tr>\n",
              "    <tr>\n",
              "      <th>1</th>\n",
              "      <td>1694</td>\n",
              "      <td>10/21/17</td>\n",
              "      <td>10/22/17</td>\n",
              "      <td>34.0</td>\n",
              "      <td>female</td>\n",
              "      <td>US</td>\n",
              "      <td>SAME</td>\n",
              "      <td>Condition</td>\n",
              "      <td>Depression</td>\n",
              "      <td>2</td>\n",
              "      <td>1</td>\n",
              "    </tr>\n",
              "    <tr>\n",
              "      <th>2</th>\n",
              "      <td>8680</td>\n",
              "      <td>5/29/17</td>\n",
              "      <td>5/30/17</td>\n",
              "      <td>32.0</td>\n",
              "      <td>female</td>\n",
              "      <td>US</td>\n",
              "      <td>WORSENED</td>\n",
              "      <td>Treatment</td>\n",
              "      <td>Seroquel</td>\n",
              "      <td>1 x 300.0mg</td>\n",
              "      <td>1 x 300.0mg</td>\n",
              "    </tr>\n",
              "    <tr>\n",
              "      <th>3</th>\n",
              "      <td>5486</td>\n",
              "      <td>9/2/15</td>\n",
              "      <td>9/5/15</td>\n",
              "      <td>24.0</td>\n",
              "      <td>other</td>\n",
              "      <td>US</td>\n",
              "      <td>SAME</td>\n",
              "      <td>Symptom</td>\n",
              "      <td>Stomach Pain</td>\n",
              "      <td>4</td>\n",
              "      <td>3</td>\n",
              "    </tr>\n",
              "    <tr>\n",
              "      <th>4</th>\n",
              "      <td>6750</td>\n",
              "      <td>1/25/17</td>\n",
              "      <td>1/27/17</td>\n",
              "      <td>26.0</td>\n",
              "      <td>female</td>\n",
              "      <td>AU</td>\n",
              "      <td>SAME</td>\n",
              "      <td>Weather</td>\n",
              "      <td>temperature_min</td>\n",
              "      <td>63.0</td>\n",
              "      <td>66.0</td>\n",
              "    </tr>\n",
              "  </tbody>\n",
              "</table>\n",
              "</div>"
            ],
            "text/plain": [
              "   user_id checkin_date_from  ... tracktable_value_from  tracktable_value_to\n",
              "0      897            9/9/17  ...                     4                    4\n",
              "1     1694          10/21/17  ...                     2                    1\n",
              "2     8680           5/29/17  ...           1 x 300.0mg          1 x 300.0mg\n",
              "3     5486            9/2/15  ...                     4                    3\n",
              "4     6750           1/25/17  ...                  63.0                 66.0\n",
              "\n",
              "[5 rows x 11 columns]"
            ]
          },
          "metadata": {
            "tags": []
          },
          "execution_count": 44
        }
      ]
    },
    {
      "cell_type": "code",
      "metadata": {
        "id": "pPHmKpEYttEY",
        "colab_type": "code",
        "colab": {
          "base_uri": "https://localhost:8080/",
          "height": 35
        },
        "outputId": "e38313b6-eac2-44a0-b330-831c4eadca93"
      },
      "source": [
        "DF2.shape"
      ],
      "execution_count": 45,
      "outputs": [
        {
          "output_type": "execute_result",
          "data": {
            "text/plain": [
              "(223619, 11)"
            ]
          },
          "metadata": {
            "tags": []
          },
          "execution_count": 45
        }
      ]
    },
    {
      "cell_type": "code",
      "metadata": {
        "id": "t5epmiYuttBI",
        "colab_type": "code",
        "colab": {
          "base_uri": "https://localhost:8080/",
          "height": 225
        },
        "outputId": "e9196786-e0a6-48bb-b085-b65069b638af"
      },
      "source": [
        "DF2.dtypes"
      ],
      "execution_count": 46,
      "outputs": [
        {
          "output_type": "execute_result",
          "data": {
            "text/plain": [
              "user_id                    int64\n",
              "checkin_date_from         object\n",
              "checkin_date_to           object\n",
              "age                      float64\n",
              "sex                       object\n",
              "country                   object\n",
              "status                    object\n",
              "tracktable_type           object\n",
              "tracktable_name           object\n",
              "tracktable_value_from     object\n",
              "tracktable_value_to       object\n",
              "dtype: object"
            ]
          },
          "metadata": {
            "tags": []
          },
          "execution_count": 46
        }
      ]
    },
    {
      "cell_type": "code",
      "metadata": {
        "id": "Beq_eNGUts95",
        "colab_type": "code",
        "colab": {
          "base_uri": "https://localhost:8080/",
          "height": 225
        },
        "outputId": "c1c46642-aa51-4072-8b65-9074f572d83c"
      },
      "source": [
        "DF2.isna().sum()"
      ],
      "execution_count": 47,
      "outputs": [
        {
          "output_type": "execute_result",
          "data": {
            "text/plain": [
              "user_id                      0\n",
              "checkin_date_from            0\n",
              "checkin_date_to              0\n",
              "age                        126\n",
              "sex                          0\n",
              "country                      0\n",
              "status                       0\n",
              "tracktable_type              0\n",
              "tracktable_name              0\n",
              "tracktable_value_from    10085\n",
              "tracktable_value_to       7111\n",
              "dtype: int64"
            ]
          },
          "metadata": {
            "tags": []
          },
          "execution_count": 47
        }
      ]
    },
    {
      "cell_type": "markdown",
      "metadata": {
        "id": "7oaKdpIDx6as",
        "colab_type": "text"
      },
      "source": [
        "NaN values is in `tracktable_value_from` and `tracktable_value_to` this indicates that `tracktable_name` is not present on that date therefore filling NaN with 0. `age` column also has NaN values as we replaced negative values in `age` with NaN only."
      ]
    },
    {
      "cell_type": "code",
      "metadata": {
        "id": "QcpDMYfrEr9Q",
        "colab_type": "code",
        "colab": {
          "base_uri": "https://localhost:8080/",
          "height": 225
        },
        "outputId": "2547b390-63f8-4bb1-fe03-cee01f023686"
      },
      "source": [
        "DF2.nunique()"
      ],
      "execution_count": 48,
      "outputs": [
        {
          "output_type": "execute_result",
          "data": {
            "text/plain": [
              "user_id                   987\n",
              "checkin_date_from         869\n",
              "checkin_date_to           875\n",
              "age                        54\n",
              "sex                         4\n",
              "country                    35\n",
              "status                      3\n",
              "tracktable_type             4\n",
              "tracktable_name          3351\n",
              "tracktable_value_from    1676\n",
              "tracktable_value_to      1664\n",
              "dtype: int64"
            ]
          },
          "metadata": {
            "tags": []
          },
          "execution_count": 48
        }
      ]
    },
    {
      "cell_type": "markdown",
      "metadata": {
        "id": "EQLnRgBvx8e7",
        "colab_type": "text"
      },
      "source": [
        "### Data Preprocessing\n",
        "\n",
        "Now, we are tring to calculate the difference between or the number of days between the checkin date (`checkin_date_from`) and check out date (`checkin_date_to`) so it gives an idea about how long the patient has been in the hospital. This can also contribute to the prediction of severity of the disease."
      ]
    },
    {
      "cell_type": "code",
      "metadata": {
        "id": "2Ec7vVcRts6y",
        "colab_type": "code",
        "colab": {}
      },
      "source": [
        "#convert to date type and adding number of days\n",
        "dframe = DF2.copy()\n",
        "\n",
        "# NaN can be imputed with mean or median as well.\n",
        "dframe.fillna(0,inplace=True)\n",
        "\n",
        "dframe['checkin_date_from']= pd.to_datetime(dframe['checkin_date_from']) \n",
        "\n",
        "dframe['checkin_date_to']= pd.to_datetime(dframe['checkin_date_to']) \n",
        "\n",
        "dframe['Days'] = (dframe['checkin_date_to'] - dframe['checkin_date_from']).dt.days\n",
        "\n",
        "dframe.drop(['checkin_date_from','checkin_date_to'],axis=1,inplace=True)\n",
        "\n",
        "dframe.head()\n",
        "\n",
        "\"\"\"  \n",
        "This data can further be processed and wrangled for more insights, so creating a copy of it\n",
        "As mentioned earlier data cleaning and munging is the core of this assignment\n",
        " \"\"\"\n",
        "dframe_final = dframe.copy()\n"
      ],
      "execution_count": 0,
      "outputs": []
    },
    {
      "cell_type": "markdown",
      "metadata": {
        "id": "8guxvSVjLxqY",
        "colab_type": "text"
      },
      "source": [
        "Dropping `trackable_type` - `treatment` and `weather`.\n",
        "\n",
        "`trackable_type` - `treatment` is very crucial in predicting the severity of the disease as it helps in unvieling the truth whether the treatement has improved the status of the patient or worsened or remained the same. But I am dropping it as it doesn't really fit in the dataframe that we have developed over here. "
      ]
    },
    {
      "cell_type": "code",
      "metadata": {
        "id": "9HImSwYuyKim",
        "colab_type": "code",
        "colab": {}
      },
      "source": [
        "#since value is not convertible to float\n",
        "dframe.drop( dframe[dframe['tracktable_type']=='Treatment'].index,inplace=True)\n",
        "\n",
        "#since value is not convertible to float\n",
        "dframe.drop( dframe[dframe['tracktable_type']=='Weather'].index,inplace=True)\n",
        "\n",
        "dframe.reset_index(drop=True,inplace=True)\n",
        "\n",
        "dframe['tracktable_value_from'] = dframe['tracktable_value_from'].astype(float)\n",
        "dframe['tracktable_value_to'] = dframe['tracktable_value_to'].astype(float)"
      ],
      "execution_count": 0,
      "outputs": []
    },
    {
      "cell_type": "code",
      "metadata": {
        "id": "mogrlbeZyKfo",
        "colab_type": "code",
        "colab": {
          "base_uri": "https://localhost:8080/",
          "height": 35
        },
        "outputId": "89ee817c-44ce-410a-cd60-5d3bbcb58c2e"
      },
      "source": [
        "dframe.shape"
      ],
      "execution_count": 51,
      "outputs": [
        {
          "output_type": "execute_result",
          "data": {
            "text/plain": [
              "(168492, 10)"
            ]
          },
          "metadata": {
            "tags": []
          },
          "execution_count": 51
        }
      ]
    },
    {
      "cell_type": "code",
      "metadata": {
        "id": "couAHLnCyKdT",
        "colab_type": "code",
        "colab": {
          "base_uri": "https://localhost:8080/",
          "height": 202
        },
        "outputId": "b86fc16c-7ea7-4a45-bee0-73e839528813"
      },
      "source": [
        "dframe.head()"
      ],
      "execution_count": 52,
      "outputs": [
        {
          "output_type": "execute_result",
          "data": {
            "text/html": [
              "<div>\n",
              "<style scoped>\n",
              "    .dataframe tbody tr th:only-of-type {\n",
              "        vertical-align: middle;\n",
              "    }\n",
              "\n",
              "    .dataframe tbody tr th {\n",
              "        vertical-align: top;\n",
              "    }\n",
              "\n",
              "    .dataframe thead th {\n",
              "        text-align: right;\n",
              "    }\n",
              "</style>\n",
              "<table border=\"1\" class=\"dataframe\">\n",
              "  <thead>\n",
              "    <tr style=\"text-align: right;\">\n",
              "      <th></th>\n",
              "      <th>user_id</th>\n",
              "      <th>age</th>\n",
              "      <th>sex</th>\n",
              "      <th>country</th>\n",
              "      <th>status</th>\n",
              "      <th>tracktable_type</th>\n",
              "      <th>tracktable_name</th>\n",
              "      <th>tracktable_value_from</th>\n",
              "      <th>tracktable_value_to</th>\n",
              "      <th>Days</th>\n",
              "    </tr>\n",
              "  </thead>\n",
              "  <tbody>\n",
              "    <tr>\n",
              "      <th>0</th>\n",
              "      <td>897</td>\n",
              "      <td>21.0</td>\n",
              "      <td>female</td>\n",
              "      <td>US</td>\n",
              "      <td>SAME</td>\n",
              "      <td>Symptom</td>\n",
              "      <td>Back pain</td>\n",
              "      <td>4.0</td>\n",
              "      <td>4.0</td>\n",
              "      <td>1</td>\n",
              "    </tr>\n",
              "    <tr>\n",
              "      <th>1</th>\n",
              "      <td>1694</td>\n",
              "      <td>34.0</td>\n",
              "      <td>female</td>\n",
              "      <td>US</td>\n",
              "      <td>SAME</td>\n",
              "      <td>Condition</td>\n",
              "      <td>Depression</td>\n",
              "      <td>2.0</td>\n",
              "      <td>1.0</td>\n",
              "      <td>1</td>\n",
              "    </tr>\n",
              "    <tr>\n",
              "      <th>2</th>\n",
              "      <td>5486</td>\n",
              "      <td>24.0</td>\n",
              "      <td>other</td>\n",
              "      <td>US</td>\n",
              "      <td>SAME</td>\n",
              "      <td>Symptom</td>\n",
              "      <td>Stomach Pain</td>\n",
              "      <td>4.0</td>\n",
              "      <td>3.0</td>\n",
              "      <td>3</td>\n",
              "    </tr>\n",
              "    <tr>\n",
              "      <th>3</th>\n",
              "      <td>953</td>\n",
              "      <td>25.0</td>\n",
              "      <td>female</td>\n",
              "      <td>US</td>\n",
              "      <td>WORSENED</td>\n",
              "      <td>Symptom</td>\n",
              "      <td>Depression</td>\n",
              "      <td>1.0</td>\n",
              "      <td>0.0</td>\n",
              "      <td>2</td>\n",
              "    </tr>\n",
              "    <tr>\n",
              "      <th>4</th>\n",
              "      <td>6711</td>\n",
              "      <td>25.0</td>\n",
              "      <td>female</td>\n",
              "      <td>GB</td>\n",
              "      <td>IMPROVED</td>\n",
              "      <td>Symptom</td>\n",
              "      <td>Difficulty concentrating</td>\n",
              "      <td>1.0</td>\n",
              "      <td>0.0</td>\n",
              "      <td>1</td>\n",
              "    </tr>\n",
              "  </tbody>\n",
              "</table>\n",
              "</div>"
            ],
            "text/plain": [
              "   user_id   age     sex  ... tracktable_value_from tracktable_value_to Days\n",
              "0      897  21.0  female  ...                   4.0                 4.0    1\n",
              "1     1694  34.0  female  ...                   2.0                 1.0    1\n",
              "2     5486  24.0   other  ...                   4.0                 3.0    3\n",
              "3      953  25.0  female  ...                   1.0                 0.0    2\n",
              "4     6711  25.0  female  ...                   1.0                 0.0    1\n",
              "\n",
              "[5 rows x 10 columns]"
            ]
          },
          "metadata": {
            "tags": []
          },
          "execution_count": 52
        }
      ]
    },
    {
      "cell_type": "code",
      "metadata": {
        "id": "tssFRT40yKW7",
        "colab_type": "code",
        "colab": {}
      },
      "source": [
        "dframe.fillna(0,inplace=True)"
      ],
      "execution_count": 0,
      "outputs": []
    },
    {
      "cell_type": "markdown",
      "metadata": {
        "id": "XdFRb1W7NW0U",
        "colab_type": "text"
      },
      "source": [
        "Encoding `sex` and `status` labels."
      ]
    },
    {
      "cell_type": "code",
      "metadata": {
        "id": "IFmQXIeMHeBY",
        "colab_type": "code",
        "colab": {}
      },
      "source": [
        "def encode_sex(df):\n",
        "    label =df['sex']\n",
        "    if label == 'female':\n",
        "        return 0\n",
        "    elif label == 'male':\n",
        "        return 1\n",
        "    elif label=='other':\n",
        "        return 2\n",
        "    else:\n",
        "        return 3"
      ],
      "execution_count": 0,
      "outputs": []
    },
    {
      "cell_type": "code",
      "metadata": {
        "id": "hYGWd4nbHgQs",
        "colab_type": "code",
        "colab": {}
      },
      "source": [
        "def encode_labels(df):\n",
        "    label =df['status']\n",
        "    if label == 'IMPROVED':\n",
        "        return 0\n",
        "    elif label == 'WORSENED':\n",
        "        return 1\n",
        "    else:\n",
        "        return 2"
      ],
      "execution_count": 0,
      "outputs": []
    },
    {
      "cell_type": "code",
      "metadata": {
        "id": "-9h2US5TyKTj",
        "colab_type": "code",
        "colab": {
          "base_uri": "https://localhost:8080/",
          "height": 110
        },
        "outputId": "1a0e18ce-4611-4608-a884-3098d751e064"
      },
      "source": [
        "train_subset= dframe.copy()\n",
        "\n",
        "train_subset['y'] = train_subset.apply(encode_labels,axis=1)\n",
        "\n",
        "train_subset['gender']= train_subset.apply(encode_sex,axis=1)\n",
        "\n",
        "train_subset.drop(['status','sex'],axis=1,inplace=True)\n",
        "\n",
        "# train_subset.head(2)"
      ],
      "execution_count": 56,
      "outputs": [
        {
          "output_type": "execute_result",
          "data": {
            "text/html": [
              "<div>\n",
              "<style scoped>\n",
              "    .dataframe tbody tr th:only-of-type {\n",
              "        vertical-align: middle;\n",
              "    }\n",
              "\n",
              "    .dataframe tbody tr th {\n",
              "        vertical-align: top;\n",
              "    }\n",
              "\n",
              "    .dataframe thead th {\n",
              "        text-align: right;\n",
              "    }\n",
              "</style>\n",
              "<table border=\"1\" class=\"dataframe\">\n",
              "  <thead>\n",
              "    <tr style=\"text-align: right;\">\n",
              "      <th></th>\n",
              "      <th>user_id</th>\n",
              "      <th>age</th>\n",
              "      <th>country</th>\n",
              "      <th>tracktable_type</th>\n",
              "      <th>tracktable_name</th>\n",
              "      <th>tracktable_value_from</th>\n",
              "      <th>tracktable_value_to</th>\n",
              "      <th>Days</th>\n",
              "      <th>y</th>\n",
              "      <th>gender</th>\n",
              "    </tr>\n",
              "  </thead>\n",
              "  <tbody>\n",
              "    <tr>\n",
              "      <th>0</th>\n",
              "      <td>897</td>\n",
              "      <td>21.0</td>\n",
              "      <td>US</td>\n",
              "      <td>Symptom</td>\n",
              "      <td>Back pain</td>\n",
              "      <td>4.0</td>\n",
              "      <td>4.0</td>\n",
              "      <td>1</td>\n",
              "      <td>2</td>\n",
              "      <td>0</td>\n",
              "    </tr>\n",
              "    <tr>\n",
              "      <th>1</th>\n",
              "      <td>1694</td>\n",
              "      <td>34.0</td>\n",
              "      <td>US</td>\n",
              "      <td>Condition</td>\n",
              "      <td>Depression</td>\n",
              "      <td>2.0</td>\n",
              "      <td>1.0</td>\n",
              "      <td>1</td>\n",
              "      <td>2</td>\n",
              "      <td>0</td>\n",
              "    </tr>\n",
              "  </tbody>\n",
              "</table>\n",
              "</div>"
            ],
            "text/plain": [
              "   user_id   age country tracktable_type  ... tracktable_value_to  Days  y  gender\n",
              "0      897  21.0      US         Symptom  ...                 4.0     1  2       0\n",
              "1     1694  34.0      US       Condition  ...                 1.0     1  2       0\n",
              "\n",
              "[2 rows x 10 columns]"
            ]
          },
          "metadata": {
            "tags": []
          },
          "execution_count": 56
        }
      ]
    },
    {
      "cell_type": "code",
      "metadata": {
        "id": "fn-E8xnUyKQr",
        "colab_type": "code",
        "colab": {}
      },
      "source": [
        "#since country is very less responsible for status\n",
        "train_subset.drop(['country' ],axis=1,inplace=True)\n"
      ],
      "execution_count": 0,
      "outputs": []
    },
    {
      "cell_type": "code",
      "metadata": {
        "id": "-VIUhRbGyKNa",
        "colab_type": "code",
        "colab": {}
      },
      "source": [
        "\"\"\"\n",
        "Label encodig both `trackable_type` and `trackable_name`\n",
        "\"\"\"\n",
        "le_type = preprocessing.LabelEncoder()\n",
        "le_name = preprocessing.LabelEncoder()\n",
        "\n",
        "le_type.fit(train_subset['tracktable_type'])\n",
        "\n",
        "train_subset['tracktable_type']=le_type.transform(train_subset['tracktable_type']) \n",
        "\n",
        "le_name.fit(train_subset['tracktable_name'])\n",
        "train_subset['tracktable_name']=le_name.transform(train_subset['tracktable_name']) \n"
      ],
      "execution_count": 0,
      "outputs": []
    },
    {
      "cell_type": "code",
      "metadata": {
        "id": "s3HBtlGaOK_q",
        "colab_type": "code",
        "colab": {
          "base_uri": "https://localhost:8080/",
          "height": 202
        },
        "outputId": "7f6cf887-99c3-450f-f65d-01bc7eabf1d9"
      },
      "source": [
        "train_subset.head()"
      ],
      "execution_count": 42,
      "outputs": [
        {
          "output_type": "execute_result",
          "data": {
            "text/html": [
              "<div>\n",
              "<style scoped>\n",
              "    .dataframe tbody tr th:only-of-type {\n",
              "        vertical-align: middle;\n",
              "    }\n",
              "\n",
              "    .dataframe tbody tr th {\n",
              "        vertical-align: top;\n",
              "    }\n",
              "\n",
              "    .dataframe thead th {\n",
              "        text-align: right;\n",
              "    }\n",
              "</style>\n",
              "<table border=\"1\" class=\"dataframe\">\n",
              "  <thead>\n",
              "    <tr style=\"text-align: right;\">\n",
              "      <th></th>\n",
              "      <th>user_id</th>\n",
              "      <th>age</th>\n",
              "      <th>tracktable_type</th>\n",
              "      <th>tracktable_name</th>\n",
              "      <th>tracktable_value_from</th>\n",
              "      <th>tracktable_value_to</th>\n",
              "      <th>Days</th>\n",
              "      <th>y</th>\n",
              "      <th>gender</th>\n",
              "    </tr>\n",
              "  </thead>\n",
              "  <tbody>\n",
              "    <tr>\n",
              "      <th>0</th>\n",
              "      <td>1694</td>\n",
              "      <td>34</td>\n",
              "      <td>0</td>\n",
              "      <td>340</td>\n",
              "      <td>1.0</td>\n",
              "      <td>1.0</td>\n",
              "      <td>1</td>\n",
              "      <td>2</td>\n",
              "      <td>0</td>\n",
              "    </tr>\n",
              "    <tr>\n",
              "      <th>1</th>\n",
              "      <td>611</td>\n",
              "      <td>46</td>\n",
              "      <td>1</td>\n",
              "      <td>186</td>\n",
              "      <td>0.0</td>\n",
              "      <td>0.0</td>\n",
              "      <td>1</td>\n",
              "      <td>0</td>\n",
              "      <td>0</td>\n",
              "    </tr>\n",
              "    <tr>\n",
              "      <th>2</th>\n",
              "      <td>671</td>\n",
              "      <td>25</td>\n",
              "      <td>1</td>\n",
              "      <td>1005</td>\n",
              "      <td>2.0</td>\n",
              "      <td>2.0</td>\n",
              "      <td>1</td>\n",
              "      <td>2</td>\n",
              "      <td>0</td>\n",
              "    </tr>\n",
              "    <tr>\n",
              "      <th>3</th>\n",
              "      <td>3006</td>\n",
              "      <td>31</td>\n",
              "      <td>1</td>\n",
              "      <td>754</td>\n",
              "      <td>2.0</td>\n",
              "      <td>1.0</td>\n",
              "      <td>1</td>\n",
              "      <td>1</td>\n",
              "      <td>3</td>\n",
              "    </tr>\n",
              "    <tr>\n",
              "      <th>4</th>\n",
              "      <td>7659</td>\n",
              "      <td>32</td>\n",
              "      <td>1</td>\n",
              "      <td>1504</td>\n",
              "      <td>1.0</td>\n",
              "      <td>2.0</td>\n",
              "      <td>1</td>\n",
              "      <td>1</td>\n",
              "      <td>0</td>\n",
              "    </tr>\n",
              "  </tbody>\n",
              "</table>\n",
              "</div>"
            ],
            "text/plain": [
              "   user_id  age  tracktable_type  ...  Days  y  gender\n",
              "0     1694   34                0  ...     1  2       0\n",
              "1      611   46                1  ...     1  0       0\n",
              "2      671   25                1  ...     1  2       0\n",
              "3     3006   31                1  ...     1  1       3\n",
              "4     7659   32                1  ...     1  1       0\n",
              "\n",
              "[5 rows x 9 columns]"
            ]
          },
          "metadata": {
            "tags": []
          },
          "execution_count": 42
        }
      ]
    },
    {
      "cell_type": "markdown",
      "metadata": {
        "id": "NNCHN1g6ybDP",
        "colab_type": "text"
      },
      "source": [
        "### Splitting the data for training and testing the model"
      ]
    },
    {
      "cell_type": "code",
      "metadata": {
        "id": "iJhMBbQVyKKh",
        "colab_type": "code",
        "colab": {}
      },
      "source": [
        "X_train, X_test, y_train, y_test = train_test_split(train_subset, train_subset['y'],\n",
        "                                                    train_size=0.7,shuffle=True, random_state=23123)"
      ],
      "execution_count": 0,
      "outputs": []
    },
    {
      "cell_type": "code",
      "metadata": {
        "id": "X-kx1UehyKHv",
        "colab_type": "code",
        "colab": {
          "base_uri": "https://localhost:8080/",
          "height": 69
        },
        "outputId": "4d009358-134e-467c-96b0-bc316d8bb065"
      },
      "source": [
        "\"\"\"\n",
        "Building a K nearest neighbor model for K = 10\n",
        "Different values of K can be used and tested to see which k performs better\n",
        "\"\"\"\n",
        "KNN = knn(n_neighbors=10)\n",
        "KNN.fit(X_train ,y_train )"
      ],
      "execution_count": 60,
      "outputs": [
        {
          "output_type": "execute_result",
          "data": {
            "text/plain": [
              "KNeighborsClassifier(algorithm='auto', leaf_size=30, metric='minkowski',\n",
              "                     metric_params=None, n_jobs=None, n_neighbors=10, p=2,\n",
              "                     weights='uniform')"
            ]
          },
          "metadata": {
            "tags": []
          },
          "execution_count": 60
        }
      ]
    },
    {
      "cell_type": "code",
      "metadata": {
        "id": "eiHfw51ryKBQ",
        "colab_type": "code",
        "colab": {
          "base_uri": "https://localhost:8080/",
          "height": 141
        },
        "outputId": "39b9dc27-dfe5-4866-d6b3-eadc8049fd6f"
      },
      "source": [
        "\n",
        "# please train on 10000 records as the computation for entire ddataset might take 25 minutes or so.\n",
        "\n",
        "SVM = svm.SVC(cache_size=170000)\n",
        "# SVM.fit(X_train ,y_train)\n",
        "\n",
        "# trained on 10000 rows only since computation is taking high time\n",
        "SVM.fit(X_train[:10000] ,y_train[:10000] )\n"
      ],
      "execution_count": 61,
      "outputs": [
        {
          "output_type": "stream",
          "text": [
            "/usr/local/lib/python3.6/dist-packages/sklearn/svm/base.py:193: FutureWarning: The default value of gamma will change from 'auto' to 'scale' in version 0.22 to account better for unscaled features. Set gamma explicitly to 'auto' or 'scale' to avoid this warning.\n",
            "  \"avoid this warning.\", FutureWarning)\n"
          ],
          "name": "stderr"
        },
        {
          "output_type": "execute_result",
          "data": {
            "text/plain": [
              "SVC(C=1.0, cache_size=170000, class_weight=None, coef0=0.0,\n",
              "    decision_function_shape='ovr', degree=3, gamma='auto_deprecated',\n",
              "    kernel='rbf', max_iter=-1, probability=False, random_state=None,\n",
              "    shrinking=True, tol=0.001, verbose=False)"
            ]
          },
          "metadata": {
            "tags": []
          },
          "execution_count": 61
        }
      ]
    },
    {
      "cell_type": "markdown",
      "metadata": {
        "id": "9wwxX-5Uyh0t",
        "colab_type": "text"
      },
      "source": [
        "### Accuracy and confusion matrix plots"
      ]
    },
    {
      "cell_type": "code",
      "metadata": {
        "id": "rY9LEb_kyJ-3",
        "colab_type": "code",
        "colab": {}
      },
      "source": [
        "def plot_confusion_matrix(cm, classes,\n",
        "                          normalize= True,\n",
        "                          title='Confusion matrix',\n",
        "                          cmap=plt.cm.Blues):\n",
        "    \"\"\"\n",
        "    This function prints and plots the confusion matrix.\n",
        "    Normalization can be applied by setting `normalize=True`.\n",
        "    \"\"\"\n",
        "    import itertools\n",
        "    if normalize:\n",
        "        cm = cm.astype('float') / cm.sum(axis=1)[:, np.newaxis]\n",
        "        print(\"Normalized confusion matrix\")\n",
        "    else:\n",
        "        print('Confusion matrix, without normalization')\n",
        "\n",
        "    print(cm)\n",
        "\n",
        "    plt.imshow(cm, interpolation='nearest', cmap=cmap)\n",
        "    plt.title(title)\n",
        "    plt.colorbar()\n",
        "    tick_marks = np.arange(len(classes))\n",
        "    plt.xticks(tick_marks, classes, rotation=45)\n",
        "    plt.yticks(tick_marks, classes)\n",
        "\n",
        "    fmt = '.2f' if normalize else 'd'\n",
        "    thresh = cm.max() / 2.\n",
        "    for i, j in itertools.product(range(cm.shape[0]), range(cm.shape[1])):\n",
        "        plt.text(j, i, format(cm[i, j], fmt),\n",
        "                 horizontalalignment=\"center\",\n",
        "                 color=\"white\" if cm[i, j] > thresh else \"black\")\n",
        "\n",
        "    plt.ylabel('True label')\n",
        "    plt.xlabel('Predicted label')\n",
        "    plt.tight_layout()"
      ],
      "execution_count": 0,
      "outputs": []
    },
    {
      "cell_type": "markdown",
      "metadata": {
        "id": "sb2bJQpsfW_0",
        "colab_type": "text"
      },
      "source": [
        "### 3 Final models have been build on the explored data for comparison and analysis.\n",
        "- KNN\n",
        "- SVM\n",
        "- Naive Bayes"
      ]
    },
    {
      "cell_type": "markdown",
      "metadata": {
        "id": "_hBd63XTymEL",
        "colab_type": "text"
      },
      "source": [
        "### K Nearest Neighbor"
      ]
    },
    {
      "cell_type": "code",
      "metadata": {
        "id": "eSuhP0_DyJ7I",
        "colab_type": "code",
        "colab": {
          "base_uri": "https://localhost:8080/",
          "height": 69
        },
        "outputId": "0a2e8ced-746c-4a45-9e5b-73175a3e98ca"
      },
      "source": [
        "train_subset.columns"
      ],
      "execution_count": 63,
      "outputs": [
        {
          "output_type": "execute_result",
          "data": {
            "text/plain": [
              "Index(['user_id', 'age', 'tracktable_type', 'tracktable_name',\n",
              "       'tracktable_value_from', 'tracktable_value_to', 'Days', 'y', 'gender'],\n",
              "      dtype='object')"
            ]
          },
          "metadata": {
            "tags": []
          },
          "execution_count": 63
        }
      ]
    },
    {
      "cell_type": "code",
      "metadata": {
        "id": "FU1_CHJIyJ4N",
        "colab_type": "code",
        "colab": {}
      },
      "source": [
        "y_pred =KNN.predict(X_test)"
      ],
      "execution_count": 0,
      "outputs": []
    },
    {
      "cell_type": "code",
      "metadata": {
        "id": "i9zhBl3Lyprj",
        "colab_type": "code",
        "colab": {
          "base_uri": "https://localhost:8080/",
          "height": 35
        },
        "outputId": "22e8d349-e055-4a6f-a714-473c6050ba4b"
      },
      "source": [
        " print(\"the accuracy of the KNN model is  \", accuracy_score(y_test, y_pred))"
      ],
      "execution_count": 65,
      "outputs": [
        {
          "output_type": "stream",
          "text": [
            "the accuracy of the KNN model is   0.7082574978238506\n"
          ],
          "name": "stdout"
        }
      ]
    },
    {
      "cell_type": "code",
      "metadata": {
        "id": "d-jM25O8yry6",
        "colab_type": "code",
        "colab": {
          "base_uri": "https://localhost:8080/",
          "height": 361
        },
        "outputId": "de792591-2917-40d7-b06b-cb396ec31b25"
      },
      "source": [
        "cnf_matrix = metrics.confusion_matrix(y_test, y_pred,labels=[0,  1, 2])\n",
        "np.set_printoptions(precision=2)\n",
        "\n",
        "# Plot non-normalized confusion matrix\n",
        "plt.figure()\n",
        "plot_confusion_matrix(cnf_matrix, classes=[0,1,2],\n",
        "                      title='For KNN :Confusion matrix, with normalization')\n"
      ],
      "execution_count": 66,
      "outputs": [
        {
          "output_type": "stream",
          "text": [
            "Normalized confusion matrix\n",
            "[[0.59 0.15 0.26]\n",
            " [0.15 0.47 0.38]\n",
            " [0.05 0.07 0.88]]\n"
          ],
          "name": "stdout"
        },
        {
          "output_type": "display_data",
          "data": {
            "image/png": "[encoded data removed]",
            "text/plain": [
              "<Figure size 432x288 with 2 Axes>"
            ]
          },
          "metadata": {
            "tags": []
          }
        }
      ]
    },
    {
      "cell_type": "markdown",
      "metadata": {
        "id": "xjf-gJIJyueN",
        "colab_type": "text"
      },
      "source": [
        "### Support Vector Machine"
      ]
    },
    {
      "cell_type": "code",
      "metadata": {
        "id": "7iMzEDoGys8S",
        "colab_type": "code",
        "colab": {}
      },
      "source": [
        "y_pred =SVM.predict(X_test)"
      ],
      "execution_count": 0,
      "outputs": []
    },
    {
      "cell_type": "code",
      "metadata": {
        "id": "2S57pW15ys5O",
        "colab_type": "code",
        "colab": {
          "base_uri": "https://localhost:8080/",
          "height": 35
        },
        "outputId": "8996431c-1315-4e0e-da27-be9b6d1fa89b"
      },
      "source": [
        "print(\"the accuracy of the  SVM model is  \", accuracy_score(y_test, y_pred))"
      ],
      "execution_count": 68,
      "outputs": [
        {
          "output_type": "stream",
          "text": [
            "the accuracy of the  SVM model is   0.7531059586927277\n"
          ],
          "name": "stdout"
        }
      ]
    },
    {
      "cell_type": "code",
      "metadata": {
        "id": "z9eTFf6cys2m",
        "colab_type": "code",
        "colab": {
          "base_uri": "https://localhost:8080/",
          "height": 361
        },
        "outputId": "3b17e738-0bb2-4846-9c01-6c758a2ab13f"
      },
      "source": [
        "cnf_matrix = metrics.confusion_matrix(y_test, y_pred,labels=[0,  1, 2])\n",
        "np.set_printoptions(precision=2)\n",
        "\n",
        "# Plot non-normalized confusion matrix\n",
        "plt.figure()\n",
        "plot_confusion_matrix(cnf_matrix, classes=[0,1,2],\n",
        "                      title='For SVM :Confusion matrix, with  normalization')\n"
      ],
      "execution_count": 69,
      "outputs": [
        {
          "output_type": "stream",
          "text": [
            "Normalized confusion matrix\n",
            "[[0.61 0.12 0.27]\n",
            " [0.11 0.49 0.4 ]\n",
            " [0.02 0.04 0.95]]\n"
          ],
          "name": "stdout"
        },
        {
          "output_type": "display_data",
          "data": {
            "image/png": "[encoded data removed]",
            "text/plain": [
              "<Figure size 432x288 with 2 Axes>"
            ]
          },
          "metadata": {
            "tags": []
          }
        }
      ]
    },
    {
      "cell_type": "markdown",
      "metadata": {
        "id": "xLteM8x9agCe",
        "colab_type": "text"
      },
      "source": [
        "### Naive Bayes"
      ]
    },
    {
      "cell_type": "code",
      "metadata": {
        "id": "lyvH2pwPck4A",
        "colab_type": "code",
        "colab": {
          "base_uri": "https://localhost:8080/",
          "height": 35
        },
        "outputId": "e3d59a02-7e4b-42a6-c3db-d7d12939e244"
      },
      "source": [
        "from sklearn.naive_bayes import GaussianNB\n",
        "naive = GaussianNB()\n",
        "naive.fit(X_train, y_train)\n",
        "\n",
        "y_pred = naive.predict(X_test)\n",
        "\n",
        "print(\"the accuracy of the Naive model is: \", accuracy_score(y_test, y_pred))"
      ],
      "execution_count": 72,
      "outputs": [
        {
          "output_type": "stream",
          "text": [
            "the accuracy of the Naive model is:  0.9995449869431036\n"
          ],
          "name": "stdout"
        }
      ]
    },
    {
      "cell_type": "code",
      "metadata": {
        "id": "q7GGgVilafrC",
        "colab_type": "code",
        "colab": {
          "base_uri": "https://localhost:8080/",
          "height": 363
        },
        "outputId": "6d886e18-d619-4747-cd77-ba87e7184401"
      },
      "source": [
        "cnf_matrix = metrics.confusion_matrix(y_test, y_pred, labels = [0, 1, 2])\n",
        "np.set_printoptions(precision=2)\n",
        "\n",
        "# Plot non-normalized confusion matrix\n",
        "plt.figure()\n",
        "plot_confusion_matrix(cnf_matrix, classes=[0,1,2],\n",
        "title='For Naive :Confusion matrix, with normalization')"
      ],
      "execution_count": 73,
      "outputs": [
        {
          "output_type": "stream",
          "text": [
            "Normalized confusion matrix\n",
            "[[9.99e-01 5.54e-04 0.00e+00]\n",
            " [0.00e+00 1.00e+00 0.00e+00]\n",
            " [0.00e+00 6.22e-04 9.99e-01]]\n"
          ],
          "name": "stdout"
        },
        {
          "output_type": "display_data",
          "data": {
            "image/png": "[encoded data removed]",
            "text/plain": [
              "<Figure size 432x288 with 2 Axes>"
            ]
          },
          "metadata": {
            "tags": []
          }
        }
      ]
    },
    {
      "cell_type": "markdown",
      "metadata": {
        "id": "l5yJlsFRgfPm",
        "colab_type": "text"
      },
      "source": [
        "### Additional Questions\n",
        "\n",
        "Please answer the following questions:\n",
        "\n",
        "#### 1.   If you've explored the data, please describe your observations about the dataset.\n",
        "\n",
        "- The disease mostly affect women\n",
        "- People of 20-35 age seemed to be vulnerable to this disease \n",
        "- Top 4 countries from where we have large number of people with this disease diagnosed US, GB, CA, AU.\n",
        "- Country is not having the affect on the target(status), \n",
        "- Age also did not seem to be a strong factor in affecting the status of person.\n",
        "\n",
        "#### 2.   What approach (i.e. modeling & evaluation) did you use?\n",
        "\n",
        "- Used supervised machine learning algorithm (K nearest neighbor and Support Vector Machine) for modeling and accuracy score for its evaluation.\n",
        "- Also computed confusion matrix.\n",
        "- Also tried Naive Bayes for comparing the models\n",
        "\n",
        "#### 3.   What features have you tried (please also include the ones that you do not include in your final model)?\n",
        "\n",
        "I have used the following features in the model\n",
        "- Days\n",
        "- age\n",
        "- sex\n",
        "- trackable_type\n",
        "- trackable_name\n",
        "- trackable_value from and to\n",
        "\n",
        "Features that are not included in the model are\n",
        "- Country\n",
        "- trackable_type - treatment and weather\n",
        "\n",
        "I firmly believe that trackable_type - treatment is one important feature in predicting the severity of the disease, say it can boil down to the inference like, whether the particular treatment has improved the status of the patient or worsened. This largely contributes to various other decisions say, whether the treatment is effictive, it has to be continued or stopped immediately etc.\n",
        "\n",
        "#### 4.   What tradeoffs did you consider? Why did you use this approach?\n",
        "- I have almost used all the features except for 2 and built a model with a oretty decent accuracy. \n",
        "\n",
        "#### 5.   How would you improve your model if you had more time?\n",
        "- Converting categorical feature to one-hot vector (tried it)\n",
        "- Grouping of similar symptom into one category\n",
        "- Bringing the data in a format where there is one unique record per user_id and having considered all his symptoms, conditions, treatment and respective values (tried it but couldn't achieve the aimed data format)\n",
        "- Exploring the dataset more using aggregate function and including some handcrafted feature\n",
        "- Can also build a neural network and based on weights and loss function, we can classify the severity\n",
        "- Applying proper class_weight during the loss function\n",
        "- hyper parameter optimisation\n",
        "- For different values of K in KNN can be tried and accuracy can be compared to pick the best k value.\n",
        "- We can use different kernels for SVM to see see how the model performs and pick the best one\n",
        "- Now default kernel is used \n",
        "- Also, answering to the above question, feature selection can be performed and best set of features can be used for build models."
      ]
    },
    {
      "cell_type": "markdown",
      "metadata": {
        "id": "7Z4L2fL9giXs",
        "colab_type": "text"
      },
      "source": [
        "---------------------------------------------------------------------------------------------------------------------------------------------------------------------------------------------------------------------------"
      ]
    },
    {
      "cell_type": "markdown",
      "metadata": {
        "id": "FBlQr6h0gqjg",
        "colab_type": "text"
      },
      "source": [
        "## MISC Info\n",
        "\n",
        "##I am mentioning other approaches that I have used for this problem. This part can be \"ignored\" as well.\n"
      ]
    },
    {
      "cell_type": "markdown",
      "metadata": {
        "id": "6Hi7-9PaTwBK",
        "colab_type": "text"
      },
      "source": [
        "### Wrangling data to get various formats of dataframe and check which one suits better to build a model. This assignment has been challenging with resoect to data munging largely than building a model. 85% of the work done is purely related to data munging. I have tried to come up with different types of dataframe initally so that I can decide which one can be used to build a model and which one gives meaningful insights. Finally I went on to build the model on the DF2 (which is coped to dframe) dataframe. \n",
        "\n",
        "### In this below dataframe I have tried to include treatment variable as well. But the accuracy of the model didn't seem to improve and they were almost same for both KNN and SVM."
      ]
    },
    {
      "cell_type": "code",
      "metadata": {
        "id": "zSK-aX6xWJ-s",
        "colab_type": "code",
        "colab": {
          "base_uri": "https://localhost:8080/",
          "height": 202
        },
        "outputId": "139b2bb2-9cc5-4321-aa8a-1dad155482c7"
      },
      "source": [
        "dframe_final.head()"
      ],
      "execution_count": 74,
      "outputs": [
        {
          "output_type": "execute_result",
          "data": {
            "text/html": [
              "<div>\n",
              "<style scoped>\n",
              "    .dataframe tbody tr th:only-of-type {\n",
              "        vertical-align: middle;\n",
              "    }\n",
              "\n",
              "    .dataframe tbody tr th {\n",
              "        vertical-align: top;\n",
              "    }\n",
              "\n",
              "    .dataframe thead th {\n",
              "        text-align: right;\n",
              "    }\n",
              "</style>\n",
              "<table border=\"1\" class=\"dataframe\">\n",
              "  <thead>\n",
              "    <tr style=\"text-align: right;\">\n",
              "      <th></th>\n",
              "      <th>user_id</th>\n",
              "      <th>age</th>\n",
              "      <th>sex</th>\n",
              "      <th>country</th>\n",
              "      <th>status</th>\n",
              "      <th>tracktable_type</th>\n",
              "      <th>tracktable_name</th>\n",
              "      <th>tracktable_value_from</th>\n",
              "      <th>tracktable_value_to</th>\n",
              "      <th>Days</th>\n",
              "    </tr>\n",
              "  </thead>\n",
              "  <tbody>\n",
              "    <tr>\n",
              "      <th>0</th>\n",
              "      <td>897</td>\n",
              "      <td>21.0</td>\n",
              "      <td>female</td>\n",
              "      <td>US</td>\n",
              "      <td>SAME</td>\n",
              "      <td>Symptom</td>\n",
              "      <td>Back pain</td>\n",
              "      <td>4</td>\n",
              "      <td>4</td>\n",
              "      <td>1</td>\n",
              "    </tr>\n",
              "    <tr>\n",
              "      <th>1</th>\n",
              "      <td>1694</td>\n",
              "      <td>34.0</td>\n",
              "      <td>female</td>\n",
              "      <td>US</td>\n",
              "      <td>SAME</td>\n",
              "      <td>Condition</td>\n",
              "      <td>Depression</td>\n",
              "      <td>2</td>\n",
              "      <td>1</td>\n",
              "      <td>1</td>\n",
              "    </tr>\n",
              "    <tr>\n",
              "      <th>2</th>\n",
              "      <td>8680</td>\n",
              "      <td>32.0</td>\n",
              "      <td>female</td>\n",
              "      <td>US</td>\n",
              "      <td>WORSENED</td>\n",
              "      <td>Treatment</td>\n",
              "      <td>Seroquel</td>\n",
              "      <td>1 x 300.0mg</td>\n",
              "      <td>1 x 300.0mg</td>\n",
              "      <td>1</td>\n",
              "    </tr>\n",
              "    <tr>\n",
              "      <th>3</th>\n",
              "      <td>5486</td>\n",
              "      <td>24.0</td>\n",
              "      <td>other</td>\n",
              "      <td>US</td>\n",
              "      <td>SAME</td>\n",
              "      <td>Symptom</td>\n",
              "      <td>Stomach Pain</td>\n",
              "      <td>4</td>\n",
              "      <td>3</td>\n",
              "      <td>3</td>\n",
              "    </tr>\n",
              "    <tr>\n",
              "      <th>4</th>\n",
              "      <td>6750</td>\n",
              "      <td>26.0</td>\n",
              "      <td>female</td>\n",
              "      <td>AU</td>\n",
              "      <td>SAME</td>\n",
              "      <td>Weather</td>\n",
              "      <td>temperature_min</td>\n",
              "      <td>63.0</td>\n",
              "      <td>66.0</td>\n",
              "      <td>2</td>\n",
              "    </tr>\n",
              "  </tbody>\n",
              "</table>\n",
              "</div>"
            ],
            "text/plain": [
              "   user_id   age     sex  ... tracktable_value_from tracktable_value_to Days\n",
              "0      897  21.0  female  ...                     4                   4    1\n",
              "1     1694  34.0  female  ...                     2                   1    1\n",
              "2     8680  32.0  female  ...           1 x 300.0mg         1 x 300.0mg    1\n",
              "3     5486  24.0   other  ...                     4                   3    3\n",
              "4     6750  26.0  female  ...                  63.0                66.0    2\n",
              "\n",
              "[5 rows x 10 columns]"
            ]
          },
          "metadata": {
            "tags": []
          },
          "execution_count": 74
        }
      ]
    },
    {
      "cell_type": "code",
      "metadata": {
        "id": "caP279xTUTf3",
        "colab_type": "code",
        "colab": {}
      },
      "source": [
        "\"\"\"\n",
        "To extract each trackable_type into a seperate column, we are encoding the values of \"trackable_type\"\n",
        "\"\"\"\n",
        "# Get one hot encoding of columns \"tracktable_type\"\n",
        "one_hot = pd.get_dummies(dframe_final['tracktable_type'])\n",
        "# Drop column \"tracktable_type\" as it is now encoded\n",
        "dframe_final = dframe_final.drop('tracktable_type',axis = 1)\n",
        "# Join the encoded df\n",
        "dframe_final = dframe_final.join(one_hot)\n"
      ],
      "execution_count": 0,
      "outputs": []
    },
    {
      "cell_type": "code",
      "metadata": {
        "id": "OXmPwKxzWLEK",
        "colab_type": "code",
        "colab": {
          "base_uri": "https://localhost:8080/",
          "height": 222
        },
        "outputId": "6a910c53-8d52-4602-a7c2-327a2a75c14e"
      },
      "source": [
        "dframe_final.head()"
      ],
      "execution_count": 76,
      "outputs": [
        {
          "output_type": "execute_result",
          "data": {
            "text/html": [
              "<div>\n",
              "<style scoped>\n",
              "    .dataframe tbody tr th:only-of-type {\n",
              "        vertical-align: middle;\n",
              "    }\n",
              "\n",
              "    .dataframe tbody tr th {\n",
              "        vertical-align: top;\n",
              "    }\n",
              "\n",
              "    .dataframe thead th {\n",
              "        text-align: right;\n",
              "    }\n",
              "</style>\n",
              "<table border=\"1\" class=\"dataframe\">\n",
              "  <thead>\n",
              "    <tr style=\"text-align: right;\">\n",
              "      <th></th>\n",
              "      <th>user_id</th>\n",
              "      <th>age</th>\n",
              "      <th>sex</th>\n",
              "      <th>country</th>\n",
              "      <th>status</th>\n",
              "      <th>tracktable_name</th>\n",
              "      <th>tracktable_value_from</th>\n",
              "      <th>tracktable_value_to</th>\n",
              "      <th>Days</th>\n",
              "      <th>Condition</th>\n",
              "      <th>Symptom</th>\n",
              "      <th>Treatment</th>\n",
              "      <th>Weather</th>\n",
              "    </tr>\n",
              "  </thead>\n",
              "  <tbody>\n",
              "    <tr>\n",
              "      <th>0</th>\n",
              "      <td>897</td>\n",
              "      <td>21.0</td>\n",
              "      <td>female</td>\n",
              "      <td>US</td>\n",
              "      <td>SAME</td>\n",
              "      <td>Back pain</td>\n",
              "      <td>4</td>\n",
              "      <td>4</td>\n",
              "      <td>1</td>\n",
              "      <td>0</td>\n",
              "      <td>1</td>\n",
              "      <td>0</td>\n",
              "      <td>0</td>\n",
              "    </tr>\n",
              "    <tr>\n",
              "      <th>1</th>\n",
              "      <td>1694</td>\n",
              "      <td>34.0</td>\n",
              "      <td>female</td>\n",
              "      <td>US</td>\n",
              "      <td>SAME</td>\n",
              "      <td>Depression</td>\n",
              "      <td>2</td>\n",
              "      <td>1</td>\n",
              "      <td>1</td>\n",
              "      <td>1</td>\n",
              "      <td>0</td>\n",
              "      <td>0</td>\n",
              "      <td>0</td>\n",
              "    </tr>\n",
              "    <tr>\n",
              "      <th>2</th>\n",
              "      <td>8680</td>\n",
              "      <td>32.0</td>\n",
              "      <td>female</td>\n",
              "      <td>US</td>\n",
              "      <td>WORSENED</td>\n",
              "      <td>Seroquel</td>\n",
              "      <td>1 x 300.0mg</td>\n",
              "      <td>1 x 300.0mg</td>\n",
              "      <td>1</td>\n",
              "      <td>0</td>\n",
              "      <td>0</td>\n",
              "      <td>1</td>\n",
              "      <td>0</td>\n",
              "    </tr>\n",
              "    <tr>\n",
              "      <th>3</th>\n",
              "      <td>5486</td>\n",
              "      <td>24.0</td>\n",
              "      <td>other</td>\n",
              "      <td>US</td>\n",
              "      <td>SAME</td>\n",
              "      <td>Stomach Pain</td>\n",
              "      <td>4</td>\n",
              "      <td>3</td>\n",
              "      <td>3</td>\n",
              "      <td>0</td>\n",
              "      <td>1</td>\n",
              "      <td>0</td>\n",
              "      <td>0</td>\n",
              "    </tr>\n",
              "    <tr>\n",
              "      <th>4</th>\n",
              "      <td>6750</td>\n",
              "      <td>26.0</td>\n",
              "      <td>female</td>\n",
              "      <td>AU</td>\n",
              "      <td>SAME</td>\n",
              "      <td>temperature_min</td>\n",
              "      <td>63.0</td>\n",
              "      <td>66.0</td>\n",
              "      <td>2</td>\n",
              "      <td>0</td>\n",
              "      <td>0</td>\n",
              "      <td>0</td>\n",
              "      <td>1</td>\n",
              "    </tr>\n",
              "  </tbody>\n",
              "</table>\n",
              "</div>"
            ],
            "text/plain": [
              "   user_id   age     sex country  ... Condition Symptom Treatment Weather\n",
              "0      897  21.0  female      US  ...         0       1         0       0\n",
              "1     1694  34.0  female      US  ...         1       0         0       0\n",
              "2     8680  32.0  female      US  ...         0       0         1       0\n",
              "3     5486  24.0   other      US  ...         0       1         0       0\n",
              "4     6750  26.0  female      AU  ...         0       0         0       1\n",
              "\n",
              "[5 rows x 13 columns]"
            ]
          },
          "metadata": {
            "tags": []
          },
          "execution_count": 76
        }
      ]
    },
    {
      "cell_type": "markdown",
      "metadata": {
        "id": "4TyhLGFrWYHm",
        "colab_type": "text"
      },
      "source": [
        "### Let's see what sort of relationship each feature has got with the response variable"
      ]
    },
    {
      "cell_type": "code",
      "metadata": {
        "id": "frntD8QCWX02",
        "colab_type": "code",
        "colab": {
          "base_uri": "https://localhost:8080/",
          "height": 349
        },
        "outputId": "b110e2aa-0f3d-4c6a-de72-ed5a91883c29"
      },
      "source": [
        "plt.figure(figsize=(12,5))\n",
        "plt.title(\"status:IMPROVED\")\n",
        "df_ = dframe_final[dframe_final['status']=='IMPROVED'].reset_index(drop=True)\n",
        "df_['Days'].value_counts()[:5].plot(kind='bar')"
      ],
      "execution_count": 77,
      "outputs": [
        {
          "output_type": "execute_result",
          "data": {
            "text/plain": [
              "<matplotlib.axes._subplots.AxesSubplot at 0x7f125a96c828>"
            ]
          },
          "metadata": {
            "tags": []
          },
          "execution_count": 77
        },
        {
          "output_type": "display_data",
          "data": {
            "image/png": "[encoded data removed]",
            "text/plain": [
              "<Figure size 864x360 with 1 Axes>"
            ]
          },
          "metadata": {
            "tags": []
          }
        }
      ]
    },
    {
      "cell_type": "markdown",
      "metadata": {
        "id": "Zs8Cn2ThjuPP",
        "colab_type": "text"
      },
      "source": [
        "I thought that Number of days checked in could also be one of the potential feature in predicting the severity of the disease. Say, if more number of days the user has been check_in, then there could have been a better treatment with which the status of the disease could have either improved or in some cases remain the same without worsening. But the plots have no significance informatio about the relationship between number of days and status of disease."
      ]
    },
    {
      "cell_type": "code",
      "metadata": {
        "id": "JwQgLKxTWXxz",
        "colab_type": "code",
        "colab": {
          "base_uri": "https://localhost:8080/",
          "height": 349
        },
        "outputId": "307dc365-0c07-4aac-b019-0bac9bdd75ee"
      },
      "source": [
        "plt.figure(figsize=(12,5))\n",
        "plt.title(\"status:WORSENED\")\n",
        "df_ = dframe_final[dframe_final['status']=='WORSENED'].reset_index(drop=True)\n",
        "df_['Days'].value_counts()[:5].plot(kind='bar')"
      ],
      "execution_count": 78,
      "outputs": [
        {
          "output_type": "execute_result",
          "data": {
            "text/plain": [
              "<matplotlib.axes._subplots.AxesSubplot at 0x7f125a93e978>"
            ]
          },
          "metadata": {
            "tags": []
          },
          "execution_count": 78
        },
        {
          "output_type": "display_data",
          "data": {
            "image/png": "[encoded data removed]",
            "text/plain": [
              "<Figure size 864x360 with 1 Axes>"
            ]
          },
          "metadata": {
            "tags": []
          }
        }
      ]
    },
    {
      "cell_type": "code",
      "metadata": {
        "id": "iAkD-zxNWXtt",
        "colab_type": "code",
        "colab": {
          "base_uri": "https://localhost:8080/",
          "height": 349
        },
        "outputId": "44b6c083-497c-406c-bc39-e8fa510e0de7"
      },
      "source": [
        "plt.figure(figsize=(12,5))\n",
        "plt.title(\"status:SAME\")\n",
        "df_ = dframe_final[dframe_final['status']=='SAME'].reset_index(drop=True)\n",
        "df_['Days'].value_counts()[:5].plot(kind='bar')"
      ],
      "execution_count": 79,
      "outputs": [
        {
          "output_type": "execute_result",
          "data": {
            "text/plain": [
              "<matplotlib.axes._subplots.AxesSubplot at 0x7f125a9d5438>"
            ]
          },
          "metadata": {
            "tags": []
          },
          "execution_count": 79
        },
        {
          "output_type": "display_data",
          "data": {
            "image/png": "[encoded data removed]",
            "text/plain": [
              "<Figure size 864x360 with 1 Axes>"
            ]
          },
          "metadata": {
            "tags": []
          }
        }
      ]
    },
    {
      "cell_type": "markdown",
      "metadata": {
        "id": "AwNXS4a1Wuhr",
        "colab_type": "text"
      },
      "source": [
        "0 indicates that the treatment is not given, 1 indicates that the treatment is given. Surprisingly, even when treatment is given, the status imrpoved is less only."
      ]
    },
    {
      "cell_type": "code",
      "metadata": {
        "id": "PAh8Mln9WXra",
        "colab_type": "code",
        "colab": {
          "base_uri": "https://localhost:8080/",
          "height": 349
        },
        "outputId": "5a848fe2-62ae-444a-80bb-48231c0af919"
      },
      "source": [
        "plt.figure(figsize=(12,5))\n",
        "plt.title(\"when status is improved\")\n",
        "df_ = dframe_final[dframe_final['status']=='IMPROVED'].reset_index(drop=True)\n",
        "df_['Treatment'].value_counts().plot(kind='bar')"
      ],
      "execution_count": 80,
      "outputs": [
        {
          "output_type": "execute_result",
          "data": {
            "text/plain": [
              "<matplotlib.axes._subplots.AxesSubplot at 0x7f125a8ed748>"
            ]
          },
          "metadata": {
            "tags": []
          },
          "execution_count": 80
        },
        {
          "output_type": "display_data",
          "data": {
            "image/png": "[encoded data removed]",
            "text/plain": [
              "<Figure size 864x360 with 1 Axes>"
            ]
          },
          "metadata": {
            "tags": []
          }
        }
      ]
    },
    {
      "cell_type": "code",
      "metadata": {
        "id": "x5I2hjzHWXoJ",
        "colab_type": "code",
        "colab": {
          "base_uri": "https://localhost:8080/",
          "height": 349
        },
        "outputId": "8f0f3214-cf1d-4724-f4bb-1d67f7722eef"
      },
      "source": [
        "plt.figure(figsize=(12,5))\n",
        "plt.title(\"when status is worsed\")\n",
        "df_ = dframe_final[dframe_final['status']=='WORSENED'].reset_index(drop=True)\n",
        "df_['Treatment'].value_counts().plot(kind='bar')"
      ],
      "execution_count": 81,
      "outputs": [
        {
          "output_type": "execute_result",
          "data": {
            "text/plain": [
              "<matplotlib.axes._subplots.AxesSubplot at 0x7f125a8f6a20>"
            ]
          },
          "metadata": {
            "tags": []
          },
          "execution_count": 81
        },
        {
          "output_type": "display_data",
          "data": {
            "image/png": "[encoded data removed]",
            "text/plain": [
              "<Figure size 864x360 with 1 Axes>"
            ]
          },
          "metadata": {
            "tags": []
          }
        }
      ]
    },
    {
      "cell_type": "code",
      "metadata": {
        "id": "WR7PelPcWXlR",
        "colab_type": "code",
        "colab": {
          "base_uri": "https://localhost:8080/",
          "height": 369
        },
        "outputId": "0491fba2-ffca-4e1a-99d2-3409eeda2f56"
      },
      "source": [
        "# Bivariate plot\n",
        "sns.relplot(x=\"Days\", y=\"age\", hue=\"status\", data= dframe_final);"
      ],
      "execution_count": 83,
      "outputs": [
        {
          "output_type": "display_data",
          "data": {
            "image/png": "[encoded data removed]",
            "text/plain": [
              "<Figure size 454.5x360 with 1 Axes>"
            ]
          },
          "metadata": {
            "tags": []
          }
        }
      ]
    },
    {
      "cell_type": "markdown",
      "metadata": {
        "id": "X5wZKT0gdMYA",
        "colab_type": "text"
      },
      "source": [
        "Basically for treatment, `trackable_value_from` was not able to extract values (1 mg etc). So, in order to use it we are converting it float type"
      ]
    },
    {
      "cell_type": "code",
      "metadata": {
        "id": "pKSURQSkdJ7i",
        "colab_type": "code",
        "colab": {}
      },
      "source": [
        "import re\n",
        "def Convrt(df,col):\n",
        "    l = re.findall(r\"\\d+\",df[col])  \n",
        "    if len(l)>0:\n",
        "        result =1\n",
        "        for i in range(len(l)):\n",
        "            if i>1 and l[i]!=0:\n",
        "                result = result*float(l[i])     \n",
        "        return result*float(l[0])\n",
        "    else:\n",
        "        return df[col]"
      ],
      "execution_count": 0,
      "outputs": []
    },
    {
      "cell_type": "code",
      "metadata": {
        "id": "_Z1wX1y3dJ5C",
        "colab_type": "code",
        "colab": {}
      },
      "source": [
        "\"\"\"\n",
        "we are creating a empty dictionary\n",
        "if not prsent add the df[col] to gloabl dict and then return the value\n",
        "\"\"\"\n",
        "\n",
        "GLOBAL_dict={}\n",
        "Global_v = 1\n",
        "def Convert_str_value(df,col):\n",
        "    try :\n",
        "        v = float(df[col])\n",
        "        return v\n",
        "    except:\n",
        "        global Global_v\n",
        "        global GLOBAL_dict\n",
        "        if df[col].lower() in GLOBAL_dict.keys():\n",
        "            return GLOBAL_dict[df[col].lower()]\n",
        "        else:\n",
        "            GLOBAL_dict[df[col].lower()]=Global_v \n",
        "            Global_v=Global_v+1\n",
        "            return  GLOBAL_dict[df[col].lower()]"
      ],
      "execution_count": 0,
      "outputs": []
    },
    {
      "cell_type": "code",
      "metadata": {
        "id": "o5pbl4P1dJ1D",
        "colab_type": "code",
        "colab": {
          "base_uri": "https://localhost:8080/",
          "height": 202
        },
        "outputId": "cb2d0155-cf7b-4f43-db3b-d95e05e34698"
      },
      "source": [
        "train_subset2= dframe_final.copy()\n",
        "\n",
        "train_subset2['y'] = train_subset2.apply(encode_labels,axis=1)\n",
        "\n",
        "train_subset2['gender']= train_subset2.apply(encode_sex,axis=1)\n",
        "\n",
        "train_subset2.drop(['status','sex'],axis=1,inplace=True)\n",
        "\n",
        "train_subset2.head()"
      ],
      "execution_count": 100,
      "outputs": [
        {
          "output_type": "execute_result",
          "data": {
            "text/html": [
              "<div>\n",
              "<style scoped>\n",
              "    .dataframe tbody tr th:only-of-type {\n",
              "        vertical-align: middle;\n",
              "    }\n",
              "\n",
              "    .dataframe tbody tr th {\n",
              "        vertical-align: top;\n",
              "    }\n",
              "\n",
              "    .dataframe thead th {\n",
              "        text-align: right;\n",
              "    }\n",
              "</style>\n",
              "<table border=\"1\" class=\"dataframe\">\n",
              "  <thead>\n",
              "    <tr style=\"text-align: right;\">\n",
              "      <th></th>\n",
              "      <th>user_id</th>\n",
              "      <th>age</th>\n",
              "      <th>country</th>\n",
              "      <th>tracktable_name</th>\n",
              "      <th>tracktable_value_from</th>\n",
              "      <th>tracktable_value_to</th>\n",
              "      <th>Days</th>\n",
              "      <th>Condition</th>\n",
              "      <th>Symptom</th>\n",
              "      <th>Treatment</th>\n",
              "      <th>Weather</th>\n",
              "      <th>y</th>\n",
              "      <th>gender</th>\n",
              "    </tr>\n",
              "  </thead>\n",
              "  <tbody>\n",
              "    <tr>\n",
              "      <th>0</th>\n",
              "      <td>897</td>\n",
              "      <td>21.0</td>\n",
              "      <td>US</td>\n",
              "      <td>Back pain</td>\n",
              "      <td>4</td>\n",
              "      <td>4</td>\n",
              "      <td>1</td>\n",
              "      <td>0</td>\n",
              "      <td>1</td>\n",
              "      <td>0</td>\n",
              "      <td>0</td>\n",
              "      <td>2</td>\n",
              "      <td>0</td>\n",
              "    </tr>\n",
              "    <tr>\n",
              "      <th>1</th>\n",
              "      <td>1694</td>\n",
              "      <td>34.0</td>\n",
              "      <td>US</td>\n",
              "      <td>Depression</td>\n",
              "      <td>2</td>\n",
              "      <td>1</td>\n",
              "      <td>1</td>\n",
              "      <td>1</td>\n",
              "      <td>0</td>\n",
              "      <td>0</td>\n",
              "      <td>0</td>\n",
              "      <td>2</td>\n",
              "      <td>0</td>\n",
              "    </tr>\n",
              "    <tr>\n",
              "      <th>2</th>\n",
              "      <td>8680</td>\n",
              "      <td>32.0</td>\n",
              "      <td>US</td>\n",
              "      <td>Seroquel</td>\n",
              "      <td>1 x 300.0mg</td>\n",
              "      <td>1 x 300.0mg</td>\n",
              "      <td>1</td>\n",
              "      <td>0</td>\n",
              "      <td>0</td>\n",
              "      <td>1</td>\n",
              "      <td>0</td>\n",
              "      <td>1</td>\n",
              "      <td>0</td>\n",
              "    </tr>\n",
              "    <tr>\n",
              "      <th>3</th>\n",
              "      <td>5486</td>\n",
              "      <td>24.0</td>\n",
              "      <td>US</td>\n",
              "      <td>Stomach Pain</td>\n",
              "      <td>4</td>\n",
              "      <td>3</td>\n",
              "      <td>3</td>\n",
              "      <td>0</td>\n",
              "      <td>1</td>\n",
              "      <td>0</td>\n",
              "      <td>0</td>\n",
              "      <td>2</td>\n",
              "      <td>2</td>\n",
              "    </tr>\n",
              "    <tr>\n",
              "      <th>4</th>\n",
              "      <td>6750</td>\n",
              "      <td>26.0</td>\n",
              "      <td>AU</td>\n",
              "      <td>temperature_min</td>\n",
              "      <td>63.0</td>\n",
              "      <td>66.0</td>\n",
              "      <td>2</td>\n",
              "      <td>0</td>\n",
              "      <td>0</td>\n",
              "      <td>0</td>\n",
              "      <td>1</td>\n",
              "      <td>2</td>\n",
              "      <td>0</td>\n",
              "    </tr>\n",
              "  </tbody>\n",
              "</table>\n",
              "</div>"
            ],
            "text/plain": [
              "   user_id   age country  tracktable_name  ... Treatment Weather  y  gender\n",
              "0      897  21.0      US        Back pain  ...         0       0  2       0\n",
              "1     1694  34.0      US       Depression  ...         0       0  2       0\n",
              "2     8680  32.0      US         Seroquel  ...         1       0  1       0\n",
              "3     5486  24.0      US     Stomach Pain  ...         0       0  2       2\n",
              "4     6750  26.0      AU  temperature_min  ...         0       1  2       0\n",
              "\n",
              "[5 rows x 13 columns]"
            ]
          },
          "metadata": {
            "tags": []
          },
          "execution_count": 100
        }
      ]
    },
    {
      "cell_type": "code",
      "metadata": {
        "id": "c4KGqwBIdJzV",
        "colab_type": "code",
        "colab": {}
      },
      "source": [
        "train_subset2['tracktable_value_from'] = train_subset2['tracktable_value_from'].astype('str')\n",
        "train_subset2['from_value'] = train_subset2.apply( Convrt,args=['tracktable_value_from'],axis=1)"
      ],
      "execution_count": 0,
      "outputs": []
    },
    {
      "cell_type": "code",
      "metadata": {
        "id": "MjXZ6e1ydJv-",
        "colab_type": "code",
        "colab": {
          "base_uri": "https://localhost:8080/",
          "height": 711
        },
        "outputId": "7822af3b-20e8-4557-e34d-fc5da8ef4afa"
      },
      "source": [
        "train_subset2['from_value'].unique()"
      ],
      "execution_count": 102,
      "outputs": [
        {
          "output_type": "execute_result",
          "data": {
            "text/plain": [
              "array([4.0, 2.0, 0.0, 63.0, 1.0, 3.0, 'partly-cloudy-night', 'rain',\n",
              "       990.0, 40.0, 85.0, 'clear-day', 45.0, 1013.0, 82.0, 300.0, 77.0,\n",
              "       15.0, 10.0, 60.0, 20.0, 64.0, 75.0, 1020.0, 5.0, 'morning', 76.0,\n",
              "       70.0, 62.0, 94.0, 84.0, 100.0, 1012.0, 12.0, 30.0, 'as required',\n",
              "       325.0, 1016.0, 'imaginal exposure', 1008.0, 'partly-cloudy-day',\n",
              "       69.0, 74.0, 1000.0, 59.0, 81.0, 46.0, 73.0, 1014.0, 1500.0, 500.0,\n",
              "       1011.0, 1017.0, 68.0, 87.0, 71.0, 1015.0, 72.0, 55.0, 79.0, 6.0,\n",
              "       50.0, 1019.0, 86.0, 180.0, 58.0, 52.0, 57.0, 67.0, 2000.0, 53.0,\n",
              "       61.0, 83.0, 1027.0, 65.0, 600.0, 'snow', 56.0, 150.0, 'fog',\n",
              "       'all day', 50000.0, 90.0, 51.0, 24.0, 88.0, 200.0, 43.0, 1009.0,\n",
              "       33.0, 1007.0, 1010.0, 80.0, 1023.0, 38.0, 92.0, 1018.0, 17.0, 39.0,\n",
              "       25.0, 47.0, 32.0, 54.0, 800.0, 42.0, 1625.0, 35.0, 66.0, 91.0,\n",
              "       44.0, 8.0, 11.0, 31.0, 1029.0, 1026.0, 1022.0, 'All day', 49.0,\n",
              "       1006.0, 41.0, 250.0, 89.0, 1021.0, 36.0, 34.0, 95.0, 'right hand',\n",
              "       1030.0, 97.0, 18000.0, 1004.0, 1036.0, 93.0, 120.0, 21.0, 982.0,\n",
              "       16.0, 5000.0, 23.0, 96.0, 28.0, 1024.0, 375.0, 137.0, 78.0, 99.0,\n",
              "       3000.0, 'TIPP', 48.0, 996.0, 1025.0, 400.0, 'wind', 1003.0, 37.0,\n",
              "       1031.0, 'for mouth and lip cracks/outer', 'two sprays',\n",
              "       'left/right sides day and night', 22.0, 'cloudy', 136.0, 98.0,\n",
              "       125.0, 7.0, 1035.0, 1032.0, 1200.0, 148.0, 750.0, 305.0, 'right',\n",
              "       1001.0, 'As Required', 225.0, 1005.0, 112.0, 1028.0, 29.0, 999.0,\n",
              "       27.0, 450.0, 997.0, 'half dose', 'two', 'both', 995.0, 9.0, 360.0,\n",
              "       993.0, 26.0, 1002.0, 998.0, 18.0, 900.0, 13.0, 988.0, 101.0, 987.0,\n",
              "       'when required', 290.0, 'tea', 130.0, 880.0, 'everyday', 1033.0,\n",
              "       128.0, 991.0, 'twice', 'morn/Avo/Eve', 3987.0, 'walk', 1800.0,\n",
              "       'herbs', 1038.0, 'Lots Of Naps', 'Session', 989.0, 'As Req.',\n",
              "       550.0, 'short nap', 'distract, self-soothe, FACE', 'On back',\n",
              "       140.0, 298.0, 'followed', 'applied to left knee', 12025.0, 14.0,\n",
              "       'lg matcha smoothie', 4000.0, 994.0, 19.0, 105.0, 1037.0,\n",
              "       'shot, i', 820.0, 145.0, 102.0, 'allergy blend', 'As needed',\n",
              "       ' lots of napping', 'minful breathing', 1034.0, 992.0,\n",
              "       'staying in room away from others', 981.0, 650.0, 1043.0,\n",
              "       'Several times', 'imaginal exposure and in vivo exposure', 131.0,\n",
              "       'havent gotten up for a day ', 138.0, 10000.0, 118.0,\n",
              "       'meditation for sleep', 30000.0, 2500.0, 'Cream, as needed',\n",
              "       'Half day', 'ankle', 'Dentist', 'Bandage on wrists', 'morn,Avo',\n",
              "       973.0, 'Two Pumps', 'One spoonful', 1041.0, 'too much', 'linzess',\n",
              "       103.0, 'Daily Dose', 109.0, 986.0, 985.0, 'cut out zinc & B',\n",
              "       'Wrist bandages', 'Emergency', 106.0, 'High steps', 350.0],\n",
              "      dtype=object)"
            ]
          },
          "metadata": {
            "tags": []
          },
          "execution_count": 102
        }
      ]
    },
    {
      "cell_type": "code",
      "metadata": {
        "id": "OZEg7Xy4dJsx",
        "colab_type": "code",
        "colab": {}
      },
      "source": [
        "train_subset2['tracktable_value_to'] = train_subset2['tracktable_value_to'].astype('str')\n",
        "train_subset2['to_value'] = train_subset2.apply( Convrt,args=['tracktable_value_to'],axis=1)"
      ],
      "execution_count": 0,
      "outputs": []
    },
    {
      "cell_type": "code",
      "metadata": {
        "id": "ZCd5SsIQdJqX",
        "colab_type": "code",
        "colab": {
          "base_uri": "https://localhost:8080/",
          "height": 711
        },
        "outputId": "fbb67404-7fca-46c5-c9ac-42bea0bad51c"
      },
      "source": [
        "train_subset2['to_value'].unique()"
      ],
      "execution_count": 94,
      "outputs": [
        {
          "output_type": "execute_result",
          "data": {
            "text/plain": [
              "array([4.0, 1.0, 0.0, 3.0, 66.0, 2.0, 1000.0, 'rain',\n",
              "       'partly-cloudy-night', 1017.0, 40.0, 85.0, 'clear-day', 45.0,\n",
              "       1027.0, 76.0, 300.0, 77.0, 10.0, 60.0, 20.0, 65.0, 72.0, 5.0,\n",
              "       'morning', 84.0, 70.0, 15.0, 49.0, 94.0, 'partly-cloudy-day', 43.0,\n",
              "       100.0, 1010.0, 11.0, 30.0, 'as required', 1012.0, 325.0, 73.0,\n",
              "       'imaginal exposure', 53.0, 79.0, 74.0, 1019.0, 56.0, 89.0, 35.0,\n",
              "       51.0, 1022.0, 82.0, 1500.0, 500.0, 1024.0, 71.0, 75.0, 50.0, 91.0,\n",
              "       44.0, 6.0, 1015.0, 87.0, 180.0, 64.0, 69.0, 'fog', 2000.0, 1016.0,\n",
              "       78.0, 97.0, 48.0, 68.0, 83.0, 1025.0, 63.0, 600.0, 86.0, 81.0,\n",
              "       90.0, 39.0, 58.0, 67.0, 1014.0, 46.0, 62.0, 'all day', 50000.0,\n",
              "       88.0, 24.0, 200.0, 41.0, 1011.0, 1021.0, 1020.0, 1013.0, 1018.0,\n",
              "       150.0, 27.0, 38.0, 1005.0, 25.0, 55.0, 31.0, 52.0, 800.0, 1625.0,\n",
              "       80.0, 59.0, 54.0, 8.0, 1008.0, 1026.0, 1023.0, 7.0, 1009.0, 61.0,\n",
              "       'All day', 95.0, 125.0, 250.0, 37.0, 1007.0, 47.0, 'right hand',\n",
              "       1003.0, 99.0, 18000.0, 1032.0, 34.0, 120.0, 992.0, 993.0, 5000.0,\n",
              "       28.0, 375.0, 137.0, 'wind', 96.0, 1028.0, 42.0, 102.0, 57.0,\n",
              "       3000.0, 29.0, 989.0, 400.0, 1006.0, 999.0, 26.0,\n",
              "       'for mouth and lip cracks/outer', 92.0, 'two sprays',\n",
              "       'left/right sides day and night', 'snow', 12.0, 1029.0, 'TIPP',\n",
              "       36.0, 33.0, 93.0, 32.0, 1200.0, 1002.0, 148.0, 750.0, 298.0, 98.0,\n",
              "       305.0, 'right', 996.0, 'As Required', 225.0, 17.0, 1001.0, 1030.0,\n",
              "       995.0, 23.0, 19.0, 450.0, 1034.0, 'half dose', 1036.0, 21.0, 14.0,\n",
              "       22.0, 997.0, 'cloudy', 2400.0, 1004.0, 900.0, 13.0, 131.0,\n",
              "       'when required', 18.0, 1035.0, 990.0, 290.0, 4000.0, 9.0, 'herbs',\n",
              "       1031.0, 998.0, 'cut out zinc & B', 880.0, 'everyday', 136.0,\n",
              "       1038.0, 145.0, 1033.0, 'tea', 'morn/Avo/Eve', 3987.0,\n",
              "       'mindfulness', 'Session', 2500.0, 'As Req.', 16.0, 550.0,\n",
              "       ' lots of napping', 134.0, 140.0, 'On back', 'followed',\n",
              "       'applied to left knee', 12025.0, 'tincture', 994.0, 987.0, 'arava',\n",
              "       'shot, i', 820.0, 'short nap', 'as re', 'both', 103.0,\n",
              "       'allergy blend', 118.0, 'minful breathing', 991.0, 10000.0,\n",
              "       'staying in room away from others', 'morn,Avo', 245.0, 986.0,\n",
              "       650.0, 1040.0, 'hip', 128.0, 360.0, 1037.0, 30000.0, 'Emergency',\n",
              "       'Cream, as needed', 'twice daily', 'ankle', 'Dentist', 2700.0,\n",
              "       101.0, 'Wrist bandages', 1043.0, 'Lots Of Naps', 982.0, 985.0,\n",
              "       2275.0, 'As needed', 112.0, 973.0, 'meditation for sleep',\n",
              "       'imaginal exposure and in vivo exposure', 138.0, 175.0,\n",
              "       'havent gotten up for a day ', 'twice',\n",
              "       'distract, self-soothe, FACE', 'Half day', 'too much', 1800.0,\n",
              "       'two', 988.0, 'High steps', 350.0], dtype=object)"
            ]
          },
          "metadata": {
            "tags": []
          },
          "execution_count": 94
        }
      ]
    },
    {
      "cell_type": "code",
      "metadata": {
        "id": "jat4VdwAdJmF",
        "colab_type": "code",
        "colab": {}
      },
      "source": [
        "train_subset2['from_value'] = train_subset2.apply(Convert_str_value,args=['from_value'],axis=1)"
      ],
      "execution_count": 0,
      "outputs": []
    },
    {
      "cell_type": "code",
      "metadata": {
        "id": "g4YDPG8IdJjF",
        "colab_type": "code",
        "colab": {}
      },
      "source": [
        "train_subset2['to_value'] = train_subset2.apply(Convert_str_value,args=['to_value'],axis=1)"
      ],
      "execution_count": 0,
      "outputs": []
    },
    {
      "cell_type": "code",
      "metadata": {
        "id": "f2U4Vf0JfB5u",
        "colab_type": "code",
        "colab": {
          "base_uri": "https://localhost:8080/",
          "height": 222
        },
        "outputId": "34045044-36cd-40d7-d450-236e0a93f08e"
      },
      "source": [
        "#label encoding of tracktable name \n",
        "le_name = preprocessing.LabelEncoder() \n",
        "le_name.fit(train_subset2['tracktable_name'])\n",
        "train_subset2['tracktable_name']=le_name.transform(train_subset2['tracktable_name']) \n",
        "train_subset2.head()"
      ],
      "execution_count": 106,
      "outputs": [
        {
          "output_type": "execute_result",
          "data": {
            "text/html": [
              "<div>\n",
              "<style scoped>\n",
              "    .dataframe tbody tr th:only-of-type {\n",
              "        vertical-align: middle;\n",
              "    }\n",
              "\n",
              "    .dataframe tbody tr th {\n",
              "        vertical-align: top;\n",
              "    }\n",
              "\n",
              "    .dataframe thead th {\n",
              "        text-align: right;\n",
              "    }\n",
              "</style>\n",
              "<table border=\"1\" class=\"dataframe\">\n",
              "  <thead>\n",
              "    <tr style=\"text-align: right;\">\n",
              "      <th></th>\n",
              "      <th>user_id</th>\n",
              "      <th>age</th>\n",
              "      <th>country</th>\n",
              "      <th>tracktable_name</th>\n",
              "      <th>tracktable_value_from</th>\n",
              "      <th>tracktable_value_to</th>\n",
              "      <th>Days</th>\n",
              "      <th>Condition</th>\n",
              "      <th>Symptom</th>\n",
              "      <th>Treatment</th>\n",
              "      <th>Weather</th>\n",
              "      <th>y</th>\n",
              "      <th>gender</th>\n",
              "      <th>from_value</th>\n",
              "      <th>to_value</th>\n",
              "    </tr>\n",
              "  </thead>\n",
              "  <tbody>\n",
              "    <tr>\n",
              "      <th>0</th>\n",
              "      <td>897</td>\n",
              "      <td>21.0</td>\n",
              "      <td>US</td>\n",
              "      <td>156</td>\n",
              "      <td>4</td>\n",
              "      <td>4</td>\n",
              "      <td>1</td>\n",
              "      <td>0</td>\n",
              "      <td>1</td>\n",
              "      <td>0</td>\n",
              "      <td>0</td>\n",
              "      <td>2</td>\n",
              "      <td>0</td>\n",
              "      <td>4.0</td>\n",
              "      <td>4.0</td>\n",
              "    </tr>\n",
              "    <tr>\n",
              "      <th>1</th>\n",
              "      <td>1694</td>\n",
              "      <td>34.0</td>\n",
              "      <td>US</td>\n",
              "      <td>503</td>\n",
              "      <td>2</td>\n",
              "      <td>1</td>\n",
              "      <td>1</td>\n",
              "      <td>1</td>\n",
              "      <td>0</td>\n",
              "      <td>0</td>\n",
              "      <td>0</td>\n",
              "      <td>2</td>\n",
              "      <td>0</td>\n",
              "      <td>2.0</td>\n",
              "      <td>1.0</td>\n",
              "    </tr>\n",
              "    <tr>\n",
              "      <th>2</th>\n",
              "      <td>8680</td>\n",
              "      <td>32.0</td>\n",
              "      <td>US</td>\n",
              "      <td>1828</td>\n",
              "      <td>1 x 300.0mg</td>\n",
              "      <td>1 x 300.0mg</td>\n",
              "      <td>1</td>\n",
              "      <td>0</td>\n",
              "      <td>0</td>\n",
              "      <td>1</td>\n",
              "      <td>0</td>\n",
              "      <td>1</td>\n",
              "      <td>0</td>\n",
              "      <td>0.0</td>\n",
              "      <td>0.0</td>\n",
              "    </tr>\n",
              "    <tr>\n",
              "      <th>3</th>\n",
              "      <td>5486</td>\n",
              "      <td>24.0</td>\n",
              "      <td>US</td>\n",
              "      <td>1939</td>\n",
              "      <td>4</td>\n",
              "      <td>3</td>\n",
              "      <td>3</td>\n",
              "      <td>0</td>\n",
              "      <td>1</td>\n",
              "      <td>0</td>\n",
              "      <td>0</td>\n",
              "      <td>2</td>\n",
              "      <td>2</td>\n",
              "      <td>4.0</td>\n",
              "      <td>3.0</td>\n",
              "    </tr>\n",
              "    <tr>\n",
              "      <th>4</th>\n",
              "      <td>6750</td>\n",
              "      <td>26.0</td>\n",
              "      <td>AU</td>\n",
              "      <td>3228</td>\n",
              "      <td>63.0</td>\n",
              "      <td>66.0</td>\n",
              "      <td>2</td>\n",
              "      <td>0</td>\n",
              "      <td>0</td>\n",
              "      <td>0</td>\n",
              "      <td>1</td>\n",
              "      <td>2</td>\n",
              "      <td>0</td>\n",
              "      <td>63.0</td>\n",
              "      <td>66.0</td>\n",
              "    </tr>\n",
              "  </tbody>\n",
              "</table>\n",
              "</div>"
            ],
            "text/plain": [
              "   user_id   age country  tracktable_name  ...  y gender  from_value  to_value\n",
              "0      897  21.0      US              156  ...  2      0         4.0       4.0\n",
              "1     1694  34.0      US              503  ...  2      0         2.0       1.0\n",
              "2     8680  32.0      US             1828  ...  1      0         0.0       0.0\n",
              "3     5486  24.0      US             1939  ...  2      2         4.0       3.0\n",
              "4     6750  26.0      AU             3228  ...  2      0        63.0      66.0\n",
              "\n",
              "[5 rows x 15 columns]"
            ]
          },
          "metadata": {
            "tags": []
          },
          "execution_count": 106
        }
      ]
    },
    {
      "cell_type": "markdown",
      "metadata": {
        "id": "PKa4UzDrdx8k",
        "colab_type": "text"
      },
      "source": [
        "The above dataframe is one of the format from which I was trying to extract meaningful insights. But I had a difficulty of choosing between which one is the right format, without any guidance. The reason why I went with `DF2` is, the format matches the sample dataframe given and I took the sample_df as the basic dataframe."
      ]
    },
    {
      "cell_type": "markdown",
      "metadata": {
        "id": "1g34S-knMfkc",
        "colab_type": "text"
      },
      "source": [
        "## Another data wrangling approach is given below"
      ]
    },
    {
      "cell_type": "code",
      "metadata": {
        "id": "JmYCwS8QhSf3",
        "colab_type": "code",
        "colab": {}
      },
      "source": [
        "def value_(df):\n",
        "    try:\n",
        "        values_from_symptom={}\n",
        "        values_from_condition={}\n",
        "        values_from_treatment={}\n",
        "\n",
        "        common_symp={}\n",
        "        other_symp={}\n",
        "        v= df['entries_from'].replace(\"\\'\", \"\\\"\") \n",
        "        json1_data = json.loads(v) \n",
        "        \n",
        "        for j in json1_data:\n",
        "            if j['trackable_type']==\"Symptom\":\n",
        "                values_from_symptom[j['trackable_name']]=int(j['trackable_value'])\n",
        "\n",
        "            if j['trackable_type']==\"Conditon\":\n",
        "                values_from_condition[j['trackable_name']]=int(j['trackable_value'])\n",
        "            if j['trackable_type']==\"Treatment\":\n",
        "                values_from_treatment[j['trackable_name']]= (j['trackable_value'])\n",
        "\n",
        "\n",
        "\n",
        "        values_to_symptom={}\n",
        "        values_to_condition={}\n",
        "        values_to_treatment={}\n",
        "\n",
        "        v= df['entries_to'].replace(\"\\'\", \"\\\"\") \n",
        "\n",
        "        json1_data = json.loads(v) \n",
        "        for j in json1_data:\n",
        "            if j['trackable_type']==\"Symptom\":\n",
        "                values_to_symptom[j['trackable_name']]=int(j['trackable_value'])\n",
        "            if j['trackable_type']==\"Conditon\":\n",
        "                values_to_condition[j['trackable_name']]=int(j['trackable_value'])\n",
        "            if j['trackable_type']==\"Treatment\":\n",
        "                values_to_treatment[j['trackable_name']]= (j['trackable_value'])\n",
        "\n",
        "        return [values_from_symptom,values_from_condition,values_from_treatment,\n",
        "               values_to_symptom,values_to_condition,values_to_treatment]\n",
        "    except Exception as err:\n",
        "        # print(err)\n",
        "        return [np.nan]*6\n"
      ],
      "execution_count": 0,
      "outputs": []
    },
    {
      "cell_type": "code",
      "metadata": {
        "id": "2z-diPuFhV_G",
        "colab_type": "code",
        "colab": {}
      },
      "source": [
        "df['values'] = df.apply(value_,axis=1)"
      ],
      "execution_count": 0,
      "outputs": []
    },
    {
      "cell_type": "code",
      "metadata": {
        "id": "VCAT2nbnhY6c",
        "colab_type": "code",
        "colab": {}
      },
      "source": [
        "def values_dict(df,index):\n",
        "    return df['values'][index]"
      ],
      "execution_count": 0,
      "outputs": []
    },
    {
      "cell_type": "code",
      "metadata": {
        "id": "G6Oo22nKhY4a",
        "colab_type": "code",
        "colab": {}
      },
      "source": [
        "df['from:symp']=df.apply(values_dict,args=[0],axis=1)\n",
        "df['from:condition']=df.apply(values_dict,args=[1],axis=1)\n",
        "df['from:treatment']=df.apply(values_dict,args=[2],axis=1)\n",
        "df['to:symp']=df.apply(values_dict,args=[3],axis=1)\n",
        "df['to:condition']=df.apply(values_dict,args=[4],axis=1)\n",
        "df['to:treatment']=df.apply(values_dict,args=[5],axis=1)"
      ],
      "execution_count": 0,
      "outputs": []
    },
    {
      "cell_type": "code",
      "metadata": {
        "id": "_n0XtLZ2hY2i",
        "colab_type": "code",
        "colab": {}
      },
      "source": [
        "df_sub = df.dropna()\n",
        "df_sub.reset_index(drop=True,inplace=True)"
      ],
      "execution_count": 0,
      "outputs": []
    },
    {
      "cell_type": "markdown",
      "metadata": {
        "id": "CaFORPlkitB8",
        "colab_type": "text"
      },
      "source": [
        "![Dataframe](https://github.com/MounicaSubramanium/R-Language/blob/master/Capture.PNG)"
      ]
    }
  ]
}